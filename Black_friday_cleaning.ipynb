{
 "cells": [
  {
   "cell_type": "code",
   "execution_count": 2,
   "metadata": {},
   "outputs": [],
   "source": [
    "#importamos librerías\n",
    "from scipy import stats\n",
    "import numpy as np\n",
    "import pandas as pd\n",
    "import matplotlib.pyplot as plt"
   ]
  },
  {
   "cell_type": "code",
   "execution_count": 3,
   "metadata": {},
   "outputs": [
    {
     "data": {
      "text/html": [
       "<div>\n",
       "<style scoped>\n",
       "    .dataframe tbody tr th:only-of-type {\n",
       "        vertical-align: middle;\n",
       "    }\n",
       "\n",
       "    .dataframe tbody tr th {\n",
       "        vertical-align: top;\n",
       "    }\n",
       "\n",
       "    .dataframe thead th {\n",
       "        text-align: right;\n",
       "    }\n",
       "</style>\n",
       "<table border=\"1\" class=\"dataframe\">\n",
       "  <thead>\n",
       "    <tr style=\"text-align: right;\">\n",
       "      <th></th>\n",
       "      <th>User_ID</th>\n",
       "      <th>Product_ID</th>\n",
       "      <th>Gender</th>\n",
       "      <th>Age</th>\n",
       "      <th>Occupation</th>\n",
       "      <th>City_Category</th>\n",
       "      <th>Stay_In_Current_City_Years</th>\n",
       "      <th>Marital_Status</th>\n",
       "      <th>Product_Category_1</th>\n",
       "      <th>Product_Category_2</th>\n",
       "      <th>Product_Category_3</th>\n",
       "      <th>Purchase</th>\n",
       "    </tr>\n",
       "  </thead>\n",
       "  <tbody>\n",
       "    <tr>\n",
       "      <th>0</th>\n",
       "      <td>1000001</td>\n",
       "      <td>P00069042</td>\n",
       "      <td>F</td>\n",
       "      <td>0-17</td>\n",
       "      <td>10</td>\n",
       "      <td>A</td>\n",
       "      <td>2</td>\n",
       "      <td>0</td>\n",
       "      <td>3</td>\n",
       "      <td>NaN</td>\n",
       "      <td>NaN</td>\n",
       "      <td>8370</td>\n",
       "    </tr>\n",
       "    <tr>\n",
       "      <th>1</th>\n",
       "      <td>1000001</td>\n",
       "      <td>P00248942</td>\n",
       "      <td>F</td>\n",
       "      <td>0-17</td>\n",
       "      <td>10</td>\n",
       "      <td>A</td>\n",
       "      <td>2</td>\n",
       "      <td>0</td>\n",
       "      <td>1</td>\n",
       "      <td>6.0</td>\n",
       "      <td>14.0</td>\n",
       "      <td>15200</td>\n",
       "    </tr>\n",
       "    <tr>\n",
       "      <th>2</th>\n",
       "      <td>1000001</td>\n",
       "      <td>P00087842</td>\n",
       "      <td>F</td>\n",
       "      <td>0-17</td>\n",
       "      <td>10</td>\n",
       "      <td>A</td>\n",
       "      <td>2</td>\n",
       "      <td>0</td>\n",
       "      <td>12</td>\n",
       "      <td>NaN</td>\n",
       "      <td>NaN</td>\n",
       "      <td>1422</td>\n",
       "    </tr>\n",
       "    <tr>\n",
       "      <th>3</th>\n",
       "      <td>1000001</td>\n",
       "      <td>P00085442</td>\n",
       "      <td>F</td>\n",
       "      <td>0-17</td>\n",
       "      <td>10</td>\n",
       "      <td>A</td>\n",
       "      <td>2</td>\n",
       "      <td>0</td>\n",
       "      <td>12</td>\n",
       "      <td>14.0</td>\n",
       "      <td>NaN</td>\n",
       "      <td>1057</td>\n",
       "    </tr>\n",
       "    <tr>\n",
       "      <th>4</th>\n",
       "      <td>1000002</td>\n",
       "      <td>P00285442</td>\n",
       "      <td>M</td>\n",
       "      <td>55+</td>\n",
       "      <td>16</td>\n",
       "      <td>C</td>\n",
       "      <td>4+</td>\n",
       "      <td>0</td>\n",
       "      <td>8</td>\n",
       "      <td>NaN</td>\n",
       "      <td>NaN</td>\n",
       "      <td>7969</td>\n",
       "    </tr>\n",
       "  </tbody>\n",
       "</table>\n",
       "</div>"
      ],
      "text/plain": [
       "   User_ID Product_ID Gender   Age  Occupation City_Category  \\\n",
       "0  1000001  P00069042      F  0-17          10             A   \n",
       "1  1000001  P00248942      F  0-17          10             A   \n",
       "2  1000001  P00087842      F  0-17          10             A   \n",
       "3  1000001  P00085442      F  0-17          10             A   \n",
       "4  1000002  P00285442      M   55+          16             C   \n",
       "\n",
       "  Stay_In_Current_City_Years  Marital_Status  Product_Category_1  \\\n",
       "0                          2               0                   3   \n",
       "1                          2               0                   1   \n",
       "2                          2               0                  12   \n",
       "3                          2               0                  12   \n",
       "4                         4+               0                   8   \n",
       "\n",
       "   Product_Category_2  Product_Category_3  Purchase  \n",
       "0                 NaN                 NaN      8370  \n",
       "1                 6.0                14.0     15200  \n",
       "2                 NaN                 NaN      1422  \n",
       "3                14.0                 NaN      1057  \n",
       "4                 NaN                 NaN      7969  "
      ]
     },
     "execution_count": 3,
     "metadata": {},
     "output_type": "execute_result"
    }
   ],
   "source": [
    "#cargamos los datos\n",
    "black_data = pd.read_csv(\"BlackFriday.csv\")\n",
    "black_data.head()"
   ]
  },
  {
   "cell_type": "code",
   "execution_count": 4,
   "metadata": {},
   "outputs": [
    {
     "data": {
      "text/plain": [
       "User_ID                         int64\n",
       "Product_ID                     object\n",
       "Gender                         object\n",
       "Age                            object\n",
       "Occupation                      int64\n",
       "City_Category                  object\n",
       "Stay_In_Current_City_Years     object\n",
       "Marital_Status                  int64\n",
       "Product_Category_1              int64\n",
       "Product_Category_2            float64\n",
       "Product_Category_3            float64\n",
       "Purchase                        int64\n",
       "dtype: object"
      ]
     },
     "execution_count": 4,
     "metadata": {},
     "output_type": "execute_result"
    }
   ],
   "source": [
    "#visualizamos las variables numéricas de los datos\n",
    "black_data.describe()\n",
    "#verificamos los tipos de valor en cada celda\n",
    "black_data.dtypes"
   ]
  },
  {
   "cell_type": "code",
   "execution_count": 5,
   "metadata": {},
   "outputs": [
    {
     "data": {
      "text/plain": [
       "User_ID                          int64\n",
       "Product_ID                      object\n",
       "Gender                        category\n",
       "Age                           category\n",
       "Occupation                    category\n",
       "City_Category                 category\n",
       "Stay_In_Current_City_Years      object\n",
       "Marital_Status                category\n",
       "Product_Category_1            category\n",
       "Product_Category_2            category\n",
       "Product_Category_3            category\n",
       "Purchase                         int64\n",
       "dtype: object"
      ]
     },
     "execution_count": 5,
     "metadata": {},
     "output_type": "execute_result"
    }
   ],
   "source": [
    "cat_values = [\"Gender\", \"Age\", \"Occupation\", \"City_Category\", \"Marital_Status\", \"Product_Category_1\", \n",
    "              \"Product_Category_2\", \"Product_Category_3\"]\n",
    "for column in cat_values:\n",
    "    black_data[column] = black_data[column].astype('category')\n",
    "black_data.dtypes"
   ]
  },
  {
   "cell_type": "code",
   "execution_count": 6,
   "metadata": {},
   "outputs": [
    {
     "data": {
      "text/plain": [
       "User_ID                            0\n",
       "Product_ID                         0\n",
       "Gender                             0\n",
       "Age                                0\n",
       "Occupation                         0\n",
       "City_Category                      0\n",
       "Stay_In_Current_City_Years         0\n",
       "Marital_Status                     0\n",
       "Product_Category_1                 0\n",
       "Product_Category_2            166986\n",
       "Product_Category_3            373299\n",
       "Purchase                           0\n",
       "dtype: int64"
      ]
     },
     "execution_count": 6,
     "metadata": {},
     "output_type": "execute_result"
    }
   ],
   "source": [
    "#Suma de valores pérdidos en cada columna. Pandas reconoce tanto una celda vacía como el valor NA como NaN\n",
    "#https://towardsdatascience.com/data-cleaning-with-python-and-pandas-detecting-missing-values-3e9c6ebcf78b\n",
    "black_data.isnull().sum()"
   ]
  },
  {
   "cell_type": "code",
   "execution_count": 7,
   "metadata": {},
   "outputs": [
    {
     "data": {
      "text/plain": [
       "User_ID                            0\n",
       "Product_ID                         0\n",
       "Gender                             0\n",
       "Age                                0\n",
       "Occupation                         0\n",
       "City_Category                      0\n",
       "Stay_In_Current_City_Years         0\n",
       "Marital_Status                     0\n",
       "Product_Category_1                 0\n",
       "Product_Category_2            166986\n",
       "Product_Category_3            373299\n",
       "Purchase                           0\n",
       "dtype: int64"
      ]
     },
     "execution_count": 7,
     "metadata": {},
     "output_type": "execute_result"
    }
   ],
   "source": [
    "#verificamos si hay valores pérdidos con otras sintaxis\n",
    "#lista con valores NA comunes\n",
    "missing_values = [\"n/a\", \"na\", \"--\", \"Na\"]\n",
    "black_data = pd.read_csv(\"BlackFriday.csv\", na_values= missing_values)\n",
    "black_data.isnull().sum()"
   ]
  },
  {
   "cell_type": "code",
   "execution_count": 8,
   "metadata": {},
   "outputs": [
    {
     "data": {
      "text/html": [
       "<div>\n",
       "<style scoped>\n",
       "    .dataframe tbody tr th:only-of-type {\n",
       "        vertical-align: middle;\n",
       "    }\n",
       "\n",
       "    .dataframe tbody tr th {\n",
       "        vertical-align: top;\n",
       "    }\n",
       "\n",
       "    .dataframe thead th {\n",
       "        text-align: right;\n",
       "    }\n",
       "</style>\n",
       "<table border=\"1\" class=\"dataframe\">\n",
       "  <thead>\n",
       "    <tr style=\"text-align: right;\">\n",
       "      <th></th>\n",
       "      <th>User_ID</th>\n",
       "      <th>Occupation</th>\n",
       "      <th>Marital_Status</th>\n",
       "      <th>Product_Category_1</th>\n",
       "      <th>Product_Category_2</th>\n",
       "      <th>Product_Category_3</th>\n",
       "      <th>Purchase</th>\n",
       "    </tr>\n",
       "  </thead>\n",
       "  <tbody>\n",
       "    <tr>\n",
       "      <th>User_ID</th>\n",
       "      <td>1.000000</td>\n",
       "      <td>-0.023024</td>\n",
       "      <td>0.018732</td>\n",
       "      <td>0.003687</td>\n",
       "      <td>0.001471</td>\n",
       "      <td>0.004045</td>\n",
       "      <td>0.005389</td>\n",
       "    </tr>\n",
       "    <tr>\n",
       "      <th>Occupation</th>\n",
       "      <td>-0.023024</td>\n",
       "      <td>1.000000</td>\n",
       "      <td>0.024691</td>\n",
       "      <td>-0.008114</td>\n",
       "      <td>-0.000031</td>\n",
       "      <td>0.013452</td>\n",
       "      <td>0.021104</td>\n",
       "    </tr>\n",
       "    <tr>\n",
       "      <th>Marital_Status</th>\n",
       "      <td>0.018732</td>\n",
       "      <td>0.024691</td>\n",
       "      <td>1.000000</td>\n",
       "      <td>0.020546</td>\n",
       "      <td>0.015116</td>\n",
       "      <td>0.019452</td>\n",
       "      <td>0.000129</td>\n",
       "    </tr>\n",
       "    <tr>\n",
       "      <th>Product_Category_1</th>\n",
       "      <td>0.003687</td>\n",
       "      <td>-0.008114</td>\n",
       "      <td>0.020546</td>\n",
       "      <td>1.000000</td>\n",
       "      <td>0.540423</td>\n",
       "      <td>0.229490</td>\n",
       "      <td>-0.314125</td>\n",
       "    </tr>\n",
       "    <tr>\n",
       "      <th>Product_Category_2</th>\n",
       "      <td>0.001471</td>\n",
       "      <td>-0.000031</td>\n",
       "      <td>0.015116</td>\n",
       "      <td>0.540423</td>\n",
       "      <td>1.000000</td>\n",
       "      <td>0.543544</td>\n",
       "      <td>-0.209973</td>\n",
       "    </tr>\n",
       "    <tr>\n",
       "      <th>Product_Category_3</th>\n",
       "      <td>0.004045</td>\n",
       "      <td>0.013452</td>\n",
       "      <td>0.019452</td>\n",
       "      <td>0.229490</td>\n",
       "      <td>0.543544</td>\n",
       "      <td>1.000000</td>\n",
       "      <td>-0.022257</td>\n",
       "    </tr>\n",
       "    <tr>\n",
       "      <th>Purchase</th>\n",
       "      <td>0.005389</td>\n",
       "      <td>0.021104</td>\n",
       "      <td>0.000129</td>\n",
       "      <td>-0.314125</td>\n",
       "      <td>-0.209973</td>\n",
       "      <td>-0.022257</td>\n",
       "      <td>1.000000</td>\n",
       "    </tr>\n",
       "  </tbody>\n",
       "</table>\n",
       "</div>"
      ],
      "text/plain": [
       "                     User_ID  Occupation  Marital_Status  Product_Category_1  \\\n",
       "User_ID             1.000000   -0.023024        0.018732            0.003687   \n",
       "Occupation         -0.023024    1.000000        0.024691           -0.008114   \n",
       "Marital_Status      0.018732    0.024691        1.000000            0.020546   \n",
       "Product_Category_1  0.003687   -0.008114        0.020546            1.000000   \n",
       "Product_Category_2  0.001471   -0.000031        0.015116            0.540423   \n",
       "Product_Category_3  0.004045    0.013452        0.019452            0.229490   \n",
       "Purchase            0.005389    0.021104        0.000129           -0.314125   \n",
       "\n",
       "                    Product_Category_2  Product_Category_3  Purchase  \n",
       "User_ID                       0.001471            0.004045  0.005389  \n",
       "Occupation                   -0.000031            0.013452  0.021104  \n",
       "Marital_Status                0.015116            0.019452  0.000129  \n",
       "Product_Category_1            0.540423            0.229490 -0.314125  \n",
       "Product_Category_2            1.000000            0.543544 -0.209973  \n",
       "Product_Category_3            0.543544            1.000000 -0.022257  \n",
       "Purchase                     -0.209973           -0.022257  1.000000  "
      ]
     },
     "execution_count": 8,
     "metadata": {},
     "output_type": "execute_result"
    }
   ],
   "source": [
    "#verificamos la correlación entre variables para verificar si las variables con valores pérdidos tienen alguna \n",
    "#correlación alta con otra variables\n",
    "black_data.corr()"
   ]
  },
  {
   "cell_type": "code",
   "execution_count": 9,
   "metadata": {},
   "outputs": [
    {
     "data": {
      "text/plain": [
       "166986"
      ]
     },
     "execution_count": 9,
     "metadata": {},
     "output_type": "execute_result"
    }
   ],
   "source": [
    "#verificamos el nro de filas que tienen valores pérdidos en las 2 variables\n",
    "len(black_data[black_data['Product_Category_2'].isnull() & black_data['Product_Category_2'].isnull()])\n"
   ]
  },
  {
   "cell_type": "code",
   "execution_count": 10,
   "metadata": {},
   "outputs": [
    {
     "data": {
      "text/plain": [
       "<BarContainer object of 18 artists>"
      ]
     },
     "execution_count": 10,
     "metadata": {},
     "output_type": "execute_result"
    },
    {
     "data": {
      "image/png": "[encoded data removed]",
      "text/plain": [
       "<Figure size 432x288 with 1 Axes>"
      ]
     },
     "metadata": {
      "needs_background": "light"
     },
     "output_type": "display_data"
    }
   ],
   "source": [
    "#verificamos la distribución de Product_Category_1 para comparar con los valores pérdidos de Product_Category_2 y\n",
    "#Product_Category_3\n",
    "prod_1 = black_data['Product_ID'].groupby(black_data['Product_Category_1']).nunique()\n",
    "prod_2 = black_data['Product_ID'].groupby(black_data['Product_Category_2']).nunique()\n",
    "prod_3 = black_data['Product_ID'].groupby(black_data['Product_Category_2']).nunique()\n",
    "prod_1\n",
    "\n",
    "bins = np.sort(black_data['Product_Category_1'].unique())\n",
    "plt.xticks(bins)\n",
    "plt.title('Product_Category_1')\n",
    "plt.bar(bins, prod_1)"
   ]
  },
  {
   "cell_type": "code",
   "execution_count": 11,
   "metadata": {},
   "outputs": [
    {
     "data": {
      "text/plain": [
       "Product_Category_2\n",
       "2.0     127\n",
       "3.0      12\n",
       "4.0     146\n",
       "5.0     128\n",
       "6.0      60\n",
       "7.0       4\n",
       "8.0     353\n",
       "9.0      20\n",
       "10.0     14\n",
       "11.0     70\n",
       "12.0     45\n",
       "13.0     51\n",
       "14.0    317\n",
       "15.0    138\n",
       "16.0    221\n",
       "17.0     76\n",
       "18.0     18\n",
       "Name: Product_ID, dtype: int64"
      ]
     },
     "execution_count": 11,
     "metadata": {},
     "output_type": "execute_result"
    }
   ],
   "source": [
    "prod_2\n",
    "prod_3"
   ]
  },
  {
   "cell_type": "raw",
   "metadata": {},
   "source": [
    "Observamos que no hay categoría 0. Por tanto, asignaremos los valores pérdidos el valor 0 para identificar que no se conoce la categoría dentro del tipo de producto 2 y 3 al que pertenecen"
   ]
  },
  {
   "cell_type": "code",
   "execution_count": 12,
   "metadata": {},
   "outputs": [
    {
     "data": {
      "text/plain": [
       "User_ID                       0\n",
       "Product_ID                    0\n",
       "Gender                        0\n",
       "Age                           0\n",
       "Occupation                    0\n",
       "City_Category                 0\n",
       "Stay_In_Current_City_Years    0\n",
       "Marital_Status                0\n",
       "Product_Category_1            0\n",
       "Product_Category_2            0\n",
       "Product_Category_3            0\n",
       "Purchase                      0\n",
       "dtype: int64"
      ]
     },
     "execution_count": 12,
     "metadata": {},
     "output_type": "execute_result"
    }
   ],
   "source": [
    "#sustituimos los valores pérdidos de Product_category_2 y Product_Categori_3 por 0\n",
    "bf_data = black_data.fillna(0)\n",
    "bf_data.isnull().sum()"
   ]
  },
  {
   "cell_type": "code",
   "execution_count": 13,
   "metadata": {},
   "outputs": [
    {
     "data": {
      "text/plain": [
       "Text(0,0.5,'Purchase ($)')"
      ]
     },
     "execution_count": 13,
     "metadata": {},
     "output_type": "execute_result"
    },
    {
     "data": {
      "image/png": "[encoded data removed]",
      "text/plain": [
       "<Figure size 2160x720 with 1 Axes>"
      ]
     },
     "metadata": {
      "needs_background": "light"
     },
     "output_type": "display_data"
    }
   ],
   "source": [
    "#Representamos el gráfico de cajas de la variable \"Purchase\" y vemos que existen valores extremos \n",
    "plt.figure(figsize=[30,10])\n",
    "plt.subplot(231)\n",
    "cajas = plt.boxplot(x=bf_data['Purchase'], showmeans = True, meanline = True)\n",
    "plt.title('Purchase Boxplot')\n",
    "plt.ylabel('Purchase ($)')"
   ]
  },
  {
   "cell_type": "code",
   "execution_count": 14,
   "metadata": {},
   "outputs": [
    {
     "name": "stdout",
     "output_type": "stream",
     "text": [
      "Num. extremos 2665\n",
      "Num. total 537577\n",
      "Num. sin extremos 534912\n"
     ]
    }
   ],
   "source": [
    "# Almacenamos los valores extremos en una lista\n",
    "outliers = list(cajas[\"fliers\"][0].get_data()[1])\n",
    "\n",
    "# Comprobamos la longitud para ver cuántos registros se consideran extremos.\n",
    "print \"Num. extremos\", len(outliers)\n",
    "print \"Num. total\", len(bf_data)\n",
    "\n",
    "# Borramos los datos extremos\n",
    "bf_data = bf_data[~bf_data.Purchase.isin(outliers)]\n",
    "\n",
    "# Comparamos las longitudes antes y después\n",
    "print \"Num. sin extremos\", len(bf_data)"
   ]
  },
  {
   "cell_type": "code",
   "execution_count": 15,
   "metadata": {},
   "outputs": [
    {
     "name": "stdout",
     "output_type": "stream",
     "text": [
      "Número de valores distintos: \n",
      "\n",
      "User_ID : 5891\n",
      "Product_ID : 3623\n",
      "Gender : 2\n",
      "Age : 7\n",
      "Occupation : 21\n",
      "City_Category : 3\n",
      "Stay_In_Current_City_Years : 5\n",
      "Marital_Status : 2\n",
      "Product_Category_1 : 18\n",
      "Product_Category_2 : 18\n",
      "Product_Category_3 : 16\n",
      "Purchase : 16928\n",
      "\n",
      "Tipo de datos: \n",
      "\n",
      "<class 'pandas.core.frame.DataFrame'>\n",
      "Int64Index: 534912 entries, 0 to 537576\n",
      "Data columns (total 12 columns):\n",
      "User_ID                       534912 non-null int64\n",
      "Product_ID                    534912 non-null object\n",
      "Gender                        534912 non-null object\n",
      "Age                           534912 non-null object\n",
      "Occupation                    534912 non-null int64\n",
      "City_Category                 534912 non-null object\n",
      "Stay_In_Current_City_Years    534912 non-null object\n",
      "Marital_Status                534912 non-null int64\n",
      "Product_Category_1            534912 non-null int64\n",
      "Product_Category_2            534912 non-null float64\n",
      "Product_Category_3            534912 non-null float64\n",
      "Purchase                      534912 non-null int64\n",
      "dtypes: float64(2), int64(5), object(5)\n",
      "memory usage: 53.1+ MB\n",
      "None\n",
      "\n",
      "Matriz de covarianzas: \n",
      "\n"
     ]
    },
    {
     "data": {
      "text/html": [
       "<div>\n",
       "<style scoped>\n",
       "    .dataframe tbody tr th:only-of-type {\n",
       "        vertical-align: middle;\n",
       "    }\n",
       "\n",
       "    .dataframe tbody tr th {\n",
       "        vertical-align: top;\n",
       "    }\n",
       "\n",
       "    .dataframe thead th {\n",
       "        text-align: right;\n",
       "    }\n",
       "</style>\n",
       "<table border=\"1\" class=\"dataframe\">\n",
       "  <thead>\n",
       "    <tr style=\"text-align: right;\">\n",
       "      <th></th>\n",
       "      <th>User_ID</th>\n",
       "      <th>Occupation</th>\n",
       "      <th>Marital_Status</th>\n",
       "      <th>Product_Category_1</th>\n",
       "      <th>Product_Category_2</th>\n",
       "      <th>Product_Category_3</th>\n",
       "      <th>Purchase</th>\n",
       "    </tr>\n",
       "  </thead>\n",
       "  <tbody>\n",
       "    <tr>\n",
       "      <th>User_ID</th>\n",
       "      <td>2.938243e+06</td>\n",
       "      <td>-259.157409</td>\n",
       "      <td>15.673851</td>\n",
       "      <td>22.231876</td>\n",
       "      <td>34.977127</td>\n",
       "      <td>44.180688</td>\n",
       "      <td>3.995448e+04</td>\n",
       "    </tr>\n",
       "    <tr>\n",
       "      <th>Occupation</th>\n",
       "      <td>-2.591574e+02</td>\n",
       "      <td>42.551512</td>\n",
       "      <td>0.078639</td>\n",
       "      <td>-0.212696</td>\n",
       "      <td>0.268939</td>\n",
       "      <td>0.488749</td>\n",
       "      <td>6.621299e+02</td>\n",
       "    </tr>\n",
       "    <tr>\n",
       "      <th>Marital_Status</th>\n",
       "      <td>1.567385e+01</td>\n",
       "      <td>0.078639</td>\n",
       "      <td>0.241651</td>\n",
       "      <td>0.037164</td>\n",
       "      <td>0.002677</td>\n",
       "      <td>-0.013706</td>\n",
       "      <td>-2.118050e+00</td>\n",
       "    </tr>\n",
       "    <tr>\n",
       "      <th>Product_Category_1</th>\n",
       "      <td>2.223188e+01</td>\n",
       "      <td>-0.212696</td>\n",
       "      <td>0.037164</td>\n",
       "      <td>13.981018</td>\n",
       "      <td>-1.081807</td>\n",
       "      <td>-9.175687</td>\n",
       "      <td>-6.262855e+03</td>\n",
       "    </tr>\n",
       "    <tr>\n",
       "      <th>Product_Category_2</th>\n",
       "      <td>3.497713e+01</td>\n",
       "      <td>0.268939</td>\n",
       "      <td>0.002677</td>\n",
       "      <td>-1.081807</td>\n",
       "      <td>38.481980</td>\n",
       "      <td>3.506119</td>\n",
       "      <td>8.125750e+02</td>\n",
       "    </tr>\n",
       "    <tr>\n",
       "      <th>Product_Category_3</th>\n",
       "      <td>4.418069e+01</td>\n",
       "      <td>0.488749</td>\n",
       "      <td>-0.013706</td>\n",
       "      <td>-9.175687</td>\n",
       "      <td>3.506119</td>\n",
       "      <td>39.227552</td>\n",
       "      <td>8.913526e+03</td>\n",
       "    </tr>\n",
       "    <tr>\n",
       "      <th>Purchase</th>\n",
       "      <td>3.995448e+04</td>\n",
       "      <td>662.129868</td>\n",
       "      <td>-2.118050</td>\n",
       "      <td>-6262.854928</td>\n",
       "      <td>812.574982</td>\n",
       "      <td>8913.525816</td>\n",
       "      <td>2.396630e+07</td>\n",
       "    </tr>\n",
       "  </tbody>\n",
       "</table>\n",
       "</div>"
      ],
      "text/plain": [
       "                         User_ID  Occupation  Marital_Status  \\\n",
       "User_ID             2.938243e+06 -259.157409       15.673851   \n",
       "Occupation         -2.591574e+02   42.551512        0.078639   \n",
       "Marital_Status      1.567385e+01    0.078639        0.241651   \n",
       "Product_Category_1  2.223188e+01   -0.212696        0.037164   \n",
       "Product_Category_2  3.497713e+01    0.268939        0.002677   \n",
       "Product_Category_3  4.418069e+01    0.488749       -0.013706   \n",
       "Purchase            3.995448e+04  662.129868       -2.118050   \n",
       "\n",
       "                    Product_Category_1  Product_Category_2  \\\n",
       "User_ID                      22.231876           34.977127   \n",
       "Occupation                   -0.212696            0.268939   \n",
       "Marital_Status                0.037164            0.002677   \n",
       "Product_Category_1           13.981018           -1.081807   \n",
       "Product_Category_2           -1.081807           38.481980   \n",
       "Product_Category_3           -9.175687            3.506119   \n",
       "Purchase                  -6262.854928          812.574982   \n",
       "\n",
       "                    Product_Category_3      Purchase  \n",
       "User_ID                      44.180688  3.995448e+04  \n",
       "Occupation                    0.488749  6.621299e+02  \n",
       "Marital_Status               -0.013706 -2.118050e+00  \n",
       "Product_Category_1           -9.175687 -6.262855e+03  \n",
       "Product_Category_2            3.506119  8.125750e+02  \n",
       "Product_Category_3           39.227552  8.913526e+03  \n",
       "Purchase                   8913.525816  2.396630e+07  "
      ]
     },
     "execution_count": 15,
     "metadata": {},
     "output_type": "execute_result"
    }
   ],
   "source": [
    "# (solo informativo)\n",
    "\n",
    "# Número de valores diferentes por campo\n",
    "print('Número de valores distintos: \\n')\n",
    "for i in bf_data.columns:\n",
    "    print i, ':',bf_data[i].nunique()\n",
    "    \n",
    "# Tipo de datos de cada campo\n",
    "print('\\nTipo de datos: \\n')\n",
    "print (bf_data.info())\n",
    "\n",
    "# Matriz de covarianzas \n",
    "print('\\nMatriz de covarianzas: \\n')\n",
    "bf_data.cov()"
   ]
  },
  {
   "cell_type": "markdown",
   "metadata": {},
   "source": [
    "# Análisis de datos"
   ]
  },
  {
   "cell_type": "markdown",
   "metadata": {},
   "source": [
    "## Selección de los grupos de datos que se quieren analizar/comparar (planificación de los análisis a aplicar)"
   ]
  },
  {
   "cell_type": "code",
   "execution_count": 12,
   "metadata": {},
   "outputs": [
    {
     "data": {
      "text/plain": [
       "User_ID                          int64\n",
       "Product_ID                      object\n",
       "Gender                        category\n",
       "Age                           category\n",
       "Occupation                    category\n",
       "City_Category                 category\n",
       "Stay_In_Current_City_Years      object\n",
       "Marital_Status                category\n",
       "Product_Category_1            category\n",
       "Product_Category_2            category\n",
       "Product_Category_3            category\n",
       "Purchase                         int64\n",
       "dtype: object"
      ]
     },
     "execution_count": 12,
     "metadata": {},
     "output_type": "execute_result"
    }
   ],
   "source": [
    "for column in cat_values:\n",
    "    bf_data[column] = bf_data[column].astype('category')\n",
    "bf_data.dtypes"
   ]
  },
  {
   "cell_type": "code",
   "execution_count": 13,
   "metadata": {},
   "outputs": [
    {
     "data": {
      "text/html": [
       "<div>\n",
       "<style scoped>\n",
       "    .dataframe tbody tr th:only-of-type {\n",
       "        vertical-align: middle;\n",
       "    }\n",
       "\n",
       "    .dataframe tbody tr th {\n",
       "        vertical-align: top;\n",
       "    }\n",
       "\n",
       "    .dataframe thead th {\n",
       "        text-align: right;\n",
       "    }\n",
       "</style>\n",
       "<table border=\"1\" class=\"dataframe\">\n",
       "  <thead>\n",
       "    <tr style=\"text-align: right;\">\n",
       "      <th></th>\n",
       "      <th>User_ID</th>\n",
       "      <th>Purchase</th>\n",
       "    </tr>\n",
       "  </thead>\n",
       "  <tbody>\n",
       "    <tr>\n",
       "      <th>count</th>\n",
       "      <td>5.375770e+05</td>\n",
       "      <td>537577.000000</td>\n",
       "    </tr>\n",
       "    <tr>\n",
       "      <th>mean</th>\n",
       "      <td>1.002992e+06</td>\n",
       "      <td>9333.859853</td>\n",
       "    </tr>\n",
       "    <tr>\n",
       "      <th>std</th>\n",
       "      <td>1.714393e+03</td>\n",
       "      <td>4981.022133</td>\n",
       "    </tr>\n",
       "    <tr>\n",
       "      <th>min</th>\n",
       "      <td>1.000001e+06</td>\n",
       "      <td>185.000000</td>\n",
       "    </tr>\n",
       "    <tr>\n",
       "      <th>25%</th>\n",
       "      <td>1.001495e+06</td>\n",
       "      <td>5866.000000</td>\n",
       "    </tr>\n",
       "    <tr>\n",
       "      <th>50%</th>\n",
       "      <td>1.003031e+06</td>\n",
       "      <td>8062.000000</td>\n",
       "    </tr>\n",
       "    <tr>\n",
       "      <th>75%</th>\n",
       "      <td>1.004417e+06</td>\n",
       "      <td>12073.000000</td>\n",
       "    </tr>\n",
       "    <tr>\n",
       "      <th>max</th>\n",
       "      <td>1.006040e+06</td>\n",
       "      <td>23961.000000</td>\n",
       "    </tr>\n",
       "  </tbody>\n",
       "</table>\n",
       "</div>"
      ],
      "text/plain": [
       "            User_ID       Purchase\n",
       "count  5.375770e+05  537577.000000\n",
       "mean   1.002992e+06    9333.859853\n",
       "std    1.714393e+03    4981.022133\n",
       "min    1.000001e+06     185.000000\n",
       "25%    1.001495e+06    5866.000000\n",
       "50%    1.003031e+06    8062.000000\n",
       "75%    1.004417e+06   12073.000000\n",
       "max    1.006040e+06   23961.000000"
      ]
     },
     "execution_count": 13,
     "metadata": {},
     "output_type": "execute_result"
    }
   ],
   "source": [
    "#análisis estadístico descriptivo\n",
    "bf_data.describe()"
   ]
  },
  {
   "cell_type": "markdown",
   "metadata": {},
   "source": [
    "Observamos que la única variable continua es Purchase. Al utilizar el comando describe observamos también User_ID, pero en este caso al ser la identificación del usuario no tiene sentido los resultados que se indican de las medidas estadísticas de tendencia central y de dispersión."
   ]
  },
  {
   "cell_type": "markdown",
   "metadata": {},
   "source": [
    "## Comprobación de la normalidad y homogeneidad de la varianza "
   ]
  },
  {
   "cell_type": "raw",
   "metadata": {},
   "source": [
    "Como la mayoría de las variables son categóricas, analizaremos la comprobación de normalidad sobre el subset de Purchase que corresponde a las variables categóricas que consideramos relevantes.  "
   ]
  },
  {
   "cell_type": "code",
   "execution_count": 14,
   "metadata": {},
   "outputs": [
    {
     "data": {
      "text/plain": [
       "(array([ 32175.,  57237., 130109., 104444.,  79179.,  24980.,  63928.,\n",
       "         13437.,  29772.,   2316.]),\n",
       " array([  185. ,  2562.6,  4940.2,  7317.8,  9695.4, 12073. , 14450.6,\n",
       "        16828.2, 19205.8, 21583.4, 23961. ]),\n",
       " <a list of 10 Patch objects>)"
      ]
     },
     "execution_count": 14,
     "metadata": {},
     "output_type": "execute_result"
    },
    {
     "data": {
      "image/png": "[encoded data removed]",
      "text/plain": [
       "<Figure size 432x288 with 1 Axes>"
      ]
     },
     "metadata": {
      "needs_background": "light"
     },
     "output_type": "display_data"
    }
   ],
   "source": [
    "#visualizamos la distribución de la variable Purchase\n",
    "plt.hist(bf_data['Purchase'])"
   ]
  },
  {
   "cell_type": "raw",
   "metadata": {},
   "source": [
    "El histograma de la variable Purchase prevee que esta variable no sea normal, aplicamos el test shapiro para esta variable y otros subsets de diferentes categorías  "
   ]
  },
  {
   "cell_type": "code",
   "execution_count": 15,
   "metadata": {},
   "outputs": [
    {
     "data": {
      "text/plain": [
       "(0.9529308080673218, 2.2448276752338526e-37)"
      ]
     },
     "execution_count": 15,
     "metadata": {},
     "output_type": "execute_result"
    }
   ],
   "source": [
    "#Aplicamos el test shapiro sobre una muestra porque en la primera prueba obtenemos una advertencia de que el resultado \n",
    "#de p-value no es preciso para muestras mayores a 5000\n",
    "stats.shapiro(bf_data['Purchase'].sample(n=5000, random_state=1))"
   ]
  },
  {
   "cell_type": "raw",
   "metadata": {},
   "source": [
    "Podemos concluir que la variable Purchase no es normal porque el p-value <0.05. Por tanto, se rechaza la hipótesis nula."
   ]
  },
  {
   "cell_type": "code",
   "execution_count": 16,
   "metadata": {},
   "outputs": [
    {
     "name": "stdout",
     "output_type": "stream",
     "text": [
      "la variable no es normal\n"
     ]
    }
   ],
   "source": [
    "#Analizamos la normalidad de la variable Purchase sobre las muestras de hombres y mujeres\n",
    "purch_female = stats.shapiro(bf_data['Purchase'][bf_data['Gender']=='F'].sample(n=4000, random_state =1))\n",
    "purch_male = stats.shapiro(bf_data['Purchase'][bf_data['Gender']=='M'].sample(n=4000, random_state =1))\n",
    "if purch_female[1]<0.05:\n",
    "    print (\"la variable no es normal\")\n",
    "else:\n",
    "    print (\"la variable es normal\")"
   ]
  },
  {
   "cell_type": "code",
   "execution_count": 17,
   "metadata": {},
   "outputs": [
    {
     "name": "stdout",
     "output_type": "stream",
     "text": [
      "{'GenderF': 4.860132656335689e-37}\n",
      "{'GenderM': 1.622617137044561e-33}\n",
      "{'Age0-17': 5.367863269783801e-34}\n",
      "{'Age55+': 4.00766833593923e-35}\n",
      "{'Age26-35': 1.563721162210207e-35}\n",
      "{'Age46-50': 1.515031072693757e-34}\n",
      "{'Age51-55': 9.342797876266847e-34}\n",
      "{'Age36-45': 2.411296612794047e-34}\n",
      "{'Age18-25': 1.1716942266898624e-35}\n",
      "{'City_CategoryA': 1.5349875573779245e-35}\n",
      "{'City_CategoryC': 3.27519863528204e-34}\n",
      "{'City_CategoryB': 1.7345011772318997e-35}\n",
      "{'Marital_Status0': 3.9950443990486123e-35}\n",
      "{'Marital_Status1': 2.230614751083637e-35}\n"
     ]
    }
   ],
   "source": [
    "#Analizamos la normalidad de la variable Purchase sobre las muestras de las variables Gender, Age, \n",
    "#City_category y Marital_Status\n",
    "\n",
    "bf_data['Marital_Status'] = bf_data['Marital_Status'].astype('string')\n",
    "data_select = ['Gender', 'Age', 'City_Category', 'Marital_Status']\n",
    "for value in data_select:\n",
    "    var = bf_data[value].unique()\n",
    "    for i in range(len(var)):\n",
    "        shap_num = stats.shapiro(bf_data['Purchase'][bf_data[value]==var[i]].sample(n=4000, random_state =1))\n",
    "        shap_dict = {value +  var[i]: shap_num[1]}\n",
    "        print shap_dict\n",
    "        "
   ]
  },
  {
   "cell_type": "raw",
   "metadata": {},
   "source": [
    "Observamos que la variable Purchase con respecto a las variables 'Gender', 'Age', 'City_Category', 'Marital_Status' presenta una distribución no normal. Sin embargo, como la muestra es grande podemos aplicar el teorema del límite central para asumir normalidad."
   ]
  },
  {
   "cell_type": "code",
   "execution_count": 18,
   "metadata": {},
   "outputs": [
    {
     "name": "stdout",
     "output_type": "stream",
     "text": [
      "{'GenderF': 'se rechaza hip\\xc3\\xb3tesis nula de homosteceidad'}\n",
      "{'GenderM': 'se rechaza hip\\xc3\\xb3tesis nula de homosteceidad'}\n",
      "{'Age0-17': 'se rechaza hip\\xc3\\xb3tesis nula de homosteceidad'}\n",
      "{'Age55+': 'se rechaza hip\\xc3\\xb3tesis nula de homosteceidad'}\n",
      "{'Age26-35': 'se acepta la hihttp://localhost:8888/notebooks/Black_friday_cleaning.ipynb#p\\xc3\\xb3tesis nula de homosteceidad'}\n",
      "{'Age46-50': 'se rechaza hip\\xc3\\xb3tesis nula de homosteceidad'}\n",
      "{'Age51-55': 'se acepta la hihttp://localhost:8888/notebooks/Black_friday_cleaning.ipynb#p\\xc3\\xb3tesis nula de homosteceidad'}\n",
      "{'Age36-45': 'se acepta la hihttp://localhost:8888/notebooks/Black_friday_cleaning.ipynb#p\\xc3\\xb3tesis nula de homosteceidad'}\n",
      "{'Age18-25': 'se rechaza hip\\xc3\\xb3tesis nula de homosteceidad'}\n",
      "{'City_CategoryA': 'se rechaza hip\\xc3\\xb3tesis nula de homosteceidad'}\n",
      "{'City_CategoryC': 'se rechaza hip\\xc3\\xb3tesis nula de homosteceidad'}\n",
      "{'City_CategoryB': 'se rechaza hip\\xc3\\xb3tesis nula de homosteceidad'}\n",
      "{'Marital_Status0': 'se acepta la hihttp://localhost:8888/notebooks/Black_friday_cleaning.ipynb#p\\xc3\\xb3tesis nula de homosteceidad'}\n",
      "{'Marital_Status1': 'se acepta la hihttp://localhost:8888/notebooks/Black_friday_cleaning.ipynb#p\\xc3\\xb3tesis nula de homosteceidad'}\n"
     ]
    }
   ],
   "source": [
    "#Probamos la homosteceidad \n",
    "\n",
    "for value in data_select:\n",
    "    var = bf_data[value].unique()\n",
    "    for i in range(len(var)):\n",
    "        flig_num = stats.fligner(bf_data['Purchase'], bf_data['Purchase'][bf_data[value]==var[i]])\n",
    "        if flig_num[1] <0.05:\n",
    "            flig_stat = \"se rechaza hipótesis nula de homosteceidad\"\n",
    "        elif flig_num[1] >= 0.05:\n",
    "            flig_stat = \"se acepta la hihttp://localhost:8888/notebooks/Black_friday_cleaning.ipynb#pótesis nula de homosteceidad\"\n",
    "        flig_dict = {value +  var[i]: flig_stat}\n",
    "        print flig_dict\n",
    "        "
   ]
  },
  {
   "cell_type": "code",
   "execution_count": 19,
   "metadata": {},
   "outputs": [
    {
     "data": {
      "text/plain": [
       "FlignerResult(statistic=701234.3319436846, pvalue=0.0)"
      ]
     },
     "execution_count": 19,
     "metadata": {},
     "output_type": "execute_result"
    }
   ],
   "source": [
    "stats.fligner(bf_data['Purchase'], bf_data['Age']=='M')"
   ]
  },
  {
   "cell_type": "markdown",
   "metadata": {},
   "source": [
    "## Aplicación de pruebas estadísticas para comparar los grupos de datos. En función de los datos y el objetivo del estudio, aplicar pruebas de contraste de hipótesis, correlaciones, regresiones, etc. Aplicar al menos tres métodos de análisis diferentes. "
   ]
  }
 ],
 "metadata": {
  "kernelspec": {
   "display_name": "Python 2",
   "language": "python",
   "name": "python2"
  },
  "language_info": {
   "codemirror_mode": {
    "name": "ipython",
    "version": 2
   },
   "file_extension": ".py",
   "mimetype": "text/x-python",
   "name": "python",
   "nbconvert_exporter": "python",
   "pygments_lexer": "ipython2",
   "version": "2.7.15"
  }
 },
 "nbformat": 4,
 "nbformat_minor": 2
}
