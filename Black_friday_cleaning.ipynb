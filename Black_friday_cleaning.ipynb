{
 "cells": [
  {
   "cell_type": "code",
   "execution_count": 1,
   "metadata": {},
   "outputs": [],
   "source": [
    "#importamos librerías\n",
    "from scipy import stats\n",
    "import numpy as np\n",
    "import pandas as pd\n",
    "import matplotlib.pyplot as plt"
   ]
  },
  {
   "cell_type": "code",
   "execution_count": 3,
   "metadata": {},
   "outputs": [
    {
     "data": {
      "text/html": [
       "<div>\n",
       "<style scoped>\n",
       "    .dataframe tbody tr th:only-of-type {\n",
       "        vertical-align: middle;\n",
       "    }\n",
       "\n",
       "    .dataframe tbody tr th {\n",
       "        vertical-align: top;\n",
       "    }\n",
       "\n",
       "    .dataframe thead th {\n",
       "        text-align: right;\n",
       "    }\n",
       "</style>\n",
       "<table border=\"1\" class=\"dataframe\">\n",
       "  <thead>\n",
       "    <tr style=\"text-align: right;\">\n",
       "      <th></th>\n",
       "      <th>User_ID</th>\n",
       "      <th>Product_ID</th>\n",
       "      <th>Gender</th>\n",
       "      <th>Age</th>\n",
       "      <th>Occupation</th>\n",
       "      <th>City_Category</th>\n",
       "      <th>Stay_In_Current_City_Years</th>\n",
       "      <th>Marital_Status</th>\n",
       "      <th>Product_Category_1</th>\n",
       "      <th>Product_Category_2</th>\n",
       "      <th>Product_Category_3</th>\n",
       "      <th>Purchase</th>\n",
       "    </tr>\n",
       "  </thead>\n",
       "  <tbody>\n",
       "    <tr>\n",
       "      <th>0</th>\n",
       "      <td>1000001</td>\n",
       "      <td>P00069042</td>\n",
       "      <td>F</td>\n",
       "      <td>0-17</td>\n",
       "      <td>10</td>\n",
       "      <td>A</td>\n",
       "      <td>2</td>\n",
       "      <td>0</td>\n",
       "      <td>3</td>\n",
       "      <td>NaN</td>\n",
       "      <td>NaN</td>\n",
       "      <td>8370</td>\n",
       "    </tr>\n",
       "    <tr>\n",
       "      <th>1</th>\n",
       "      <td>1000001</td>\n",
       "      <td>P00248942</td>\n",
       "      <td>F</td>\n",
       "      <td>0-17</td>\n",
       "      <td>10</td>\n",
       "      <td>A</td>\n",
       "      <td>2</td>\n",
       "      <td>0</td>\n",
       "      <td>1</td>\n",
       "      <td>6.0</td>\n",
       "      <td>14.0</td>\n",
       "      <td>15200</td>\n",
       "    </tr>\n",
       "    <tr>\n",
       "      <th>2</th>\n",
       "      <td>1000001</td>\n",
       "      <td>P00087842</td>\n",
       "      <td>F</td>\n",
       "      <td>0-17</td>\n",
       "      <td>10</td>\n",
       "      <td>A</td>\n",
       "      <td>2</td>\n",
       "      <td>0</td>\n",
       "      <td>12</td>\n",
       "      <td>NaN</td>\n",
       "      <td>NaN</td>\n",
       "      <td>1422</td>\n",
       "    </tr>\n",
       "    <tr>\n",
       "      <th>3</th>\n",
       "      <td>1000001</td>\n",
       "      <td>P00085442</td>\n",
       "      <td>F</td>\n",
       "      <td>0-17</td>\n",
       "      <td>10</td>\n",
       "      <td>A</td>\n",
       "      <td>2</td>\n",
       "      <td>0</td>\n",
       "      <td>12</td>\n",
       "      <td>14.0</td>\n",
       "      <td>NaN</td>\n",
       "      <td>1057</td>\n",
       "    </tr>\n",
       "    <tr>\n",
       "      <th>4</th>\n",
       "      <td>1000002</td>\n",
       "      <td>P00285442</td>\n",
       "      <td>M</td>\n",
       "      <td>55+</td>\n",
       "      <td>16</td>\n",
       "      <td>C</td>\n",
       "      <td>4+</td>\n",
       "      <td>0</td>\n",
       "      <td>8</td>\n",
       "      <td>NaN</td>\n",
       "      <td>NaN</td>\n",
       "      <td>7969</td>\n",
       "    </tr>\n",
       "  </tbody>\n",
       "</table>\n",
       "</div>"
      ],
      "text/plain": [
       "   User_ID Product_ID Gender   Age  Occupation City_Category  \\\n",
       "0  1000001  P00069042      F  0-17          10             A   \n",
       "1  1000001  P00248942      F  0-17          10             A   \n",
       "2  1000001  P00087842      F  0-17          10             A   \n",
       "3  1000001  P00085442      F  0-17          10             A   \n",
       "4  1000002  P00285442      M   55+          16             C   \n",
       "\n",
       "  Stay_In_Current_City_Years  Marital_Status  Product_Category_1  \\\n",
       "0                          2               0                   3   \n",
       "1                          2               0                   1   \n",
       "2                          2               0                  12   \n",
       "3                          2               0                  12   \n",
       "4                         4+               0                   8   \n",
       "\n",
       "   Product_Category_2  Product_Category_3  Purchase  \n",
       "0                 NaN                 NaN      8370  \n",
       "1                 6.0                14.0     15200  \n",
       "2                 NaN                 NaN      1422  \n",
       "3                14.0                 NaN      1057  \n",
       "4                 NaN                 NaN      7969  "
      ]
     },
     "execution_count": 3,
     "metadata": {},
     "output_type": "execute_result"
    }
   ],
   "source": [
    "#cargamos los datos\n",
    "black_data = pd.read_csv(\"BlackFriday.csv\")\n",
    "black_data.head()"
   ]
  },
  {
   "cell_type": "code",
   "execution_count": 4,
   "metadata": {},
   "outputs": [
    {
     "data": {
      "text/plain": [
       "User_ID                         int64\n",
       "Product_ID                     object\n",
       "Gender                         object\n",
       "Age                            object\n",
       "Occupation                      int64\n",
       "City_Category                  object\n",
       "Stay_In_Current_City_Years     object\n",
       "Marital_Status                  int64\n",
       "Product_Category_1              int64\n",
       "Product_Category_2            float64\n",
       "Product_Category_3            float64\n",
       "Purchase                        int64\n",
       "dtype: object"
      ]
     },
     "execution_count": 4,
     "metadata": {},
     "output_type": "execute_result"
    }
   ],
   "source": [
    "#visualizamos las variables numéricas de los datos\n",
    "black_data.describe()\n",
    "#verificamos los tipos de valor en cada celda\n",
    "black_data.dtypes"
   ]
  },
  {
   "cell_type": "code",
   "execution_count": 5,
   "metadata": {},
   "outputs": [
    {
     "data": {
      "text/plain": [
       "User_ID                          int64\n",
       "Product_ID                      object\n",
       "Gender                        category\n",
       "Age                           category\n",
       "Occupation                    category\n",
       "City_Category                 category\n",
       "Stay_In_Current_City_Years      object\n",
       "Marital_Status                category\n",
       "Product_Category_1            category\n",
       "Product_Category_2            category\n",
       "Product_Category_3            category\n",
       "Purchase                         int64\n",
       "dtype: object"
      ]
     },
     "execution_count": 5,
     "metadata": {},
     "output_type": "execute_result"
    }
   ],
   "source": [
    "cat_values = [\"Gender\", \"Age\", \"Occupation\", \"City_Category\", \"Marital_Status\", \"Product_Category_1\", \n",
    "              \"Product_Category_2\", \"Product_Category_3\"]\n",
    "for column in cat_values:\n",
    "    black_data[column] = black_data[column].astype('category')\n",
    "black_data.dtypes"
   ]
  },
  {
   "cell_type": "code",
   "execution_count": 6,
   "metadata": {},
   "outputs": [
    {
     "data": {
      "text/plain": [
       "User_ID                            0\n",
       "Product_ID                         0\n",
       "Gender                             0\n",
       "Age                                0\n",
       "Occupation                         0\n",
       "City_Category                      0\n",
       "Stay_In_Current_City_Years         0\n",
       "Marital_Status                     0\n",
       "Product_Category_1                 0\n",
       "Product_Category_2            166986\n",
       "Product_Category_3            373299\n",
       "Purchase                           0\n",
       "dtype: int64"
      ]
     },
     "execution_count": 6,
     "metadata": {},
     "output_type": "execute_result"
    }
   ],
   "source": [
    "#Suma de valores pérdidos en cada columna. Pandas reconoce tanto una celda vacía como el valor NA como NaN\n",
    "#https://towardsdatascience.com/data-cleaning-with-python-and-pandas-detecting-missing-values-3e9c6ebcf78b\n",
    "black_data.isnull().sum()"
   ]
  },
  {
   "cell_type": "code",
   "execution_count": 7,
   "metadata": {},
   "outputs": [
    {
     "data": {
      "text/plain": [
       "User_ID                            0\n",
       "Product_ID                         0\n",
       "Gender                             0\n",
       "Age                                0\n",
       "Occupation                         0\n",
       "City_Category                      0\n",
       "Stay_In_Current_City_Years         0\n",
       "Marital_Status                     0\n",
       "Product_Category_1                 0\n",
       "Product_Category_2            166986\n",
       "Product_Category_3            373299\n",
       "Purchase                           0\n",
       "dtype: int64"
      ]
     },
     "execution_count": 7,
     "metadata": {},
     "output_type": "execute_result"
    }
   ],
   "source": [
    "#verificamos si hay valores pérdidos con otras sintaxis\n",
    "#lista con valores NA comunes\n",
    "missing_values = [\"n/a\", \"na\", \"--\", \"Na\"]\n",
    "black_data = pd.read_csv(\"BlackFriday.csv\", na_values= missing_values)\n",
    "black_data.isnull().sum()"
   ]
  },
  {
   "cell_type": "code",
   "execution_count": 8,
   "metadata": {},
   "outputs": [
    {
     "data": {
      "text/html": [
       "<div>\n",
       "<style scoped>\n",
       "    .dataframe tbody tr th:only-of-type {\n",
       "        vertical-align: middle;\n",
       "    }\n",
       "\n",
       "    .dataframe tbody tr th {\n",
       "        vertical-align: top;\n",
       "    }\n",
       "\n",
       "    .dataframe thead th {\n",
       "        text-align: right;\n",
       "    }\n",
       "</style>\n",
       "<table border=\"1\" class=\"dataframe\">\n",
       "  <thead>\n",
       "    <tr style=\"text-align: right;\">\n",
       "      <th></th>\n",
       "      <th>User_ID</th>\n",
       "      <th>Occupation</th>\n",
       "      <th>Marital_Status</th>\n",
       "      <th>Product_Category_1</th>\n",
       "      <th>Product_Category_2</th>\n",
       "      <th>Product_Category_3</th>\n",
       "      <th>Purchase</th>\n",
       "    </tr>\n",
       "  </thead>\n",
       "  <tbody>\n",
       "    <tr>\n",
       "      <th>User_ID</th>\n",
       "      <td>1.000000</td>\n",
       "      <td>-0.023024</td>\n",
       "      <td>0.018732</td>\n",
       "      <td>0.003687</td>\n",
       "      <td>0.001471</td>\n",
       "      <td>0.004045</td>\n",
       "      <td>0.005389</td>\n",
       "    </tr>\n",
       "    <tr>\n",
       "      <th>Occupation</th>\n",
       "      <td>-0.023024</td>\n",
       "      <td>1.000000</td>\n",
       "      <td>0.024691</td>\n",
       "      <td>-0.008114</td>\n",
       "      <td>-0.000031</td>\n",
       "      <td>0.013452</td>\n",
       "      <td>0.021104</td>\n",
       "    </tr>\n",
       "    <tr>\n",
       "      <th>Marital_Status</th>\n",
       "      <td>0.018732</td>\n",
       "      <td>0.024691</td>\n",
       "      <td>1.000000</td>\n",
       "      <td>0.020546</td>\n",
       "      <td>0.015116</td>\n",
       "      <td>0.019452</td>\n",
       "      <td>0.000129</td>\n",
       "    </tr>\n",
       "    <tr>\n",
       "      <th>Product_Category_1</th>\n",
       "      <td>0.003687</td>\n",
       "      <td>-0.008114</td>\n",
       "      <td>0.020546</td>\n",
       "      <td>1.000000</td>\n",
       "      <td>0.540423</td>\n",
       "      <td>0.229490</td>\n",
       "      <td>-0.314125</td>\n",
       "    </tr>\n",
       "    <tr>\n",
       "      <th>Product_Category_2</th>\n",
       "      <td>0.001471</td>\n",
       "      <td>-0.000031</td>\n",
       "      <td>0.015116</td>\n",
       "      <td>0.540423</td>\n",
       "      <td>1.000000</td>\n",
       "      <td>0.543544</td>\n",
       "      <td>-0.209973</td>\n",
       "    </tr>\n",
       "    <tr>\n",
       "      <th>Product_Category_3</th>\n",
       "      <td>0.004045</td>\n",
       "      <td>0.013452</td>\n",
       "      <td>0.019452</td>\n",
       "      <td>0.229490</td>\n",
       "      <td>0.543544</td>\n",
       "      <td>1.000000</td>\n",
       "      <td>-0.022257</td>\n",
       "    </tr>\n",
       "    <tr>\n",
       "      <th>Purchase</th>\n",
       "      <td>0.005389</td>\n",
       "      <td>0.021104</td>\n",
       "      <td>0.000129</td>\n",
       "      <td>-0.314125</td>\n",
       "      <td>-0.209973</td>\n",
       "      <td>-0.022257</td>\n",
       "      <td>1.000000</td>\n",
       "    </tr>\n",
       "  </tbody>\n",
       "</table>\n",
       "</div>"
      ],
      "text/plain": [
       "                     User_ID  Occupation  Marital_Status  Product_Category_1  \\\n",
       "User_ID             1.000000   -0.023024        0.018732            0.003687   \n",
       "Occupation         -0.023024    1.000000        0.024691           -0.008114   \n",
       "Marital_Status      0.018732    0.024691        1.000000            0.020546   \n",
       "Product_Category_1  0.003687   -0.008114        0.020546            1.000000   \n",
       "Product_Category_2  0.001471   -0.000031        0.015116            0.540423   \n",
       "Product_Category_3  0.004045    0.013452        0.019452            0.229490   \n",
       "Purchase            0.005389    0.021104        0.000129           -0.314125   \n",
       "\n",
       "                    Product_Category_2  Product_Category_3  Purchase  \n",
       "User_ID                       0.001471            0.004045  0.005389  \n",
       "Occupation                   -0.000031            0.013452  0.021104  \n",
       "Marital_Status                0.015116            0.019452  0.000129  \n",
       "Product_Category_1            0.540423            0.229490 -0.314125  \n",
       "Product_Category_2            1.000000            0.543544 -0.209973  \n",
       "Product_Category_3            0.543544            1.000000 -0.022257  \n",
       "Purchase                     -0.209973           -0.022257  1.000000  "
      ]
     },
     "execution_count": 8,
     "metadata": {},
     "output_type": "execute_result"
    }
   ],
   "source": [
    "#verificamos la correlación entre variables para verificar si las variables con valores pérdidos tienen alguna \n",
    "#correlación alta con otra variables\n",
    "black_data.corr()"
   ]
  },
  {
   "cell_type": "code",
   "execution_count": 9,
   "metadata": {},
   "outputs": [
    {
     "data": {
      "text/plain": [
       "166986"
      ]
     },
     "execution_count": 9,
     "metadata": {},
     "output_type": "execute_result"
    }
   ],
   "source": [
    "#verificamos el nro de filas que tienen valores pérdidos en las 2 variables\n",
    "len(black_data[black_data['Product_Category_2'].isnull() & black_data['Product_Category_2'].isnull()])\n"
   ]
  },
  {
   "cell_type": "code",
   "execution_count": 10,
   "metadata": {},
   "outputs": [
    {
     "data": {
      "text/plain": [
       "<BarContainer object of 18 artists>"
      ]
     },
     "execution_count": 10,
     "metadata": {},
     "output_type": "execute_result"
    },
    {
     "data": {
<<<<<<< HEAD
      "image/png": "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\n",
||||||| merged common ancestors
      "image/png": "iVBORw0KGgoAAAANSUhEUgAAAYAAAAEICAYAAABWJCMKAAAABHNCSVQICAgIfAhkiAAAAAlwSFlzAAALEgAACxIB0t1+/AAAADl0RVh0U29mdHdhcmUAbWF0cGxvdGxpYiB2ZXJzaW9uIDIuMS4yLCBodHRwOi8vbWF0cGxvdGxpYi5vcmcvNQv5yAAAF/NJREFUeJzt3Xu0XWV97vHvIxG5KeESFJLUoEZra1vlpIg3tMSjXCxgj3RovUSLJ9WC19NqrA61tVpsvVSGpzg4gkRFCkUqOaJVDhdtTwUNdzBaogLZEEMsFy944/A7f8w37SIke2ettbOTML+fMdZYc77zne9859prrWfNd861dqoKSVL/PGRbd0CStG0YAJLUUwaAJPWUASBJPWUASFJPGQCS1FMGgHYISZ6TZGJb90N6MDEANK2S3JTkp0l+nGRdkk8k2WNb92uDJJcmefUW1k2S1ye5PslPkkwk+Yckv7EF6y5IUklmjd/rmZPkPUmuS3Jvkndv6/5o6zIAtDX8blXtARwE/DbwjsGF7Y11R3jufQR4A/B6YG/g8cDngKO2ZaemMmborAbeAlwwTd3RdmxHeBFqB1VVtwJfBJ7UPnm/N8n/Be4BHpPkgCQrktyRZHWS/75h3SS7JjkjyZ1JvkkXJAwsrySPG5g/I8lfDswfk+TqJD9M8p0khyd5L/As4KPtCOWjm+t7koXACcBLquriqvp5Vd1TVWdW1UmtzlFJrmrbWLPRJ+avtvu72rae1tb5wySr2n59KcmjB7b5vCTfTnJ3kr9L8pUNRytJHpLkHUluTnJ7kk8m2bMt23C0cXySW4CLk1yQ5HUb7dO1SY6d4m+2vKq+CPxosnp6cDAAtNUkmQ8cCVzVil4OLAUeDtwMnAVMAAcALwLel2Rxq/su4LHt9nxgyRDbPRj4JPCnwGzgUOCmqno78M/AiVW1R1WdOEkzi4GJqvr6JHV+AryibeMo4LUDb7CHtvvZbVtfa8v+DPg9YE7ry1mtz/sC5wJvA/YBvg08fWBbr2y33wEeA+wBbBxgzwaeSPd4LQdeNvCY/BYwF/jCJPujnjEAtDV8LsldwL8AXwHe18rPqKobqupe4FHAM4G3VtXPqupq4ON0IQHw+8B7q+qOqloDnDzE9o8HTq+qC6vqvqq6taq+NeQ+7AOsnaxCVV1aVde1bVxL92b+7ElW+SPgr6pqVXsM3gc8uR0FHAncUFXntWUnA98fWPelwIeq6rtV9WO6oHjxRsM9766qn1TVT4HzgYXtSAa6x/XsqvrFlj4AevAzALQ1HFtVs6vq0VX1x+0NCWDNQJ0DgDuqanCo4Wa6T6kblq/ZaNmWmg98Z9hOb+Tfgf0nq5DkqUkuSbI+yd3Aa4B9J1nl0cBHktzVAvIOIHT7fL/9re5XGgevejqA+z8GNwOzgEcOlA2u/3PgHOBl7XzLS4BPTbY/6h8DQDNp8KdnbwP2TvLwgbJfAW5t02vp3sgHlw26B9htYP5RA9Nr6IaOpurDZC4C5iVZNEmdzwArgPlVtSfwMbo39M1tZw3wRy0cN9x2rap/pdvfeRsqJsngPN3j9eiB+V8B7gXWDZRtvM3ldEcOi4F7quprk+yLesgA0DbRhnX+FfirJLsk+U26oZszW5VzgLcl2SvJPOB1GzVxNfAHSXZKcjj3H3o5DXhVksXt5OncJL/alq2jG0Ofqn83An8HnNW+g7Bz6+eLkyxr1R5OdxTzs3be4Q8GmlgP3LfRtj7W9unXAZLsmeS4tuwC4DeSHNuGdU7g/qF2FvCmJAemu6z2fXRDOvdOsg9fa334IFv46T/JQ5PsQvfeMKvt805bsq52QFXlzdu03YCbgOduovxS4NUblc0DPk83FPId4DUDy3ajO5F7F/BNuhO6EwPLFwE30F2t8im6N8i/HFj+QuDatnw18PxW/jTg34A7gZOn2JfQXQZ6A90Rx63A2cCvt+UvohuK+VHbj48Cnx5Y/y/oguAu4JBW9nLgOuCHdEcEpw/UP7z17W668Pka8PK27CHAO9s664FPA3u1ZQvoPv3P2sQ+vKMte8wW/v3OaPUHb6/c1s8rb1vnlvZHl7QdaeP2E8BLq+qSMdp5BbC0qp45bZ3Tg4ZDQNJ2Isnzk8xO8jC6y0UDXDZGe7sBfwycOk1d1IOMAaDeSvKs9iWtB9y2UZeeRjcU9gPgd+mupvrp5KtsWpLn0w0VraM7Wb2hfHvbZ21DDgFJUk95BCBJPbVd/1LhvvvuWwsWLNjW3ZCkHcoVV1zxg6qaM1W97ToAFixYwMqVK7d1NyRph5Jki7457xCQJPWUASBJPWUASFJPGQCS1FMGgCT1lAEgST1lAEhSTxkAktRTBoAk9dR2/U1gaXMWLLtgpPVuOumoae6JtOPyCECSesoAkKSeMgAkqacMAEnqKQNAknpqygBIcnqS25NcP1C2d5ILk9zY7vdq5UlycpLVSa5NctDAOkta/RuTLNk6uyNJ2lJbcgRwBnD4RmXLgIuqaiFwUZsHOAJY2G5LgVOgCwzgXcBTgYOBd20IDUnStjFlAFTVV4E7Nio+BljeppcDxw6Uf7I6lwGzk+wPPB+4sKruqKo7gQt5YKhIkmbQqOcAHllVawHa/X6tfC6wZqDeRCvbXPkDJFmaZGWSlevXrx+xe5KkqUz3SeBsoqwmKX9gYdWpVbWoqhbNmTPl/zSWJI1o1ABY14Z2aPe3t/IJYP5AvXnAbZOUS5K2kVEDYAWw4UqeJcD5A+WvaFcDHQLc3YaIvgQ8L8le7eTv81qZJGkbmfLH4JKcBTwH2DfJBN3VPCcB5yQ5HrgFOK5V/wJwJLAauAd4FUBV3ZHkPcA3Wr2/qKqNTyxLkmbQlAFQVS/ZzKLFm6hbwAmbaed04PSheidJ2mr8JrAk9ZT/D6BH/A19SYM8ApCknjIAJKmnDABJ6ikDQJJ6ygCQpJ4yACSppwwASeopA0CSesoAkKSeMgAkqacMAEnqKQNAknrKAJCknjIAJKmnDABJ6ikDQJJ6ygCQpJ4yACSppwwASeopA0CSesoAkKSeMgAkqacMAEnqKQNAknrKAJCknjIAJKmnDABJ6ikDQJJ6aqwASPKmJDckuT7JWUl2SXJgksuT3Jjk7CQ7t7oPa/Or2/IF07EDkqTRjBwASeYCrwcWVdWTgJ2AFwPvBz5cVQuBO4Hj2yrHA3dW1eOAD7d6kqRtZNwhoFnArklmAbsBa4HDgHPb8uXAsW36mDZPW744ScbcviRpRCMHQFXdCnwAuIXujf9u4Argrqq6t1WbAOa26bnAmrbuva3+PqNuX5I0nnGGgPai+1R/IHAAsDtwxCaq1oZVJlk22O7SJCuTrFy/fv2o3ZMkTWGcIaDnAt+rqvVV9UvgPODpwOw2JAQwD7itTU8A8wHa8j2BOzZutKpOrapFVbVozpw5Y3RPkjSZcQLgFuCQJLu1sfzFwDeBS4AXtTpLgPPb9Io2T1t+cVU94AhAkjQzxjkHcDndydwrgetaW6cCbwXenGQ13Rj/aW2V04B9WvmbgWVj9FuSNKZZU1fZvKp6F/CujYq/Cxy8ibo/A44bZ3uSpOnjN4ElqacMAEnqKQNAknrKAJCknjIAJKmnDABJ6ikDQJJ6ygCQpJ4yACSppwwASeopA0CSesoAkKSeMgAkqacMAEnqKQNAknrKAJCknjIAJKmnDABJ6ikDQJJ6ygCQpJ4yACSppwwASeopA0CSesoAkKSeMgAkqacMAEnqKQNAknrKAJCknjIAJKmnDABJ6ikDQJJ6aqwASDI7yblJvpVkVZKnJdk7yYVJbmz3e7W6SXJyktVJrk1y0PTsgiRpFOMeAXwE+Keq+lXgt4BVwDLgoqpaCFzU5gGOABa221LglDG3LUkaw8gBkOQRwKHAaQBV9Yuqugs4Bljeqi0Hjm3TxwCfrM5lwOwk+4/cc0nSWMY5AngMsB74RJKrknw8ye7AI6tqLUC736/VnwusGVh/opXdT5KlSVYmWbl+/foxuidJmsw4ATALOAg4paqeAvyE/xzu2ZRsoqweUFB1alUtqqpFc+bMGaN7kqTJjBMAE8BEVV3e5s+lC4R1G4Z22v3tA/XnD6w/D7htjO1LksYwcgBU1feBNUme0IoWA98EVgBLWtkS4Pw2vQJ4Rbsa6BDg7g1DRZKkmTdrzPVfB5yZZGfgu8Cr6ELlnCTHA7cAx7W6XwCOBFYD97S6kqRtZKwAqKqrgUWbWLR4E3ULOGGc7UmSpo/fBJaknjIAJKmnDABJ6ikDQJJ6ygCQpJ4yACSppwwASeopA0CSesoAkKSeMgAkqacMAEnqKQNAknrKAJCknjIAJKmnDABJ6ikDQJJ6atz/CLZdW7DsgqHXuemko7ZCTyRp++MRgCT1lAEgST1lAEhSTxkAktRTBoAk9ZQBIEk9ZQBIUk8ZAJLUUwaAJPWUASBJPWUASFJPGQCS1FMGgCT1lAEgST01dgAk2SnJVUk+3+YPTHJ5khuTnJ1k51b+sDa/ui1fMO62JUmjm44jgDcAqwbm3w98uKoWAncCx7fy44E7q+pxwIdbPUnSNjJWACSZBxwFfLzNBzgMOLdVWQ4c26aPafO05YtbfUnSNjDuEcDfAm8B7mvz+wB3VdW9bX4CmNum5wJrANryu1v9+0myNMnKJCvXr18/ZvckSZszcgAkeQFwe1VdMVi8iaq1Bcv+s6Dq1KpaVFWL5syZM2r3JElTGOd/Aj8DODrJkcAuwCPojghmJ5nVPuXPA25r9SeA+cBEklnAnsAdY2xfkjSGkY8AquptVTWvqhYALwYurqqXApcAL2rVlgDnt+kVbZ62/OKqesARgCRpZmyN7wG8FXhzktV0Y/yntfLTgH1a+ZuBZVth25KkLTTOENB/qKpLgUvb9HeBgzdR52fAcdOxPUnS+PwmsCT1lAEgST1lAEhSTxkAktRTBoAk9ZQBIEk9ZQBIUk8ZAJLUUwaAJPWUASBJPWUASFJPGQCS1FMGgCT1lAEgST1lAEhSTxkAktRTBoAk9ZQBIEk9ZQBIUk8ZAJLUUwaAJPWUASBJPWUASFJPzdrWHZAEC5ZdMPQ6N5101FboifrEIwBJ6ikDQJJ6ygCQpJ4yACSppwwASeopA0CSemrkAEgyP8klSVYluSHJG1r53kkuTHJju9+rlSfJyUlWJ7k2yUHTtROSpOGNcwRwL/A/quqJwCHACUl+DVgGXFRVC4GL2jzAEcDCdlsKnDLGtiVJYxo5AKpqbVVd2aZ/BKwC5gLHAMtbteXAsW36GOCT1bkMmJ1k/5F7Lkkay7ScA0iyAHgKcDnwyKpaC11IAPu1anOBNQOrTbSyjdtammRlkpXr16+fju5JkjZh7ABIsgfwWeCNVfXDyapuoqweUFB1alUtqqpFc+bMGbd7kqTNGCsAkjyU7s3/zKo6rxWv2zC00+5vb+UTwPyB1ecBt42zfUnS6Ma5CijAacCqqvrQwKIVwJI2vQQ4f6D8Fe1qoEOAuzcMFUmSZt44vwb6DODlwHVJrm5lfwacBJyT5HjgFuC4tuwLwJHAauAe4FVjbFuSNKaRA6Cq/oVNj+sDLN5E/QJOGHV7kqTp5TeBJamnDABJ6ikDQJJ6ygCQpJ7yfwJPwf/VKunByiMASeopA0CSesoAkKSeMgAkqacMAEnqKa8C0lBGuSoKvDJK2h55BCBJPWUASFJPGQCS1FOeA9CM8zyCZoLPs6l5BCBJPeURwAyYjt8T8tOMpOnmEYAk9ZQBIEk9ZQBIUk8ZAJLUUwaAJPWUASBJPWUASFJPGQCS1FN+EUzStJqOLy36xceZ4RGAJPWURwCS/sN0/GyJdhwGgCRtRdvzcJYBII1he3px++ldw/IcgCT11IwHQJLDk3w7yeoky2Z6+5KkzowOASXZCfifwH8FJoBvJFlRVd+cyX5I0pbYnob4toaZPgdwMLC6qr4LkOTvgWMAA0Az7sH+4pamkqqauY0lLwIOr6pXt/mXA0+tqhMH6iwFlrbZJwDf3gpd2Rf4wXbQxvbUF9uwjR2lL7YxtUdX1ZypKs30EUA2UXa/BKqqU4FTt2onkpVVtWhbt7E99cU2bGNH6YttTJ+ZPgk8AcwfmJ8H3DbDfZAkMfMB8A1gYZIDk+wMvBhYMcN9kCQxw0NAVXVvkhOBLwE7AadX1Q0z2YdmOoaYpmuYanvpi23Yxky0YxvT38bIZvQksCRp++E3gSWppwwASeqpXgVAktOT3J7k+jHamJ/kkiSrktyQ5A0jtLFLkq8nuaa18edj9GenJFcl+fyI69+U5LokVydZOWIbs5Ocm+Rb7XF52ghtPKH1YcPth0neOEI7b2qP6fVJzkqyywhtvKGtf8OW9mFTz60keye5MMmN7X6vEdo4rvXjviRTXi64mTb+pv1trk3yj0lmj9DGe9r6Vyf5cpIDhm1jYNmfJKkk+464P+9OcuvAc+XIUfqS5HXtZ2luSPLXI/Tj7IE+3JTk6hHaeHKSyza8/pIcPFkb066qenMDDgUOAq4fo439gYPa9MOBfwN+bcg2AuzRph8KXA4cMmJ/3gx8Bvj8iOvfBOw75uO6HHh1m94ZmD1mezsB36f7Mssw680Fvgfs2ubPAV45ZBtPAq4HdqO7SOL/AAtHeW4Bfw0sa9PLgPeP0MYT6b4QeSmwaMR+PA+Y1abfP2I/HjEw/XrgY8O20crn010EcvOWPO8205d3A38yxN90U238TvvbPqzN7zfK/gws/yDwzhH68WXgiDZ9JHDpMM/XcW+9OgKoqq8Cd4zZxtqqurJN/whYRffGM0wbVVU/brMPbbehz8YnmQccBXx82HWnS5JH0D2xTwOoql9U1V1jNrsY+E5V3TzCurOAXZPMonsTH/Z7Jk8ELquqe6rqXuArwAunWmkzz61j6MKRdn/ssG1U1aqq2uJvw2+mjS+3fQG4jO77N8O28cOB2d2Z4vk6yWvtw8Bbplp/C9rZYptp47XASVX181bn9lH7kSTA7wNnjdBGAY9o03syw9+L6lUATLckC4Cn0H2CH3bdndoh4+3AhVU1dBvA39K9mO4bYd0NCvhykivS/QzHsB4DrAc+0YaiPp5k9zH6A933QyZ9MW1KVd0KfAC4BVgL3F1VXx6ymeuBQ5Psk2Q3uk9l86dYZ3MeWVVrW9/WAvuN2M50+kPgi6OsmOS9SdYALwXeOcL6RwO3VtU1o2x/Iye2IanTpxpa24zHA89KcnmSryT57TH68ixgXVXdOMK6bwT+pj2uHwDeNkY/hmYAjCjJHsBngTdu9Oloi1TV/6uqJ9N9Gjs4yZOG3P4LgNur6opht72RZ1TVQcARwAlJDh1y/Vl0h7WnVNVTgJ/QDXeMJN0XBI8G/mGEdfei+9R9IHAAsHuSlw3TRlWtohsmuRD4J+Aa4N5JV9pBJHk73b6cOcr6VfX2qprf1j9xqvobbXs34O2MEBybcArwWODJdEH/wRHamAXsBRwC/ClwTvskP4qXMMIHlua1wJva4/om2pH0TDEARpDkoXRv/mdW1XnjtNWGSy4FDh9y1WcARye5Cfh74LAknx5h+7e1+9uBf6T7xdZhTAATA0cw59IFwqiOAK6sqnUjrPtc4HtVtb6qfgmcBzx92Eaq6rSqOqiqDqU7ZB/lkx3AuiT7A7T7SYcZtqYkS4AXAC+tNuA8hs8A/23IdR5LF8zXtOfsPODKJI8aduNVta59gLoP+F8M/5yF7nl7XhuO/TrdUfSUJ6U31oYafw84e4Q+ACyhe55C96FnRk8CGwBDap8STgNWVdWHRmxjzoYrMZLsSvfG9a1h2qiqt1XVvKpaQDdkcnFVDfVpN8nuSR6+YZruZOFQV0hV1feBNUme0IoWM97Pe4/zaeoW4JAku7W/02K6czRDSbJfu/8Vuhf3qP1ZQfcCp92fP2I7Y0lyOPBW4OiqumfENhYOzB7N8M/X66pqv6pa0J6zE3QXU3x/hL7sPzD7QoZ8zjafAw5r7T2e7uKFUX6V87nAt6pqYoR1oRvzf3abPozRP2yMZibPOG/rG90LeS3wS7on4PEjtPFMunHza4Gr2+3IIdv4TeCq1sb1THH1wBa09xxGuAqIbvz+mna7AXj7iNt/MrCy7c/ngL1GbGc34N+BPcd4LP6c7s3peuBTtKs8hmzjn+lC7Bpg8ajPLWAf4CK6F/VFwN4jtPHCNv1zYB3wpRHaWA2sGXi+TnUFz6ba+Gx7TK8F/jcwd9g2Nlp+E1t2FdCm+vIp4LrWlxXA/iO0sTPw6bZPVwKHjbI/wBnAa8Z4jjwTuKI91y4H/suoz/1Rbv4UhCT1lENAktRTBoAk9ZQBIEk9ZQBIUk8ZAJLUUwaAJPWUASBJPfX/Af4JTlWAhT2mAAAAAElFTkSuQmCC\n",
=======
      "image/png": "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\n",
>>>>>>> ab767dc36cc42154e3da6b651618282b1674c8ce
      "text/plain": [
       "<Figure size 432x288 with 1 Axes>"
      ]
     },
     "metadata": {
      "needs_background": "light"
     },
     "output_type": "display_data"
    }
   ],
   "source": [
    "#verificamos la distribución de Product_Category_1 para comparar con los valores pérdidos de Product_Category_2 y\n",
    "#Product_Category_3\n",
    "prod_1 = black_data['Product_ID'].groupby(black_data['Product_Category_1']).nunique()\n",
    "prod_2 = black_data['Product_ID'].groupby(black_data['Product_Category_2']).nunique()\n",
    "prod_3 = black_data['Product_ID'].groupby(black_data['Product_Category_2']).nunique()\n",
    "prod_1\n",
    "\n",
    "bins = np.sort(black_data['Product_Category_1'].unique())\n",
    "plt.xticks(bins)\n",
    "plt.title('Product_Category_1')\n",
    "plt.bar(bins, prod_1)"
   ]
  },
  {
   "cell_type": "code",
   "execution_count": 11,
   "metadata": {},
   "outputs": [
    {
     "data": {
      "text/plain": [
       "Product_Category_2\n",
       "2.0     127\n",
       "3.0      12\n",
       "4.0     146\n",
       "5.0     128\n",
       "6.0      60\n",
       "7.0       4\n",
       "8.0     353\n",
       "9.0      20\n",
       "10.0     14\n",
       "11.0     70\n",
       "12.0     45\n",
       "13.0     51\n",
       "14.0    317\n",
       "15.0    138\n",
       "16.0    221\n",
       "17.0     76\n",
       "18.0     18\n",
       "Name: Product_ID, dtype: int64"
      ]
     },
     "execution_count": 11,
     "metadata": {},
     "output_type": "execute_result"
    }
   ],
   "source": [
    "prod_2\n",
    "prod_3"
   ]
  },
  {
   "cell_type": "raw",
   "metadata": {},
   "source": [
    "Observamos que no hay categoría 0. Por tanto, asignaremos los valores pérdidos el valor 0 para identificar que no se conoce la categoría dentro del tipo de producto 2 y 3 al que pertenecen"
   ]
  },
  {
   "cell_type": "code",
   "execution_count": 12,
   "metadata": {},
   "outputs": [
    {
     "data": {
      "text/plain": [
       "User_ID                       0\n",
       "Product_ID                    0\n",
       "Gender                        0\n",
       "Age                           0\n",
       "Occupation                    0\n",
       "City_Category                 0\n",
       "Stay_In_Current_City_Years    0\n",
       "Marital_Status                0\n",
       "Product_Category_1            0\n",
       "Product_Category_2            0\n",
       "Product_Category_3            0\n",
       "Purchase                      0\n",
       "dtype: int64"
      ]
     },
     "execution_count": 12,
     "metadata": {},
     "output_type": "execute_result"
    }
   ],
   "source": [
    "#sustituimos los valores pérdidos de Product_category_2 y Product_Categori_3 por 0\n",
    "bf_data = black_data.fillna(0)\n",
    "bf_data.isnull().sum()"
   ]
  },
  {
   "cell_type": "markdown",
   "metadata": {},
   "source": [
    "# Análisis de datos"
   ]
  },
  {
   "cell_type": "markdown",
   "metadata": {},
   "source": [
    "## Selección de los grupos de datos que se quieren analizar/comparar (planificación de los análisis a aplicar)"
   ]
  },
  {
   "cell_type": "code",
   "execution_count": 13,
   "metadata": {},
   "outputs": [
    {
     "data": {
      "text/plain": [
<<<<<<< HEAD
       "User_ID                          int64\n",
       "Product_ID                      object\n",
       "Gender                        category\n",
       "Age                           category\n",
       "Occupation                    category\n",
       "City_Category                 category\n",
       "Stay_In_Current_City_Years      object\n",
       "Marital_Status                category\n",
       "Product_Category_1            category\n",
       "Product_Category_2            category\n",
       "Product_Category_3            category\n",
       "Purchase                         int64\n",
       "dtype: object"
||||||| merged common ancestors
       "array([0, 1])"
=======
       "array([0, 1], dtype=int64)"
>>>>>>> ab767dc36cc42154e3da6b651618282b1674c8ce
      ]
     },
     "execution_count": 13,
     "metadata": {},
     "output_type": "execute_result"
    }
   ],
   "source": [
    "for column in cat_values:\n",
    "    bf_data[column] = bf_data[column].astype('category')\n",
    "bf_data.dtypes"
   ]
  },
  {
   "cell_type": "code",
   "execution_count": 14,
   "metadata": {},
   "outputs": [
    {
     "data": {
      "text/html": [
       "<div>\n",
       "<style scoped>\n",
       "    .dataframe tbody tr th:only-of-type {\n",
       "        vertical-align: middle;\n",
       "    }\n",
       "\n",
       "    .dataframe tbody tr th {\n",
       "        vertical-align: top;\n",
       "    }\n",
       "\n",
       "    .dataframe thead th {\n",
       "        text-align: right;\n",
       "    }\n",
       "</style>\n",
       "<table border=\"1\" class=\"dataframe\">\n",
       "  <thead>\n",
       "    <tr style=\"text-align: right;\">\n",
       "      <th></th>\n",
       "      <th>User_ID</th>\n",
       "      <th>Purchase</th>\n",
       "    </tr>\n",
       "  </thead>\n",
       "  <tbody>\n",
       "    <tr>\n",
       "      <th>count</th>\n",
       "      <td>5.375770e+05</td>\n",
       "      <td>537577.000000</td>\n",
       "    </tr>\n",
       "    <tr>\n",
       "      <th>mean</th>\n",
       "      <td>1.002992e+06</td>\n",
       "      <td>9333.859853</td>\n",
       "    </tr>\n",
       "    <tr>\n",
       "      <th>std</th>\n",
       "      <td>1.714393e+03</td>\n",
       "      <td>4981.022133</td>\n",
       "    </tr>\n",
       "    <tr>\n",
       "      <th>min</th>\n",
       "      <td>1.000001e+06</td>\n",
       "      <td>185.000000</td>\n",
       "    </tr>\n",
       "    <tr>\n",
       "      <th>25%</th>\n",
       "      <td>1.001495e+06</td>\n",
       "      <td>5866.000000</td>\n",
       "    </tr>\n",
       "    <tr>\n",
       "      <th>50%</th>\n",
       "      <td>1.003031e+06</td>\n",
       "      <td>8062.000000</td>\n",
       "    </tr>\n",
       "    <tr>\n",
       "      <th>75%</th>\n",
       "      <td>1.004417e+06</td>\n",
       "      <td>12073.000000</td>\n",
       "    </tr>\n",
       "    <tr>\n",
       "      <th>max</th>\n",
       "      <td>1.006040e+06</td>\n",
       "      <td>23961.000000</td>\n",
       "    </tr>\n",
       "  </tbody>\n",
       "</table>\n",
       "</div>"
      ],
      "text/plain": [
<<<<<<< HEAD
       "            User_ID       Purchase\n",
       "count  5.375770e+05  537577.000000\n",
       "mean   1.002992e+06    9333.859853\n",
       "std    1.714393e+03    4981.022133\n",
       "min    1.000001e+06     185.000000\n",
       "25%    1.001495e+06    5866.000000\n",
       "50%    1.003031e+06    8062.000000\n",
       "75%    1.004417e+06   12073.000000\n",
       "max    1.006040e+06   23961.000000"
||||||| merged common ancestors
       "(0.9506862163543701, 0.0)"
=======
       "Text(0,0.5,'Purchase ($)')"
>>>>>>> ab767dc36cc42154e3da6b651618282b1674c8ce
      ]
     },
     "execution_count": 14,
     "metadata": {},
     "output_type": "execute_result"
    },
    {
     "data": {
      "image/png": "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\n",
      "text/plain": [
       "<Figure size 2160x720 with 1 Axes>"
      ]
     },
     "metadata": {
      "needs_background": "light"
     },
     "output_type": "display_data"
    }
   ],
   "source": [
<<<<<<< HEAD
    "#análisis estadístico descriptivo\n",
    "bf_data.describe()"
||||||| merged common ancestors
    "stats.shapiro(bf_data['Purchase'][bf_data['Marital_Status']==1])"
=======
    "#Representamos el gráfico de cajas de la variable \"Purchase\" y vemos que existen valores extremos \n",
    "plt.figure(figsize=[30,10])\n",
    "plt.subplot(231)\n",
    "cajas = plt.boxplot(x=bf_data['Purchase'], showmeans = True, meanline = True)\n",
    "plt.title('Purchase Boxplot')\n",
    "plt.ylabel('Purchase ($)')"
>>>>>>> ab767dc36cc42154e3da6b651618282b1674c8ce
   ]
  },
  {
<<<<<<< HEAD
   "cell_type": "markdown",
   "metadata": {},
   "source": [
    "Observamos que la única variable continua es Purchase. Al utilizar el comando describe observamos también User_ID, pero en este caso al ser la identificación del usuario no tiene sentido los resultados que se indican de las medidas estadísticas de tendencia central y de dispersión."
   ]
  },
  {
   "cell_type": "markdown",
   "metadata": {},
   "source": [
    "## Comprobación de la normalidad y homogeneidad de la varianza "
   ]
  },
  {
   "cell_type": "raw",
||||||| merged common ancestors
   "cell_type": "code",
   "execution_count": 18,
=======
   "cell_type": "code",
   "execution_count": 15,
>>>>>>> ab767dc36cc42154e3da6b651618282b1674c8ce
   "metadata": {},
<<<<<<< HEAD
||||||| merged common ancestors
   "outputs": [
    {
     "name": "stderr",
     "output_type": "stream",
     "text": [
      "/anaconda3/lib/python3.6/site-packages/scipy/stats/stats.py:245: RuntimeWarning: The input array could not be properly checked for nan values. nan values will be ignored.\n",
      "  \"values. nan values will be ignored.\", RuntimeWarning)\n"
     ]
    },
    {
     "data": {
      "text/plain": [
       "SpearmanrResult(correlation=-0.00580105074616023, pvalue=2.106096006331249e-05)"
      ]
     },
     "execution_count": 18,
     "metadata": {},
     "output_type": "execute_result"
    }
   ],
=======
   "outputs": [
    {
     "name": "stdout",
     "output_type": "stream",
     "text": [
      "Num. extremos 2665\n",
      "Num. total 537577\n",
      "Num. sin extremos 534912\n"
     ]
    }
   ],
>>>>>>> ab767dc36cc42154e3da6b651618282b1674c8ce
   "source": [
<<<<<<< HEAD
    "Como la mayoría de las variables son categóricas, analizaremos la comprobación de normalidad sobre el subset de Purchase que corresponde a las variables categóricas que consideramos relevantes.  "
||||||| merged common ancestors
    "stats.spearmanr(bf_data['Age'], bf_data['Gender'])"
=======
    "# Almacenamos los valores extremos en una lista\n",
    "outliers = list(cajas[\"fliers\"][0].get_data()[1])\n",
    "\n",
    "# Comprobamos la longitud para ver cuántos registros se consideran extremos.\n",
    "print \"Num. extremos\", len(outliers)\n",
    "print \"Num. total\", len(bf_data)\n",
    "\n",
    "# Borramos los datos extremos\n",
    "bf_data = bf_data[~bf_data.Purchase.isin(outliers)]\n",
    "\n",
    "# Comparamos las longitudes antes y después\n",
    "print \"Num. sin extremos\", len(bf_data)"
>>>>>>> ab767dc36cc42154e3da6b651618282b1674c8ce
   ]
  },
  {
   "cell_type": "code",
   "execution_count": 14,
   "metadata": {},
   "outputs": [
    {
<<<<<<< HEAD
     "data": {
      "text/plain": [
       "(array([ 32175.,  57237., 130109., 104444.,  79179.,  24980.,  63928.,\n",
       "         13437.,  29772.,   2316.]),\n",
       " array([  185. ,  2562.6,  4940.2,  7317.8,  9695.4, 12073. , 14450.6,\n",
       "        16828.2, 19205.8, 21583.4, 23961. ]),\n",
       " <a list of 10 Patch objects>)"
      ]
     },
     "execution_count": 14,
     "metadata": {},
     "output_type": "execute_result"
||||||| merged common ancestors
     "data": {
      "text/plain": [
       "(array([ 32175.,  57237., 130109., 104444.,  79179.,  24980.,  63928.,\n",
       "         13437.,  29772.,   2316.]),\n",
       " array([  185. ,  2562.6,  4940.2,  7317.8,  9695.4, 12073. , 14450.6,\n",
       "        16828.2, 19205.8, 21583.4, 23961. ]),\n",
       " <a list of 10 Patch objects>)"
      ]
     },
     "execution_count": 16,
     "metadata": {},
     "output_type": "execute_result"
=======
     "name": "stdout",
     "output_type": "stream",
     "text": [
      "Número de valores distintos: \n",
      "\n",
      "User_ID : 5891\n",
      "Product_ID : 3623\n",
      "Gender : 2\n",
      "Age : 7\n",
      "Occupation : 21\n",
      "City_Category : 3\n",
      "Stay_In_Current_City_Years : 5\n",
      "Marital_Status : 2\n",
      "Product_Category_1 : 18\n",
      "Product_Category_2 : 18\n",
      "Product_Category_3 : 16\n",
      "Purchase : 16928\n",
      "\n",
      "Tipo de datos: \n",
      "\n",
      "<class 'pandas.core.frame.DataFrame'>\n",
      "Int64Index: 534912 entries, 0 to 537576\n",
      "Data columns (total 12 columns):\n",
      "User_ID                       534912 non-null int64\n",
      "Product_ID                    534912 non-null object\n",
      "Gender                        534912 non-null object\n",
      "Age                           534912 non-null object\n",
      "Occupation                    534912 non-null int64\n",
      "City_Category                 534912 non-null object\n",
      "Stay_In_Current_City_Years    534912 non-null object\n",
      "Marital_Status                534912 non-null int64\n",
      "Product_Category_1            534912 non-null int64\n",
      "Product_Category_2            534912 non-null float64\n",
      "Product_Category_3            534912 non-null float64\n",
      "Purchase                      534912 non-null int64\n",
      "dtypes: float64(2), int64(5), object(5)\n",
      "memory usage: 53.1+ MB\n",
      "None\n",
      "\n",
      "Matriz de covarianzas: \n",
      "\n"
     ]
>>>>>>> ab767dc36cc42154e3da6b651618282b1674c8ce
    },
    {
     "data": {
<<<<<<< HEAD
      "image/png": "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\n",
||||||| merged common ancestors
      "image/png": "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\n",
=======
      "text/html": [
       "<div>\n",
       "<style scoped>\n",
       "    .dataframe tbody tr th:only-of-type {\n",
       "        vertical-align: middle;\n",
       "    }\n",
       "\n",
       "    .dataframe tbody tr th {\n",
       "        vertical-align: top;\n",
       "    }\n",
       "\n",
       "    .dataframe thead th {\n",
       "        text-align: right;\n",
       "    }\n",
       "</style>\n",
       "<table border=\"1\" class=\"dataframe\">\n",
       "  <thead>\n",
       "    <tr style=\"text-align: right;\">\n",
       "      <th></th>\n",
       "      <th>User_ID</th>\n",
       "      <th>Occupation</th>\n",
       "      <th>Marital_Status</th>\n",
       "      <th>Product_Category_1</th>\n",
       "      <th>Product_Category_2</th>\n",
       "      <th>Product_Category_3</th>\n",
       "      <th>Purchase</th>\n",
       "    </tr>\n",
       "  </thead>\n",
       "  <tbody>\n",
       "    <tr>\n",
       "      <th>User_ID</th>\n",
       "      <td>2.938243e+06</td>\n",
       "      <td>-259.157409</td>\n",
       "      <td>15.673851</td>\n",
       "      <td>22.231876</td>\n",
       "      <td>34.977127</td>\n",
       "      <td>44.180688</td>\n",
       "      <td>3.995448e+04</td>\n",
       "    </tr>\n",
       "    <tr>\n",
       "      <th>Occupation</th>\n",
       "      <td>-2.591574e+02</td>\n",
       "      <td>42.551512</td>\n",
       "      <td>0.078639</td>\n",
       "      <td>-0.212696</td>\n",
       "      <td>0.268939</td>\n",
       "      <td>0.488749</td>\n",
       "      <td>6.621299e+02</td>\n",
       "    </tr>\n",
       "    <tr>\n",
       "      <th>Marital_Status</th>\n",
       "      <td>1.567385e+01</td>\n",
       "      <td>0.078639</td>\n",
       "      <td>0.241651</td>\n",
       "      <td>0.037164</td>\n",
       "      <td>0.002677</td>\n",
       "      <td>-0.013706</td>\n",
       "      <td>-2.118050e+00</td>\n",
       "    </tr>\n",
       "    <tr>\n",
       "      <th>Product_Category_1</th>\n",
       "      <td>2.223188e+01</td>\n",
       "      <td>-0.212696</td>\n",
       "      <td>0.037164</td>\n",
       "      <td>13.981018</td>\n",
       "      <td>-1.081807</td>\n",
       "      <td>-9.175687</td>\n",
       "      <td>-6.262855e+03</td>\n",
       "    </tr>\n",
       "    <tr>\n",
       "      <th>Product_Category_2</th>\n",
       "      <td>3.497713e+01</td>\n",
       "      <td>0.268939</td>\n",
       "      <td>0.002677</td>\n",
       "      <td>-1.081807</td>\n",
       "      <td>38.481980</td>\n",
       "      <td>3.506119</td>\n",
       "      <td>8.125750e+02</td>\n",
       "    </tr>\n",
       "    <tr>\n",
       "      <th>Product_Category_3</th>\n",
       "      <td>4.418069e+01</td>\n",
       "      <td>0.488749</td>\n",
       "      <td>-0.013706</td>\n",
       "      <td>-9.175687</td>\n",
       "      <td>3.506119</td>\n",
       "      <td>39.227552</td>\n",
       "      <td>8.913526e+03</td>\n",
       "    </tr>\n",
       "    <tr>\n",
       "      <th>Purchase</th>\n",
       "      <td>3.995448e+04</td>\n",
       "      <td>662.129868</td>\n",
       "      <td>-2.118050</td>\n",
       "      <td>-6262.854928</td>\n",
       "      <td>812.574982</td>\n",
       "      <td>8913.525816</td>\n",
       "      <td>2.396630e+07</td>\n",
       "    </tr>\n",
       "  </tbody>\n",
       "</table>\n",
       "</div>"
      ],
>>>>>>> ab767dc36cc42154e3da6b651618282b1674c8ce
      "text/plain": [
<<<<<<< HEAD
       "<Figure size 432x288 with 1 Axes>"
||||||| merged common ancestors
       "<matplotlib.figure.Figure at 0x1a0aa04208>"
=======
       "                         User_ID  Occupation  Marital_Status  \\\n",
       "User_ID             2.938243e+06 -259.157409       15.673851   \n",
       "Occupation         -2.591574e+02   42.551512        0.078639   \n",
       "Marital_Status      1.567385e+01    0.078639        0.241651   \n",
       "Product_Category_1  2.223188e+01   -0.212696        0.037164   \n",
       "Product_Category_2  3.497713e+01    0.268939        0.002677   \n",
       "Product_Category_3  4.418069e+01    0.488749       -0.013706   \n",
       "Purchase            3.995448e+04  662.129868       -2.118050   \n",
       "\n",
       "                    Product_Category_1  Product_Category_2  \\\n",
       "User_ID                      22.231876           34.977127   \n",
       "Occupation                   -0.212696            0.268939   \n",
       "Marital_Status                0.037164            0.002677   \n",
       "Product_Category_1           13.981018           -1.081807   \n",
       "Product_Category_2           -1.081807           38.481980   \n",
       "Product_Category_3           -9.175687            3.506119   \n",
       "Purchase                  -6262.854928          812.574982   \n",
       "\n",
       "                    Product_Category_3      Purchase  \n",
       "User_ID                      44.180688  3.995448e+04  \n",
       "Occupation                    0.488749  6.621299e+02  \n",
       "Marital_Status               -0.013706 -2.118050e+00  \n",
       "Product_Category_1           -9.175687 -6.262855e+03  \n",
       "Product_Category_2            3.506119  8.125750e+02  \n",
       "Product_Category_3           39.227552  8.913526e+03  \n",
       "Purchase                   8913.525816  2.396630e+07  "
>>>>>>> ab767dc36cc42154e3da6b651618282b1674c8ce
      ]
     },
<<<<<<< HEAD
     "metadata": {
      "needs_background": "light"
     },
     "output_type": "display_data"
||||||| merged common ancestors
     "metadata": {},
     "output_type": "display_data"
=======
     "execution_count": 16,
     "metadata": {},
     "output_type": "execute_result"
>>>>>>> ab767dc36cc42154e3da6b651618282b1674c8ce
    }
   ],
   "source": [
<<<<<<< HEAD
    "#visualizamos la distribución de la variable Purchase\n",
||||||| merged common ancestors
=======
    "# (solo informativo)\n",
    "\n",
    "# Número de valores diferentes por campo\n",
    "print('Número de valores distintos: \\n')\n",
    "for i in bf_data.columns:\n",
    "    print i, ':',bf_data[i].nunique()\n",
    "    \n",
    "# Tipo de datos de cada campo\n",
    "print('\\nTipo de datos: \\n')\n",
    "print (bf_data.info())\n",
    "\n",
    "# Matriz de covarianzas \n",
    "print('\\nMatriz de covarianzas: \\n')\n",
    "bf_data.cov()"
   ]
  },
  {
   "cell_type": "code",
   "execution_count": null,
   "metadata": {},
   "outputs": [],
   "source": [
    "stats.shapiro(bf_data['Purchase'][bf_data['Marital_Status']==1])"
   ]
  },
  {
   "cell_type": "code",
   "execution_count": null,
   "metadata": {},
   "outputs": [],
   "source": [
    "stats.spearmanr(bf_data['Age'], bf_data['Gender'])"
   ]
  },
  {
   "cell_type": "code",
   "execution_count": null,
   "metadata": {},
   "outputs": [],
   "source": [
>>>>>>> ab767dc36cc42154e3da6b651618282b1674c8ce
    "plt.hist(bf_data['Purchase'])"
   ]
  },
  {
   "cell_type": "raw",
   "metadata": {},
   "source": [
    "El histograma de la variable Purchase prevee que esta variable no sea normal, aplicamos el test shapiro para esta variable y otros subsets de diferentes categorías  "
   ]
  },
  {
   "cell_type": "code",
   "execution_count": 15,
   "metadata": {},
   "outputs": [
    {
     "data": {
      "text/plain": [
       "(0.9529308080673218, 2.2448276752338526e-37)"
      ]
     },
     "execution_count": 15,
     "metadata": {},
     "output_type": "execute_result"
    }
   ],
   "source": [
    "#Aplicamos el test shapiro sobre una muestra porque en la primera prueba obtenemos una advertencia de que el resultado \n",
    "#de p-value no es preciso para muestras mayores a 5000\n",
    "stats.shapiro(bf_data['Purchase'].sample(n=5000, random_state=1))"
   ]
  },
  {
   "cell_type": "raw",
   "metadata": {},
   "source": [
    "Podemos concluir que la variable Purchase no es normal porque el p-value <0.05. Por tanto, se rechaza la hipótesis nula."
   ]
  },
  {
   "cell_type": "code",
   "execution_count": 16,
   "metadata": {},
   "outputs": [
    {
     "name": "stdout",
     "output_type": "stream",
     "text": [
      "la variable no es normal\n"
     ]
    }
   ],
   "source": [
    "#Analizamos la normalidad de la variable Purchase sobre las muestras de hombres y mujeres\n",
    "purch_female = stats.shapiro(bf_data['Purchase'][bf_data['Gender']=='F'].sample(n=4000, random_state =1))\n",
    "purch_male = stats.shapiro(bf_data['Purchase'][bf_data['Gender']=='M'].sample(n=4000, random_state =1))\n",
    "if purch_female[1]<0.05:\n",
    "    print (\"la variable no es normal\")\n",
    "else:\n",
    "    print (\"la variable es normal\")"
   ]
  },
  {
   "cell_type": "code",
   "execution_count": null,
   "metadata": {},
<<<<<<< HEAD
   "outputs": [
    {
     "name": "stdout",
     "output_type": "stream",
     "text": [
      "{'GenderF': 4.860132656335689e-37}\n",
      "{'GenderM': 1.622617137044561e-33}\n",
      "{'Age0-17': 5.367863269783801e-34}\n",
      "{'Age55+': 4.00766833593923e-35}\n",
      "{'Age26-35': 1.563721162210207e-35}\n",
      "{'Age46-50': 1.515031072693757e-34}\n",
      "{'Age51-55': 9.342797876266847e-34}\n",
      "{'Age36-45': 2.411296612794047e-34}\n",
      "{'Age18-25': 1.1716942266898624e-35}\n",
      "{'City_CategoryA': 1.5349875573779245e-35}\n",
      "{'City_CategoryC': 3.27519863528204e-34}\n",
      "{'City_CategoryB': 1.7345011772318997e-35}\n",
      "{'Marital_Status0': 3.9950443990486123e-35}\n",
      "{'Marital_Status1': 2.230614751083637e-35}\n"
     ]
    }
   ],
   "source": [
    "#Analizamos la normalidad de la variable Purchase sobre las muestras de las variables Gender, Age, \n",
    "#City_category y Marital_Status\n",
    "\n",
    "bf_data['Marital_Status'] = bf_data['Marital_Status'].astype('string')\n",
    "data_select = ['Gender', 'Age', 'City_Category', 'Marital_Status']\n",
    "for value in data_select:\n",
    "    var = bf_data[value].unique()\n",
    "    for i in range(len(var)):\n",
    "        shap_num = stats.shapiro(bf_data['Purchase'][bf_data[value]==var[i]].sample(n=4000, random_state =1))\n",
    "        shap_dict = {value +  var[i]: shap_num[1]}\n",
    "        print shap_dict\n",
    "        "
   ]
  },
  {
   "cell_type": "raw",
   "metadata": {},
   "source": [
    "Observamos que la variable Purchase con respecto a las variables 'Gender', 'Age', 'City_Category', 'Marital_Status' presenta una distribución no normal. Sin embargo, como la muestra es grande podemos aplicar el teorema del límite central para asumir normalidad."
   ]
  },
  {
   "cell_type": "code",
   "execution_count": 18,
   "metadata": {},
   "outputs": [
    {
     "name": "stdout",
     "output_type": "stream",
     "text": [
      "{'GenderF': 'se rechaza hip\\xc3\\xb3tesis nula de homosteceidad'}\n",
      "{'GenderM': 'se rechaza hip\\xc3\\xb3tesis nula de homosteceidad'}\n",
      "{'Age0-17': 'se rechaza hip\\xc3\\xb3tesis nula de homosteceidad'}\n",
      "{'Age55+': 'se rechaza hip\\xc3\\xb3tesis nula de homosteceidad'}\n",
      "{'Age26-35': 'se acepta la hihttp://localhost:8888/notebooks/Black_friday_cleaning.ipynb#p\\xc3\\xb3tesis nula de homosteceidad'}\n",
      "{'Age46-50': 'se rechaza hip\\xc3\\xb3tesis nula de homosteceidad'}\n",
      "{'Age51-55': 'se acepta la hihttp://localhost:8888/notebooks/Black_friday_cleaning.ipynb#p\\xc3\\xb3tesis nula de homosteceidad'}\n",
      "{'Age36-45': 'se acepta la hihttp://localhost:8888/notebooks/Black_friday_cleaning.ipynb#p\\xc3\\xb3tesis nula de homosteceidad'}\n",
      "{'Age18-25': 'se rechaza hip\\xc3\\xb3tesis nula de homosteceidad'}\n",
      "{'City_CategoryA': 'se rechaza hip\\xc3\\xb3tesis nula de homosteceidad'}\n",
      "{'City_CategoryC': 'se rechaza hip\\xc3\\xb3tesis nula de homosteceidad'}\n",
      "{'City_CategoryB': 'se rechaza hip\\xc3\\xb3tesis nula de homosteceidad'}\n",
      "{'Marital_Status0': 'se acepta la hihttp://localhost:8888/notebooks/Black_friday_cleaning.ipynb#p\\xc3\\xb3tesis nula de homosteceidad'}\n",
      "{'Marital_Status1': 'se acepta la hihttp://localhost:8888/notebooks/Black_friday_cleaning.ipynb#p\\xc3\\xb3tesis nula de homosteceidad'}\n"
     ]
    }
   ],
   "source": [
    "#Probamos la homosteceidad \n",
    "\n",
    "for value in data_select:\n",
    "    var = bf_data[value].unique()\n",
    "    for i in range(len(var)):\n",
    "        flig_num = stats.fligner(bf_data['Purchase'], bf_data['Purchase'][bf_data[value]==var[i]])\n",
    "        if flig_num[1] <0.05:\n",
    "            flig_stat = \"se rechaza hipótesis nula de homosteceidad\"\n",
    "        elif flig_num[1] >= 0.05:\n",
    "            flig_stat = \"se acepta la hihttp://localhost:8888/notebooks/Black_friday_cleaning.ipynb#pótesis nula de homosteceidad\"\n",
    "        flig_dict = {value +  var[i]: flig_stat}\n",
    "        print flig_dict\n",
    "        "
   ]
  },
  {
   "cell_type": "code",
   "execution_count": 19,
   "metadata": {},
   "outputs": [
    {
     "data": {
      "text/plain": [
       "FlignerResult(statistic=701234.3319436846, pvalue=0.0)"
      ]
     },
     "execution_count": 19,
     "metadata": {},
     "output_type": "execute_result"
    }
   ],
||||||| merged common ancestors
   "outputs": [
    {
     "data": {
      "text/plain": [
       "FlignerResult(statistic=1012.9321628625678, pvalue=2.7752221134490695e-222)"
      ]
     },
     "execution_count": 17,
     "metadata": {},
     "output_type": "execute_result"
    }
   ],
=======
   "outputs": [],
>>>>>>> ab767dc36cc42154e3da6b651618282b1674c8ce
   "source": [
    "stats.fligner(bf_data['Purchase'], bf_data['Age']=='M')"
   ]
  },
  {
   "cell_type": "markdown",
   "metadata": {},
   "source": [
    "## Aplicación de pruebas estadísticas para comparar los grupos de datos. En función de los datos y el objetivo del estudio, aplicar pruebas de contraste de hipótesis, correlaciones, regresiones, etc. Aplicar al menos tres métodos de análisis diferentes. "
   ]
  }
 ],
 "metadata": {
  "kernelspec": {
   "display_name": "Python 2",
   "language": "python",
   "name": "python2"
  },
  "language_info": {
   "codemirror_mode": {
    "name": "ipython",
    "version": 2
   },
   "file_extension": ".py",
   "mimetype": "text/x-python",
   "name": "python",
   "nbconvert_exporter": "python",
   "pygments_lexer": "ipython2",
   "version": "2.7.15"
  }
 },
 "nbformat": 4,
 "nbformat_minor": 2
}
