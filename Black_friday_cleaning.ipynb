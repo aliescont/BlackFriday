{
 "cells": [
  {
   "cell_type": "markdown",
   "metadata": {},
   "source": [
    "# PRAC2: Limpieza y análisis de datos - Black Friday"
   ]
  },
  {
   "cell_type": "markdown",
   "metadata": {},
   "source": [
    "## 1. Descripción del dataset"
   ]
  },
  {
   "cell_type": "code",
   "execution_count": 1,
   "metadata": {},
   "outputs": [],
   "source": [
    "# En primer lugar, importamos las librerías necesarias\n",
    "import sys\n",
    "from scipy import stats\n",
    "import numpy as np\n",
    "import pandas as pd\n",
    "import matplotlib.pyplot as plt\n",
    "from sklearn.cluster import KMeans\n",
    "from sklearn.preprocessing import LabelEncoder, OneHotEncoder, StandardScaler\n",
    "from sklearn.model_selection import train_test_split\n",
    "from sklearn.ensemble import RandomForestRegressor\n",
    "from sklearn.preprocessing import StandardScaler\n",
    "from sklearn.ensemble import RandomForestClassifier\n",
    "from sklearn import metrics\n",
    "import pylab \n",
    "from sklearn.neighbors import KNeighborsClassifier  \n",
    "from sklearn.metrics import silhouette_score\n",
    "from sklearn.metrics import r2_score\n",
    "from sklearn.ensemble import GradientBoostingRegressor\n",
    "#import scipy.stats as stats"
   ]
  },
  {
   "cell_type": "code",
   "execution_count": 2,
   "metadata": {},
   "outputs": [
    {
     "data": {
      "text/html": [
       "<div>\n",
       "<style scoped>\n",
       "    .dataframe tbody tr th:only-of-type {\n",
       "        vertical-align: middle;\n",
       "    }\n",
       "\n",
       "    .dataframe tbody tr th {\n",
       "        vertical-align: top;\n",
       "    }\n",
       "\n",
       "    .dataframe thead th {\n",
       "        text-align: right;\n",
       "    }\n",
       "</style>\n",
       "<table border=\"1\" class=\"dataframe\">\n",
       "  <thead>\n",
       "    <tr style=\"text-align: right;\">\n",
       "      <th></th>\n",
       "      <th>User_ID</th>\n",
       "      <th>Product_ID</th>\n",
       "      <th>Gender</th>\n",
       "      <th>Age</th>\n",
       "      <th>Occupation</th>\n",
       "      <th>City_Category</th>\n",
       "      <th>Stay_In_Current_City_Years</th>\n",
       "      <th>Marital_Status</th>\n",
       "      <th>Product_Category_1</th>\n",
       "      <th>Product_Category_2</th>\n",
       "      <th>Product_Category_3</th>\n",
       "      <th>Purchase</th>\n",
       "    </tr>\n",
       "  </thead>\n",
       "  <tbody>\n",
       "    <tr>\n",
       "      <th>0</th>\n",
       "      <td>1000001</td>\n",
       "      <td>P00069042</td>\n",
       "      <td>F</td>\n",
       "      <td>0-17</td>\n",
       "      <td>10</td>\n",
       "      <td>A</td>\n",
       "      <td>2</td>\n",
       "      <td>0</td>\n",
       "      <td>3</td>\n",
       "      <td>NaN</td>\n",
       "      <td>NaN</td>\n",
       "      <td>8370</td>\n",
       "    </tr>\n",
       "    <tr>\n",
       "      <th>1</th>\n",
       "      <td>1000001</td>\n",
       "      <td>P00248942</td>\n",
       "      <td>F</td>\n",
       "      <td>0-17</td>\n",
       "      <td>10</td>\n",
       "      <td>A</td>\n",
       "      <td>2</td>\n",
       "      <td>0</td>\n",
       "      <td>1</td>\n",
       "      <td>6.0</td>\n",
       "      <td>14.0</td>\n",
       "      <td>15200</td>\n",
       "    </tr>\n",
       "    <tr>\n",
       "      <th>2</th>\n",
       "      <td>1000001</td>\n",
       "      <td>P00087842</td>\n",
       "      <td>F</td>\n",
       "      <td>0-17</td>\n",
       "      <td>10</td>\n",
       "      <td>A</td>\n",
       "      <td>2</td>\n",
       "      <td>0</td>\n",
       "      <td>12</td>\n",
       "      <td>NaN</td>\n",
       "      <td>NaN</td>\n",
       "      <td>1422</td>\n",
       "    </tr>\n",
       "    <tr>\n",
       "      <th>3</th>\n",
       "      <td>1000001</td>\n",
       "      <td>P00085442</td>\n",
       "      <td>F</td>\n",
       "      <td>0-17</td>\n",
       "      <td>10</td>\n",
       "      <td>A</td>\n",
       "      <td>2</td>\n",
       "      <td>0</td>\n",
       "      <td>12</td>\n",
       "      <td>14.0</td>\n",
       "      <td>NaN</td>\n",
       "      <td>1057</td>\n",
       "    </tr>\n",
       "    <tr>\n",
       "      <th>4</th>\n",
       "      <td>1000002</td>\n",
       "      <td>P00285442</td>\n",
       "      <td>M</td>\n",
       "      <td>55+</td>\n",
       "      <td>16</td>\n",
       "      <td>C</td>\n",
       "      <td>4+</td>\n",
       "      <td>0</td>\n",
       "      <td>8</td>\n",
       "      <td>NaN</td>\n",
       "      <td>NaN</td>\n",
       "      <td>7969</td>\n",
       "    </tr>\n",
       "  </tbody>\n",
       "</table>\n",
       "</div>"
      ],
      "text/plain": [
       "   User_ID Product_ID Gender   Age  Occupation City_Category  \\\n",
       "0  1000001  P00069042      F  0-17          10             A   \n",
       "1  1000001  P00248942      F  0-17          10             A   \n",
       "2  1000001  P00087842      F  0-17          10             A   \n",
       "3  1000001  P00085442      F  0-17          10             A   \n",
       "4  1000002  P00285442      M   55+          16             C   \n",
       "\n",
       "  Stay_In_Current_City_Years  Marital_Status  Product_Category_1  \\\n",
       "0                          2               0                   3   \n",
       "1                          2               0                   1   \n",
       "2                          2               0                  12   \n",
       "3                          2               0                  12   \n",
       "4                         4+               0                   8   \n",
       "\n",
       "   Product_Category_2  Product_Category_3  Purchase  \n",
       "0                 NaN                 NaN      8370  \n",
       "1                 6.0                14.0     15200  \n",
       "2                 NaN                 NaN      1422  \n",
       "3                14.0                 NaN      1057  \n",
       "4                 NaN                 NaN      7969  "
      ]
     },
     "execution_count": 2,
     "metadata": {},
     "output_type": "execute_result"
    }
   ],
   "source": [
    "# Cargamos los datos del dataset en un dataframe\n",
    "black_data = pd.read_csv(\"BlackFriday.csv\")\n",
    "black_data.head()"
   ]
  },
  {
   "cell_type": "code",
   "execution_count": 3,
   "metadata": {},
   "outputs": [
    {
     "data": {
      "text/html": [
       "<div>\n",
       "<style scoped>\n",
       "    .dataframe tbody tr th:only-of-type {\n",
       "        vertical-align: middle;\n",
       "    }\n",
       "\n",
       "    .dataframe tbody tr th {\n",
       "        vertical-align: top;\n",
       "    }\n",
       "\n",
       "    .dataframe thead th {\n",
       "        text-align: right;\n",
       "    }\n",
       "</style>\n",
       "<table border=\"1\" class=\"dataframe\">\n",
       "  <thead>\n",
       "    <tr style=\"text-align: right;\">\n",
       "      <th></th>\n",
       "      <th>User_ID</th>\n",
       "      <th>Occupation</th>\n",
       "      <th>Marital_Status</th>\n",
       "      <th>Product_Category_1</th>\n",
       "      <th>Product_Category_2</th>\n",
       "      <th>Product_Category_3</th>\n",
       "      <th>Purchase</th>\n",
       "    </tr>\n",
       "  </thead>\n",
       "  <tbody>\n",
       "    <tr>\n",
       "      <th>count</th>\n",
       "      <td>5.375770e+05</td>\n",
       "      <td>537577.00000</td>\n",
       "      <td>537577.000000</td>\n",
       "      <td>537577.000000</td>\n",
       "      <td>370591.000000</td>\n",
       "      <td>164278.000000</td>\n",
       "      <td>537577.000000</td>\n",
       "    </tr>\n",
       "    <tr>\n",
       "      <th>mean</th>\n",
       "      <td>1.002992e+06</td>\n",
       "      <td>8.08271</td>\n",
       "      <td>0.408797</td>\n",
       "      <td>5.295546</td>\n",
       "      <td>9.842144</td>\n",
       "      <td>12.669840</td>\n",
       "      <td>9333.859853</td>\n",
       "    </tr>\n",
       "    <tr>\n",
       "      <th>std</th>\n",
       "      <td>1.714393e+03</td>\n",
       "      <td>6.52412</td>\n",
       "      <td>0.491612</td>\n",
       "      <td>3.750701</td>\n",
       "      <td>5.087259</td>\n",
       "      <td>4.124341</td>\n",
       "      <td>4981.022133</td>\n",
       "    </tr>\n",
       "    <tr>\n",
       "      <th>min</th>\n",
       "      <td>1.000001e+06</td>\n",
       "      <td>0.00000</td>\n",
       "      <td>0.000000</td>\n",
       "      <td>1.000000</td>\n",
       "      <td>2.000000</td>\n",
       "      <td>3.000000</td>\n",
       "      <td>185.000000</td>\n",
       "    </tr>\n",
       "    <tr>\n",
       "      <th>25%</th>\n",
       "      <td>1.001495e+06</td>\n",
       "      <td>2.00000</td>\n",
       "      <td>0.000000</td>\n",
       "      <td>1.000000</td>\n",
       "      <td>5.000000</td>\n",
       "      <td>9.000000</td>\n",
       "      <td>5866.000000</td>\n",
       "    </tr>\n",
       "    <tr>\n",
       "      <th>50%</th>\n",
       "      <td>1.003031e+06</td>\n",
       "      <td>7.00000</td>\n",
       "      <td>0.000000</td>\n",
       "      <td>5.000000</td>\n",
       "      <td>9.000000</td>\n",
       "      <td>14.000000</td>\n",
       "      <td>8062.000000</td>\n",
       "    </tr>\n",
       "    <tr>\n",
       "      <th>75%</th>\n",
       "      <td>1.004417e+06</td>\n",
       "      <td>14.00000</td>\n",
       "      <td>1.000000</td>\n",
       "      <td>8.000000</td>\n",
       "      <td>15.000000</td>\n",
       "      <td>16.000000</td>\n",
       "      <td>12073.000000</td>\n",
       "    </tr>\n",
       "    <tr>\n",
       "      <th>max</th>\n",
       "      <td>1.006040e+06</td>\n",
       "      <td>20.00000</td>\n",
       "      <td>1.000000</td>\n",
       "      <td>18.000000</td>\n",
       "      <td>18.000000</td>\n",
       "      <td>18.000000</td>\n",
       "      <td>23961.000000</td>\n",
       "    </tr>\n",
       "  </tbody>\n",
       "</table>\n",
       "</div>"
      ],
      "text/plain": [
       "            User_ID    Occupation  Marital_Status  Product_Category_1  \\\n",
       "count  5.375770e+05  537577.00000   537577.000000       537577.000000   \n",
       "mean   1.002992e+06       8.08271        0.408797            5.295546   \n",
       "std    1.714393e+03       6.52412        0.491612            3.750701   \n",
       "min    1.000001e+06       0.00000        0.000000            1.000000   \n",
       "25%    1.001495e+06       2.00000        0.000000            1.000000   \n",
       "50%    1.003031e+06       7.00000        0.000000            5.000000   \n",
       "75%    1.004417e+06      14.00000        1.000000            8.000000   \n",
       "max    1.006040e+06      20.00000        1.000000           18.000000   \n",
       "\n",
       "       Product_Category_2  Product_Category_3       Purchase  \n",
       "count       370591.000000       164278.000000  537577.000000  \n",
       "mean             9.842144           12.669840    9333.859853  \n",
       "std              5.087259            4.124341    4981.022133  \n",
       "min              2.000000            3.000000     185.000000  \n",
       "25%              5.000000            9.000000    5866.000000  \n",
       "50%              9.000000           14.000000    8062.000000  \n",
       "75%             15.000000           16.000000   12073.000000  \n",
       "max             18.000000           18.000000   23961.000000  "
      ]
     },
     "execution_count": 3,
     "metadata": {},
     "output_type": "execute_result"
    }
   ],
   "source": [
    "# Veamos los descriptores estadísticos de las variables paramétricas\n",
    "black_data.describe()"
   ]
  },
  {
   "cell_type": "code",
   "execution_count": 4,
   "metadata": {},
   "outputs": [
    {
     "data": {
      "text/plain": [
       "User_ID                         int64\n",
       "Product_ID                     object\n",
       "Gender                         object\n",
       "Age                            object\n",
       "Occupation                      int64\n",
       "City_Category                  object\n",
       "Stay_In_Current_City_Years     object\n",
       "Marital_Status                  int64\n",
       "Product_Category_1              int64\n",
       "Product_Category_2            float64\n",
       "Product_Category_3            float64\n",
       "Purchase                        int64\n",
       "dtype: object"
      ]
     },
     "execution_count": 4,
     "metadata": {},
     "output_type": "execute_result"
    }
   ],
   "source": [
    "# Verificamos los tipos de valor en cada celda\n",
    "black_data.dtypes"
   ]
  },
  {
   "cell_type": "code",
   "execution_count": 5,
   "metadata": {},
   "outputs": [
    {
     "data": {
      "text/plain": [
       "User_ID                          int64\n",
       "Product_ID                      object\n",
       "Gender                        category\n",
       "Age                           category\n",
       "Occupation                    category\n",
       "City_Category                 category\n",
       "Stay_In_Current_City_Years    category\n",
       "Marital_Status                category\n",
       "Product_Category_1            category\n",
       "Product_Category_2            category\n",
       "Product_Category_3            category\n",
       "Purchase                         int64\n",
       "dtype: object"
      ]
     },
     "execution_count": 5,
     "metadata": {},
     "output_type": "execute_result"
    }
   ],
   "source": [
    "# Corregimos aquellos que aparecen como numéricos pero son categóricos. \n",
    "cat_values = [\"Gender\", \"Age\", \"Occupation\", \"City_Category\", \"Marital_Status\", \"Stay_In_Current_City_Years\", \n",
    "              \"Product_Category_1\", \"Product_Category_2\", \"Product_Category_3\"]\n",
    "for column in cat_values:\n",
    "    black_data[column] = black_data[column].astype('category')\n",
    "black_data.dtypes"
   ]
  },
  {
   "cell_type": "markdown",
   "metadata": {},
   "source": [
    "## 3. Limpieza de los datos"
   ]
  },
  {
   "cell_type": "markdown",
   "metadata": {},
   "source": [
    "### 3.1 Datos perdidos"
   ]
  },
  {
   "cell_type": "code",
   "execution_count": 6,
   "metadata": {},
   "outputs": [
    {
     "data": {
      "text/plain": [
       "User_ID                            0\n",
       "Product_ID                         0\n",
       "Gender                             0\n",
       "Age                                0\n",
       "Occupation                         0\n",
       "City_Category                      0\n",
       "Stay_In_Current_City_Years         0\n",
       "Marital_Status                     0\n",
       "Product_Category_1                 0\n",
       "Product_Category_2            166986\n",
       "Product_Category_3            373299\n",
       "Purchase                           0\n",
       "dtype: int64"
      ]
     },
     "execution_count": 6,
     "metadata": {},
     "output_type": "execute_result"
    }
   ],
   "source": [
    "# Utilizamos la función isnull para ver cuántos registros tienen valor vacío, NA o NaN\n",
    "black_data.isnull().sum()"
   ]
  },
  {
   "cell_type": "code",
   "execution_count": 7,
   "metadata": {},
   "outputs": [
    {
     "data": {
      "text/plain": [
       "User_ID                            0\n",
       "Product_ID                         0\n",
       "Gender                             0\n",
       "Age                                0\n",
       "Occupation                         0\n",
       "City_Category                      0\n",
       "Stay_In_Current_City_Years         0\n",
       "Marital_Status                     0\n",
       "Product_Category_1                 0\n",
       "Product_Category_2            166986\n",
       "Product_Category_3            373299\n",
       "Purchase                           0\n",
       "dtype: int64"
      ]
     },
     "execution_count": 7,
     "metadata": {},
     "output_type": "execute_result"
    }
   ],
   "source": [
    "# Verificamos si hay valores pérdidos con otras sintaxis\n",
    "# Definimos los valores NA comunes en una lista\n",
    "missing_values = [\"n/a\", \"na\", \"--\", \"Na\"]\n",
    "black_data = pd.read_csv(\"BlackFriday.csv\", na_values= missing_values)\n",
    "black_data.isnull().sum()"
   ]
  },
  {
   "cell_type": "markdown",
   "metadata": {},
   "source": [
    "\n",
    "Solo las columnas Product_Category_2 y Product_Category_3 tienen datos perdidos. Verifiquemos la correlación entre variables para verificar si las variables con valores pérdidos tienen alguna correlación alta con las demás:"
   ]
  },
  {
   "cell_type": "code",
   "execution_count": 8,
   "metadata": {},
   "outputs": [
    {
     "data": {
      "text/html": [
       "<div>\n",
       "<style scoped>\n",
       "    .dataframe tbody tr th:only-of-type {\n",
       "        vertical-align: middle;\n",
       "    }\n",
       "\n",
       "    .dataframe tbody tr th {\n",
       "        vertical-align: top;\n",
       "    }\n",
       "\n",
       "    .dataframe thead th {\n",
       "        text-align: right;\n",
       "    }\n",
       "</style>\n",
       "<table border=\"1\" class=\"dataframe\">\n",
       "  <thead>\n",
       "    <tr style=\"text-align: right;\">\n",
       "      <th></th>\n",
       "      <th>User_ID</th>\n",
       "      <th>Occupation</th>\n",
       "      <th>Marital_Status</th>\n",
       "      <th>Product_Category_1</th>\n",
       "      <th>Product_Category_2</th>\n",
       "      <th>Product_Category_3</th>\n",
       "      <th>Purchase</th>\n",
       "    </tr>\n",
       "  </thead>\n",
       "  <tbody>\n",
       "    <tr>\n",
       "      <th>User_ID</th>\n",
       "      <td>1.000000</td>\n",
       "      <td>-0.023024</td>\n",
       "      <td>0.018732</td>\n",
       "      <td>0.003687</td>\n",
       "      <td>0.001471</td>\n",
       "      <td>0.004045</td>\n",
       "      <td>0.005389</td>\n",
       "    </tr>\n",
       "    <tr>\n",
       "      <th>Occupation</th>\n",
       "      <td>-0.023024</td>\n",
       "      <td>1.000000</td>\n",
       "      <td>0.024691</td>\n",
       "      <td>-0.008114</td>\n",
       "      <td>-0.000031</td>\n",
       "      <td>0.013452</td>\n",
       "      <td>0.021104</td>\n",
       "    </tr>\n",
       "    <tr>\n",
       "      <th>Marital_Status</th>\n",
       "      <td>0.018732</td>\n",
       "      <td>0.024691</td>\n",
       "      <td>1.000000</td>\n",
       "      <td>0.020546</td>\n",
       "      <td>0.015116</td>\n",
       "      <td>0.019452</td>\n",
       "      <td>0.000129</td>\n",
       "    </tr>\n",
       "    <tr>\n",
       "      <th>Product_Category_1</th>\n",
       "      <td>0.003687</td>\n",
       "      <td>-0.008114</td>\n",
       "      <td>0.020546</td>\n",
       "      <td>1.000000</td>\n",
       "      <td>0.540423</td>\n",
       "      <td>0.229490</td>\n",
       "      <td>-0.314125</td>\n",
       "    </tr>\n",
       "    <tr>\n",
       "      <th>Product_Category_2</th>\n",
       "      <td>0.001471</td>\n",
       "      <td>-0.000031</td>\n",
       "      <td>0.015116</td>\n",
       "      <td>0.540423</td>\n",
       "      <td>1.000000</td>\n",
       "      <td>0.543544</td>\n",
       "      <td>-0.209973</td>\n",
       "    </tr>\n",
       "    <tr>\n",
       "      <th>Product_Category_3</th>\n",
       "      <td>0.004045</td>\n",
       "      <td>0.013452</td>\n",
       "      <td>0.019452</td>\n",
       "      <td>0.229490</td>\n",
       "      <td>0.543544</td>\n",
       "      <td>1.000000</td>\n",
       "      <td>-0.022257</td>\n",
       "    </tr>\n",
       "    <tr>\n",
       "      <th>Purchase</th>\n",
       "      <td>0.005389</td>\n",
       "      <td>0.021104</td>\n",
       "      <td>0.000129</td>\n",
       "      <td>-0.314125</td>\n",
       "      <td>-0.209973</td>\n",
       "      <td>-0.022257</td>\n",
       "      <td>1.000000</td>\n",
       "    </tr>\n",
       "  </tbody>\n",
       "</table>\n",
       "</div>"
      ],
      "text/plain": [
       "                     User_ID  Occupation  Marital_Status  Product_Category_1  \\\n",
       "User_ID             1.000000   -0.023024        0.018732            0.003687   \n",
       "Occupation         -0.023024    1.000000        0.024691           -0.008114   \n",
       "Marital_Status      0.018732    0.024691        1.000000            0.020546   \n",
       "Product_Category_1  0.003687   -0.008114        0.020546            1.000000   \n",
       "Product_Category_2  0.001471   -0.000031        0.015116            0.540423   \n",
       "Product_Category_3  0.004045    0.013452        0.019452            0.229490   \n",
       "Purchase            0.005389    0.021104        0.000129           -0.314125   \n",
       "\n",
       "                    Product_Category_2  Product_Category_3  Purchase  \n",
       "User_ID                       0.001471            0.004045  0.005389  \n",
       "Occupation                   -0.000031            0.013452  0.021104  \n",
       "Marital_Status                0.015116            0.019452  0.000129  \n",
       "Product_Category_1            0.540423            0.229490 -0.314125  \n",
       "Product_Category_2            1.000000            0.543544 -0.209973  \n",
       "Product_Category_3            0.543544            1.000000 -0.022257  \n",
       "Purchase                     -0.209973           -0.022257  1.000000  "
      ]
     },
     "execution_count": 8,
     "metadata": {},
     "output_type": "execute_result"
    }
   ],
   "source": [
    "black_data.corr()"
   ]
  },
  {
   "cell_type": "markdown",
   "metadata": {},
   "source": [
    "La correlación más fuerte la tienen entre ellas, por lo que una sustitución de los valores vacíos por 0 no tendría consecuencias para el modelo."
   ]
  },
  {
   "cell_type": "code",
   "execution_count": 9,
   "metadata": {},
   "outputs": [
    {
     "data": {
      "text/plain": [
       "166986"
      ]
     },
     "execution_count": 9,
     "metadata": {},
     "output_type": "execute_result"
    }
   ],
   "source": [
    "# Veamos si los valores vacíos en Product_Category_2 también lo están en Product_Category_3\n",
    "len(black_data[black_data['Product_Category_2'].isnull() & black_data['Product_Category_3'].isnull()])"
   ]
  },
  {
   "cell_type": "code",
   "execution_count": 10,
   "metadata": {},
   "outputs": [
    {
     "data": {
      "text/plain": [
       "<BarContainer object of 18 artists>"
      ]
     },
     "execution_count": 10,
     "metadata": {},
     "output_type": "execute_result"
    },
    {
     "data": {
      "image/png": "[encoded data removed]",
      "text/plain": [
       "<Figure size 432x288 with 1 Axes>"
      ]
     },
     "metadata": {
      "needs_background": "light"
     },
     "output_type": "display_data"
    }
   ],
   "source": [
    "# Verificamos la distribución de Product_Category_1 para comparar con los valores pérdidos de Product_Category_2 y\n",
    "#Product_Category_3\n",
    "prod_1 = black_data['Product_ID'].groupby(black_data['Product_Category_1']).nunique()\n",
    "prod_2 = black_data['Product_ID'].groupby(black_data['Product_Category_2']).nunique()\n",
    "prod_3 = black_data['Product_ID'].groupby(black_data['Product_Category_3']).nunique()\n",
    "prod_1\n",
    "\n",
    "bins = np.sort(black_data['Product_Category_1'].unique())\n",
    "plt.xticks(bins)\n",
    "plt.title('Product_Category_1')\n",
    "plt.bar(bins, prod_1)"
   ]
  },
  {
   "cell_type": "code",
   "execution_count": 11,
   "metadata": {},
   "outputs": [
    {
     "name": "stdout",
     "output_type": "stream",
     "text": [
      "[  4  12  14  18  20  45  51  60  70  76 127 128 138 146 221 317 353]\n",
      "[  3   5   6  14  16  31  37  42  43  69  80 115]\n"
     ]
    }
   ],
   "source": [
    "print np.unique(prod_2)\n",
    "print np.unique(prod_3)"
   ]
  },
  {
   "cell_type": "markdown",
   "metadata": {},
   "source": [
    "Observamos que no hay categoría 0 en ninguna de ellas, por tanto, podríamos asignar a los valores pérdidos el valor 0 para identificar que no se conoce la categoría dentro del tipo de producto 2 y 3 al que pertenecen. "
   ]
  },
  {
   "cell_type": "markdown",
   "metadata": {},
   "source": [
    "De todas formas, al no tener un conocimiento funcional del significado de la categoría 2 y la categoría 3, nos parece más apropiado no tenerlas en cuenta en nuestro estudio. Utilizaremos únicamente la categoría 1 para clasificar el producto, cuyos datos no contienen vacíos y nos parecen más robustos. "
   ]
  },
  {
   "cell_type": "code",
   "execution_count": 12,
   "metadata": {},
   "outputs": [
    {
     "data": {
      "text/plain": [
       "User_ID                          int64\n",
       "Product_ID                      object\n",
       "Gender                        category\n",
       "Age                           category\n",
       "Occupation                    category\n",
       "City_Category                 category\n",
       "Stay_In_Current_City_Years    category\n",
       "Marital_Status                category\n",
       "Product_Category_1            category\n",
       "Purchase                         int64\n",
       "dtype: object"
      ]
     },
     "execution_count": 12,
     "metadata": {},
     "output_type": "execute_result"
    }
   ],
   "source": [
    "# Eliminamos las categorías 2 y 3 del data frame.\n",
    "bf_data = black_data.drop(['Product_Category_2', 'Product_Category_3'], axis=1)\n",
    "\n",
    "# Corregimos los tipos de datos. \n",
    "cat_values = [\"Gender\", \"Age\", \"Occupation\", \"City_Category\", \"Marital_Status\", \"Stay_In_Current_City_Years\",\n",
    "              \"Product_Category_1\"]\n",
    "\n",
    "for column in cat_values:\n",
    "    bf_data[column] = bf_data[column].astype('category')\n",
    "bf_data.dtypes"
   ]
  },
  {
   "cell_type": "markdown",
   "metadata": {},
   "source": [
    "### 3.2 Valores extremos"
   ]
  },
  {
   "cell_type": "markdown",
   "metadata": {},
   "source": [
    "#### Valores extremos en la muestra completa"
   ]
  },
  {
   "cell_type": "code",
   "execution_count": 13,
   "metadata": {},
   "outputs": [
    {
     "data": {
      "text/plain": [
       "Text(0,0.5,'Purchase ($)')"
      ]
     },
     "execution_count": 13,
     "metadata": {},
     "output_type": "execute_result"
    },
    {
     "data": {
      "image/png": "[encoded data removed]",
      "text/plain": [
       "<Figure size 2160x720 with 1 Axes>"
      ]
     },
     "metadata": {
      "needs_background": "light"
     },
     "output_type": "display_data"
    }
   ],
   "source": [
    "# Representamos el gráfico de cajas de la variable \"Purchase\" para la muestra completa\n",
    "plt.figure(figsize=[30,10])\n",
    "plt.subplot(231)\n",
    "cajas = plt.boxplot(x=bf_data['Purchase'], showmeans = True, meanline = True)\n",
    "plt.title('Purchase Boxplot')\n",
    "plt.ylabel('Purchase ($)')"
   ]
  },
  {
   "cell_type": "code",
   "execution_count": 14,
   "metadata": {},
   "outputs": [
    {
     "name": "stdout",
     "output_type": "stream",
     "text": [
      "Num. de datos atípicos 2665\n",
      "Tamaño de la muestra completa 537577\n",
      "Intervalo de valores atípicos:( 21384 , 23961 )\n"
     ]
    }
   ],
   "source": [
    "# Almacenamos los valores atípicos en una lista\n",
    "outliers = list(cajas[\"fliers\"][0].get_data()[1])\n",
    "\n",
    "# Comparemos los tamaños de las muestras\n",
    "print \"Num. de datos atípicos\", len(outliers)\n",
    "print \"Tamaño de la muestra completa\", len(bf_data)\n",
    "\n",
    "# Comprobamos la longitud para ver cuántos registros se consideran extremos.\n",
    "print \"Intervalo de valores atípicos:(\", min(outliers),\",\", max(outliers), \")\""
   ]
  },
  {
   "cell_type": "code",
   "execution_count": 15,
   "metadata": {},
   "outputs": [
    {
     "data": {
      "text/html": [
       "<div>\n",
       "<style scoped>\n",
       "    .dataframe tbody tr th:only-of-type {\n",
       "        vertical-align: middle;\n",
       "    }\n",
       "\n",
       "    .dataframe tbody tr th {\n",
       "        vertical-align: top;\n",
       "    }\n",
       "\n",
       "    .dataframe thead th {\n",
       "        text-align: right;\n",
       "    }\n",
       "</style>\n",
       "<table border=\"1\" class=\"dataframe\">\n",
       "  <thead>\n",
       "    <tr style=\"text-align: right;\">\n",
       "      <th></th>\n",
       "      <th>User_ID</th>\n",
       "      <th>Purchase</th>\n",
       "    </tr>\n",
       "  </thead>\n",
       "  <tbody>\n",
       "    <tr>\n",
       "      <th>count</th>\n",
       "      <td>5.349120e+05</td>\n",
       "      <td>534912.000000</td>\n",
       "    </tr>\n",
       "    <tr>\n",
       "      <th>mean</th>\n",
       "      <td>1.002991e+06</td>\n",
       "      <td>9264.683312</td>\n",
       "    </tr>\n",
       "    <tr>\n",
       "      <th>std</th>\n",
       "      <td>1.714130e+03</td>\n",
       "      <td>4895.538823</td>\n",
       "    </tr>\n",
       "    <tr>\n",
       "      <th>min</th>\n",
       "      <td>1.000001e+06</td>\n",
       "      <td>185.000000</td>\n",
       "    </tr>\n",
       "    <tr>\n",
       "      <th>25%</th>\n",
       "      <td>1.001495e+06</td>\n",
       "      <td>5857.000000</td>\n",
       "    </tr>\n",
       "    <tr>\n",
       "      <th>50%</th>\n",
       "      <td>1.003031e+06</td>\n",
       "      <td>8052.000000</td>\n",
       "    </tr>\n",
       "    <tr>\n",
       "      <th>75%</th>\n",
       "      <td>1.004416e+06</td>\n",
       "      <td>12037.000000</td>\n",
       "    </tr>\n",
       "    <tr>\n",
       "      <th>max</th>\n",
       "      <td>1.006040e+06</td>\n",
       "      <td>21382.000000</td>\n",
       "    </tr>\n",
       "  </tbody>\n",
       "</table>\n",
       "</div>"
      ],
      "text/plain": [
       "            User_ID       Purchase\n",
       "count  5.349120e+05  534912.000000\n",
       "mean   1.002991e+06    9264.683312\n",
       "std    1.714130e+03    4895.538823\n",
       "min    1.000001e+06     185.000000\n",
       "25%    1.001495e+06    5857.000000\n",
       "50%    1.003031e+06    8052.000000\n",
       "75%    1.004416e+06   12037.000000\n",
       "max    1.006040e+06   21382.000000"
      ]
     },
     "execution_count": 15,
     "metadata": {},
     "output_type": "execute_result"
    }
   ],
   "source": [
    "# Veamos qué pasaría si eliminásemos los datos atípicos\n",
    "bf_data_sin = bf_data[~bf_data.Purchase.isin(outliers)]\n",
    "bf_data_sin.describe()"
   ]
  },
  {
   "cell_type": "code",
   "execution_count": 16,
   "metadata": {},
   "outputs": [
    {
     "data": {
      "text/html": [
       "<div>\n",
       "<style scoped>\n",
       "    .dataframe tbody tr th:only-of-type {\n",
       "        vertical-align: middle;\n",
       "    }\n",
       "\n",
       "    .dataframe tbody tr th {\n",
       "        vertical-align: top;\n",
       "    }\n",
       "\n",
       "    .dataframe thead th {\n",
       "        text-align: right;\n",
       "    }\n",
       "</style>\n",
       "<table border=\"1\" class=\"dataframe\">\n",
       "  <thead>\n",
       "    <tr style=\"text-align: right;\">\n",
       "      <th></th>\n",
       "      <th>User_ID</th>\n",
       "      <th>Purchase</th>\n",
       "    </tr>\n",
       "  </thead>\n",
       "  <tbody>\n",
       "    <tr>\n",
       "      <th>count</th>\n",
       "      <td>5.375770e+05</td>\n",
       "      <td>537577.000000</td>\n",
       "    </tr>\n",
       "    <tr>\n",
       "      <th>mean</th>\n",
       "      <td>1.002992e+06</td>\n",
       "      <td>9333.859853</td>\n",
       "    </tr>\n",
       "    <tr>\n",
       "      <th>std</th>\n",
       "      <td>1.714393e+03</td>\n",
       "      <td>4981.022133</td>\n",
       "    </tr>\n",
       "    <tr>\n",
       "      <th>min</th>\n",
       "      <td>1.000001e+06</td>\n",
       "      <td>185.000000</td>\n",
       "    </tr>\n",
       "    <tr>\n",
       "      <th>25%</th>\n",
       "      <td>1.001495e+06</td>\n",
       "      <td>5866.000000</td>\n",
       "    </tr>\n",
       "    <tr>\n",
       "      <th>50%</th>\n",
       "      <td>1.003031e+06</td>\n",
       "      <td>8062.000000</td>\n",
       "    </tr>\n",
       "    <tr>\n",
       "      <th>75%</th>\n",
       "      <td>1.004417e+06</td>\n",
       "      <td>12073.000000</td>\n",
       "    </tr>\n",
       "    <tr>\n",
       "      <th>max</th>\n",
       "      <td>1.006040e+06</td>\n",
       "      <td>23961.000000</td>\n",
       "    </tr>\n",
       "  </tbody>\n",
       "</table>\n",
       "</div>"
      ],
      "text/plain": [
       "            User_ID       Purchase\n",
       "count  5.375770e+05  537577.000000\n",
       "mean   1.002992e+06    9333.859853\n",
       "std    1.714393e+03    4981.022133\n",
       "min    1.000001e+06     185.000000\n",
       "25%    1.001495e+06    5866.000000\n",
       "50%    1.003031e+06    8062.000000\n",
       "75%    1.004417e+06   12073.000000\n",
       "max    1.006040e+06   23961.000000"
      ]
     },
     "execution_count": 16,
     "metadata": {},
     "output_type": "execute_result"
    }
   ],
   "source": [
    "# Lo comparamos con la muestra completa.\n",
    "bf_data.describe()"
   ]
  },
  {
   "cell_type": "code",
   "execution_count": 17,
   "metadata": {},
   "outputs": [
    {
     "name": "stdout",
     "output_type": "stream",
     "text": [
      "Son extremos valores >  30694.0\n",
      "El máximo de la muestra es  23961\n"
     ]
    }
   ],
   "source": [
    "# Calculamos a partir de donde consideramos extremos (3 veces la diferencia inter cuartílica sobre el tercer cuartil):\n",
    "Q3 = bf_data.quantile(q=.75)[\"Purchase\"]\n",
    "Q1 = bf_data.quantile(q=.25)[\"Purchase\"]\n",
    "a = Q3 + 3 * (Q3-Q1)\n",
    "print \"Son extremos valores > \", a\n",
    "print \"El máximo de la muestra es \",max(bf_data[\"Purchase\"])"
   ]
  },
  {
   "cell_type": "markdown",
   "metadata": {},
   "source": [
    "Serían extremos los valores por encima de 30.694 pero el máximo de la muestra es 23.961, por lo que consideramos que ningún punto atípico es extremo analizando la muestra completa. "
   ]
  },
  {
   "cell_type": "markdown",
   "metadata": {},
   "source": [
    "#### Valores extremos por categoría"
   ]
  },
  {
   "cell_type": "markdown",
   "metadata": {},
   "source": [
    "Vamos a analizar si existe algún valor extremo analizando los datos por cada uno de los campos del dataset."
   ]
  },
  {
   "cell_type": "code",
   "execution_count": 18,
   "metadata": {},
   "outputs": [
    {
     "data": {
      "text/plain": [
       "<matplotlib.axes._subplots.AxesSubplot at 0x11d1fe150>"
      ]
     },
     "execution_count": 18,
     "metadata": {},
     "output_type": "execute_result"
    },
    {
     "data": {
      "image/png": "[encoded data removed]",
      "text/plain": [
       "<Figure size 432x288 with 1 Axes>"
      ]
     },
     "metadata": {
      "needs_background": "light"
     },
     "output_type": "display_data"
    },
    {
     "data": {
      "image/png": "[encoded data removed]",
      "text/plain": [
       "<Figure size 432x288 with 1 Axes>"
      ]
     },
     "metadata": {
      "needs_background": "light"
     },
     "output_type": "display_data"
    },
    {
     "data": {
      "image/png": "[encoded data removed]",
      "text/plain": [
       "<Figure size 432x288 with 1 Axes>"
      ]
     },
     "metadata": {
      "needs_background": "light"
     },
     "output_type": "display_data"
    },
    {
     "data": {
      "image/png": "[encoded data removed]",
      "text/plain": [
       "<Figure size 432x288 with 1 Axes>"
      ]
     },
     "metadata": {
      "needs_background": "light"
     },
     "output_type": "display_data"
    },
    {
     "data": {
      "image/png": "[encoded data removed]",
      "text/plain": [
       "<Figure size 432x288 with 1 Axes>"
      ]
     },
     "metadata": {
      "needs_background": "light"
     },
     "output_type": "display_data"
    },
    {
     "data": {
      "image/png": "[encoded data removed]",
      "text/plain": [
       "<Figure size 432x288 with 1 Axes>"
      ]
     },
     "metadata": {
      "needs_background": "light"
     },
     "output_type": "display_data"
    },
    {
     "data": {
      "image/png": "[encoded data removed]",
      "text/plain": [
       "<Figure size 432x288 with 1 Axes>"
      ]
     },
     "metadata": {
      "needs_background": "light"
     },
     "output_type": "display_data"
    }
   ],
   "source": [
    "# Representamos el gráfico de cajas de la variable \"Purchase\" por los atributos.\n",
    "caja_cat1 = bf_data.boxplot(column=['Purchase'], by=['Product_Category_1'],showmeans = True, meanline = True)\n",
    "bf_data.boxplot(column=['Purchase'], by=['Age'],showmeans = True, meanline = True)\n",
    "bf_data.boxplot(column=['Purchase'], by=['Occupation'],showmeans = True, meanline = True)\n",
    "bf_data.boxplot(column=['Purchase'], by=['Gender'],showmeans = True, meanline = True)\n",
    "bf_data.boxplot(column=['Purchase'], by=['City_Category'],showmeans = True, meanline = True)\n",
    "bf_data.boxplot(column=['Purchase'], by=['Stay_In_Current_City_Years'],showmeans = True, meanline = True)\n",
    "bf_data.boxplot(column=['Purchase'], by=['Marital_Status'],showmeans = True, meanline = True)"
   ]
  },
  {
   "cell_type": "code",
   "execution_count": 19,
   "metadata": {},
   "outputs": [
    {
     "data": {
      "text/html": [
       "<div>\n",
       "<style scoped>\n",
       "    .dataframe tbody tr th:only-of-type {\n",
       "        vertical-align: middle;\n",
       "    }\n",
       "\n",
       "    .dataframe tbody tr th {\n",
       "        vertical-align: top;\n",
       "    }\n",
       "\n",
       "    .dataframe thead th {\n",
       "        text-align: right;\n",
       "    }\n",
       "</style>\n",
       "<table border=\"1\" class=\"dataframe\">\n",
       "  <thead>\n",
       "    <tr style=\"text-align: right;\">\n",
       "      <th></th>\n",
       "      <th>User_ID</th>\n",
       "      <th>Purchase</th>\n",
       "    </tr>\n",
       "  </thead>\n",
       "  <tbody>\n",
       "    <tr>\n",
       "      <th>count</th>\n",
       "      <td>5.032000e+03</td>\n",
       "      <td>5032.000000</td>\n",
       "    </tr>\n",
       "    <tr>\n",
       "      <th>mean</th>\n",
       "      <td>1.003051e+06</td>\n",
       "      <td>19679.974364</td>\n",
       "    </tr>\n",
       "    <tr>\n",
       "      <th>std</th>\n",
       "      <td>1.731494e+03</td>\n",
       "      <td>4233.282571</td>\n",
       "    </tr>\n",
       "    <tr>\n",
       "      <th>min</th>\n",
       "      <td>1.000012e+06</td>\n",
       "      <td>4624.000000</td>\n",
       "    </tr>\n",
       "    <tr>\n",
       "      <th>25%</th>\n",
       "      <td>1.001519e+06</td>\n",
       "      <td>18545.000000</td>\n",
       "    </tr>\n",
       "    <tr>\n",
       "      <th>50%</th>\n",
       "      <td>1.003054e+06</td>\n",
       "      <td>19205.500000</td>\n",
       "    </tr>\n",
       "    <tr>\n",
       "      <th>75%</th>\n",
       "      <td>1.004543e+06</td>\n",
       "      <td>23438.000000</td>\n",
       "    </tr>\n",
       "    <tr>\n",
       "      <th>max</th>\n",
       "      <td>1.006040e+06</td>\n",
       "      <td>23961.000000</td>\n",
       "    </tr>\n",
       "  </tbody>\n",
       "</table>\n",
       "</div>"
      ],
      "text/plain": [
       "            User_ID      Purchase\n",
       "count  5.032000e+03   5032.000000\n",
       "mean   1.003051e+06  19679.974364\n",
       "std    1.731494e+03   4233.282571\n",
       "min    1.000012e+06   4624.000000\n",
       "25%    1.001519e+06  18545.000000\n",
       "50%    1.003054e+06  19205.500000\n",
       "75%    1.004543e+06  23438.000000\n",
       "max    1.006040e+06  23961.000000"
      ]
     },
     "execution_count": 19,
     "metadata": {},
     "output_type": "execute_result"
    },
    {
     "data": {
      "image/png": "[encoded data removed]",
      "text/plain": [
       "<Figure size 432x288 with 1 Axes>"
      ]
     },
     "metadata": {
      "needs_background": "light"
     },
     "output_type": "display_data"
    }
   ],
   "source": [
    "# Analicemos por separado los valores de Product_Category_1 = 10 ya que hemos visto en\n",
    "# el boxplot que tiene valores atípicos bastante alejados del Q1\n",
    "\n",
    "cat10 = bf_data[bf_data.Product_Category_1 == 10]\n",
    "caja_cat10 = plt.boxplot(x=cat10['Purchase'],showmeans = True, meanline = True)\n",
    "cat10.describe()"
   ]
  },
  {
   "cell_type": "code",
   "execution_count": 20,
   "metadata": {},
   "outputs": [
    {
     "name": "stdout",
     "output_type": "stream",
     "text": [
      "Categoría = 10: Num. de datos atípicos 274\n",
      "Intervalo de valores atípicos: ( 4624 , 10136 )\n",
      "Son extremos valores <  3866.0\n",
      "El mínimo de la muestra es  4624\n"
     ]
    }
   ],
   "source": [
    "# Almacenamos los valores atípicos en una lista\n",
    "out_cat10 = list(caja_cat10[\"fliers\"][0].get_data()[1])\n",
    "print \"Categoría = 10: Num. de datos atípicos\", len(out_cat10)\n",
    "print(\"Intervalo de valores atípicos: ( %.2d , %.2d )\" % (min(out_cat10) , max(out_cat10)))\n",
    "\n",
    "# Calculamos a partir de donde consideramos extremos:\n",
    "Q3 = cat10.quantile(q=.75)[\"Purchase\"]\n",
    "Q1 = cat10.quantile(q=.25)[\"Purchase\"]\n",
    "b = Q1 - 3 * (Q3-Q1)\n",
    "print \"Son extremos valores < \", b\n",
    "print \"El mínimo de la muestra es \",min(cat10[\"Purchase\"])"
   ]
  },
  {
   "cell_type": "markdown",
   "metadata": {},
   "source": [
    "No haremos ninguna acción con los datos atípicos ya que no los consideramos extremos y son coherentes con el resto de la muestra. Analizando las ventas según los valores que toman el resto de campos, tampoco vemos que haya ningún dato extremo o sospechoso de serlo."
   ]
  },
  {
   "cell_type": "markdown",
   "metadata": {},
   "source": [
    "## 4. Análisis de datos"
   ]
  },
  {
   "cell_type": "markdown",
   "metadata": {},
   "source": [
    "### 4.2. Comprobación de la normalidad y homogeneidad de la varianza "
   ]
  },
  {
   "cell_type": "markdown",
   "metadata": {},
   "source": [
    "### Normalidad"
   ]
  },
  {
   "cell_type": "markdown",
   "metadata": {},
   "source": [
    "Como la mayoría de las variables son categóricas, comprobaremos de normalidad sobre el subset de Purchase que corresponde a las variables categóricas que consideramos relevantes.  "
   ]
  },
  {
   "cell_type": "code",
   "execution_count": 21,
   "metadata": {},
   "outputs": [
    {
     "data": {
      "text/plain": [
       "(array([8.1160e+03, 2.4059e+04, 2.8913e+04, 2.8324e+04, 6.8395e+04,\n",
       "        6.1714e+04, 6.9581e+04, 3.4863e+04, 3.9891e+04, 3.9288e+04,\n",
       "        1.8933e+04, 6.0470e+03, 3.0066e+04, 3.3862e+04, 2.0980e+03,\n",
       "        1.1339e+04, 2.3486e+04, 6.2860e+03, 1.0000e+01, 2.3060e+03]),\n",
       " array([  185. ,  1373.8,  2562.6,  3751.4,  4940.2,  6129. ,  7317.8,\n",
       "         8506.6,  9695.4, 10884.2, 12073. , 13261.8, 14450.6, 15639.4,\n",
       "        16828.2, 18017. , 19205.8, 20394.6, 21583.4, 22772.2, 23961. ]),\n",
       " <a list of 20 Patch objects>)"
      ]
     },
     "execution_count": 21,
     "metadata": {},
     "output_type": "execute_result"
    },
    {
     "data": {
      "image/png": "[encoded data removed]",
      "text/plain": [
       "<Figure size 432x288 with 1 Axes>"
      ]
     },
     "metadata": {
      "needs_background": "light"
     },
     "output_type": "display_data"
    }
   ],
   "source": [
    "# Visualizamos la distribución de la variable Purchase sobre su histograma.\n",
    "plt.hist(bf_data['Purchase'], bins=20)"
   ]
  },
  {
   "cell_type": "code",
   "execution_count": 22,
   "metadata": {},
   "outputs": [
    {
     "data": {
      "image/png": "[encoded data removed]",
      "text/plain": [
       "<Figure size 432x288 with 1 Axes>"
      ]
     },
     "metadata": {
      "needs_background": "light"
     },
     "output_type": "display_data"
    }
   ],
   "source": [
    "# Veamos como se acerca a una ditribución normal.\n",
    "stats.probplot(bf_data['Purchase'], dist=\"norm\", plot=pylab)\n",
    "plt.show()"
   ]
  },
  {
   "cell_type": "markdown",
   "metadata": {},
   "source": [
    "En ambas gráficas podemos ver que no se acerca del todo a una distribución normal. "
   ]
  },
  {
   "cell_type": "markdown",
   "metadata": {},
   "source": [
    "Vamos a comprobarlo aplicando el test de Shapiro:"
   ]
  },
  {
   "cell_type": "code",
   "execution_count": 23,
   "metadata": {},
   "outputs": [
    {
     "data": {
      "text/plain": [
       "(0.9529308080673218, 2.2448276752338526e-37)"
      ]
     },
     "execution_count": 23,
     "metadata": {},
     "output_type": "execute_result"
    }
   ],
   "source": [
    "#Aplicamos el test una muestra porque el resultado de p-value no es preciso para muestras mayores a 5000\n",
    "stats.shapiro(bf_data['Purchase'].sample(n=5000, random_state=1))"
   ]
  },
  {
   "cell_type": "markdown",
   "metadata": {},
   "source": [
    "Podemos concluir que la variable Purchase no es normal porque el p-value <0.05. Por tanto, se rechaza la hipótesis nula."
   ]
  },
  {
   "cell_type": "markdown",
   "metadata": {},
   "source": [
    "Comprobemos la normalidad de la variable Purchase sobre las muestras de las variables Gender, Age, City_category y Marital_Status:"
   ]
  },
  {
   "cell_type": "code",
   "execution_count": 24,
   "metadata": {},
   "outputs": [
    {
     "name": "stdout",
     "output_type": "stream",
     "text": [
      "{'Gender F': 4.860132656335689e-37}\n",
      "{'Gender M': 1.622617137044561e-33}\n",
      "{'Age 0-17': 5.367863269783801e-34}\n",
      "{'Age 55+': 4.00766833593923e-35}\n",
      "{'Age 26-35': 1.563721162210207e-35}\n",
      "{'Age 46-50': 1.515031072693757e-34}\n",
      "{'Age 51-55': 9.342797876266847e-34}\n",
      "{'Age 36-45': 2.411296612794047e-34}\n",
      "{'Age 18-25': 1.1716942266898624e-35}\n",
      "{'City_Category A': 1.5349875573779245e-35}\n",
      "{'City_Category C': 3.27519863528204e-34}\n",
      "{'City_Category B': 1.7345011772318997e-35}\n",
      "{'Marital_Status 0': 3.9950443990486123e-35}\n",
      "{'Marital_Status 1': 2.230614751083637e-35}\n"
     ]
    }
   ],
   "source": [
    "#seleccionamos los datos\n",
    "bf_data['Marital_Status'] = bf_data['Marital_Status'].astype('string')\n",
    "data_select = ['Gender', 'Age', 'City_Category', 'Marital_Status']\n",
    "#imprimimos el tipo de variable + nivel y su valor de shapiro\n",
    "for value in data_select:\n",
    "    var = bf_data[value].unique()\n",
    "    for i in range(len(var)):\n",
    "        shap_num = stats.shapiro(bf_data['Purchase'][bf_data[value]==var[i]].sample(n=4000, random_state =1))\n",
    "        shap_dict = {value + ' ' + var[i]: shap_num[1]}\n",
    "        print shap_dict\n",
    "        "
   ]
  },
  {
   "cell_type": "markdown",
   "metadata": {},
   "source": [
    "Observamos que la variable Purchase con respecto a las variables 'Gender', 'Age', 'City_Category' y 'Marital_Status' presenta una distribución no normal. "
   ]
  },
  {
   "cell_type": "markdown",
   "metadata": {},
   "source": [
    "### Homocedasticidad"
   ]
  },
  {
   "cell_type": "code",
   "execution_count": 25,
   "metadata": {},
   "outputs": [
    {
     "name": "stdout",
     "output_type": "stream",
     "text": [
      "{'GenderF & Purchase': 'presentan varianzas diferentes'}\n",
      "{'GenderM & Purchase': 'presentan varianzas diferentes'}\n",
      "{'Age0-17 & Purchase': 'presentan varianzas diferentes'}\n",
      "{'Age55+ & Purchase': 'presentan varianzas diferentes'}\n",
      "{'Age26-35 & Purchase': 'presentan varianzas similares'}\n",
      "{'Age46-50 & Purchase': 'presentan varianzas diferentes'}\n",
      "{'Age51-55 & Purchase': 'presentan varianzas similares'}\n",
      "{'Age36-45 & Purchase': 'presentan varianzas similares'}\n",
      "{'Age18-25 & Purchase': 'presentan varianzas diferentes'}\n",
      "{'City_CategoryA & Purchase': 'presentan varianzas diferentes'}\n",
      "{'City_CategoryC & Purchase': 'presentan varianzas diferentes'}\n",
      "{'City_CategoryB & Purchase': 'presentan varianzas diferentes'}\n",
      "{'Marital_Status0 & Purchase': 'presentan varianzas similares'}\n",
      "{'Marital_Status1 & Purchase': 'presentan varianzas similares'}\n"
     ]
    }
   ],
   "source": [
    "# Al no seguir una distribución normal, comprobamos la homocedasticidad utilizando el test de Fligner-Killen\n",
    "for value in data_select:\n",
    "    var = bf_data[value].unique()\n",
    "    #aplicamos el test de fligner para comparar las variables seleccionadas con Purchase\n",
    "    for i in range(len(var)):\n",
    "        flig_num = stats.fligner(bf_data['Purchase'], bf_data['Purchase'][bf_data[value]==var[i]])\n",
    "        if flig_num[1] <0.05:\n",
    "            flig_stat = u\"presentan varianzas diferentes\"\n",
    "        elif flig_num[1] >= 0.05:\n",
    "            flig_stat = u\"presentan varianzas similares\"\n",
    "        flig_dict = {value +  var[i] + \" & Purchase\": flig_stat.encode('utf8')}\n",
    "        #imprimimos \n",
    "    \n",
    "\n",
    "        print flig_dict\n",
    "        "
   ]
  },
  {
   "cell_type": "markdown",
   "metadata": {},
   "source": [
    "Observamos que Purchase presenta varianzas similares con respecto a los siguientes grupos:\n",
    "- Personas entre 26 y 45 años\n",
    "- Personas entre 51 y 55 años\n",
    "- Personas con ambos estados civil \n",
    "\n",
    "Al no presentar distribución normal  ni homocedasticidad en la mayoría de los casos, no podremos aplicar métodos de contraste de hipótesis de tipo paramétrico."
   ]
  },
  {
   "cell_type": "markdown",
   "metadata": {},
   "source": [
    "### Comparación"
   ]
  },
  {
   "cell_type": "markdown",
   "metadata": {},
   "source": [
    "Vamos a comprobar la dependencia de los atributos relacionados con el cliente (edad, género, ocupación...) y la categoría de producto que consulme.\n",
    "\n",
    "Al ser variables categóricas, utilizaremos el Test Chi cuadrado. "
   ]
  },
  {
   "cell_type": "code",
   "execution_count": 26,
   "metadata": {},
   "outputs": [
    {
     "name": "stdout",
     "output_type": "stream",
     "text": [
      "Gender  es dependiente de  Product_Category_1 p =  0.0\n",
      "Age  es dependiente de  Product_Category_1 p =  0.0\n",
      "City_Category  es dependiente de  Product_Category_1 p =  1.282214203551789e-215\n",
      "Marital_Status  es dependiente de  Product_Category_1 p =  3.413899766728691e-101\n",
      "Occupation  es dependiente de  Product_Category_1 p =  0.0\n",
      "City_Category  es dependiente de  Product_Category_1 p =  1.282214203551789e-215\n"
     ]
    }
   ],
   "source": [
    "# Separamos por un lado las variables relacionadas con el usuario.\n",
    "user_att = ['Gender', 'Age', 'City_Category', 'Marital_Status', 'Occupation', 'City_Category' ]\n",
    "\n",
    "# Por el otro lado, la categoría del producto\n",
    "p_cat = ['Product_Category_1']\n",
    "\n",
    "# Nuestra hipótesis nula será que son dependientes la categoría de producto y el atributo de cliente correspondiente.\n",
    "for i in user_att:\n",
    "    for j in p_cat:\n",
    "        tabla_cont = pd.crosstab(bf_data[i], bf_data[j])\n",
    "        chi2, p, dof, ex = stats.chi2_contingency(tabla_cont, correction=True, lambda_=None)\n",
    "        # Suponiendo un nivel de significancia del 5%:\n",
    "        if p <0.05:\n",
    "            print  i, ' es dependiente de ', j,'p = ', p\n",
    "        else:\n",
    "            print 'p = ', p,i, ' puede que sea independiente de',j,', necesario estudiar más a fondo '"
   ]
  },
  {
   "cell_type": "markdown",
   "metadata": {},
   "source": [
    "Los valores de p son 0 o próximos a 0 para todos los atributos, por lo que existe dependencia y, por lo tanto, se ven diferencias entre las compras realizadas por cada uno de los valores de cada atributos. "
   ]
  },
  {
   "cell_type": "markdown",
   "metadata": {},
   "source": [
    "### 4.3. Pruebas estadísticas"
   ]
  },
  {
   "cell_type": "markdown",
   "metadata": {},
   "source": [
    "### Métodos supervisados"
   ]
  },
  {
   "cell_type": "markdown",
   "metadata": {},
   "source": [
    "#### Clasificación "
   ]
  },
  {
   "cell_type": "markdown",
   "metadata": {},
   "source": [
    "Clasificamos el tipo de clientes por su consumo "
   ]
  },
  {
   "cell_type": "code",
   "execution_count": 27,
   "metadata": {},
   "outputs": [],
   "source": [
    "#creamos una nueva variable para predecir el tipo de cliente de acuerdo a lo que gasta\n",
    "bf_data['Purch_class'] = np.where(bf_data['Purchase']>=14000, 'premium', 'standard')\n",
    "\n",
    "#separamos las variables dependientes e independientes\n",
    "X = bf_data.drop(['Purchase', 'Purch_class'], axis=1)\n",
    "Y = bf_data['Purch_class']\n",
    "\n",
    "#seleccionamos las variables categóricas a aplicar LabelEncoder para aplicar el algoritmo de clasificación\n",
    "level_var = ['Gender', 'Age', 'City_Category', 'Stay_In_Current_City_Years', 'User_ID', 'Product_ID']\n",
    "#transformamos las variables categóricas en números que corresponden a cada categoría\n",
    "for feature in level_var:\n",
    "    X.loc[:,feature] = LabelEncoder().fit_transform(X[feature])\n",
    "\n",
    "Y = LabelEncoder().fit_transform(Y)\n",
    "\n",
    "#obtenemos los datos de entrenamiento y evaluación\n",
    "X_train, X_test, Y_train, Y_test = train_test_split(X, Y, test_size=0.2)"
   ]
  },
  {
   "cell_type": "code",
   "execution_count": 28,
   "metadata": {},
   "outputs": [
    {
     "data": {
      "image/png": "[encoded data removed]",
      "text/plain": [
       "<Figure size 432x288 with 1 Axes>"
      ]
     },
     "metadata": {
      "needs_background": "light"
     },
     "output_type": "display_data"
    }
   ],
   "source": [
    "#seleccionamos el valor de k\n",
    "k_list =[]\n",
    "acc_list =[]\n",
    "for k in range(1,20):\n",
    "    clf = KNeighborsClassifier(n_neighbors=k)\n",
    "    clf.fit(X_train, Y_train)\n",
    "    y_pred = clf.predict(X_test)\n",
    "    acc = round(metrics.accuracy_score(Y_test, y_pred),3)\n",
    "    k_list.append(k)\n",
    "    acc_list.append(acc)\n",
    "    \n",
    "plt.plot(k_list, acc_list)\n",
    "plt.show()"
   ]
  },
  {
   "cell_type": "code",
   "execution_count": 29,
   "metadata": {},
   "outputs": [
    {
     "data": {
      "text/plain": [
       "0.8027828416235723"
      ]
     },
     "execution_count": 29,
     "metadata": {},
     "output_type": "execute_result"
    }
   ],
   "source": [
    "#aplicamos knn con un k=9 porque observamos que aunque aumentemos el k no aumentará la precisión y al seleccionar un \n",
    "#k menor el tiempo de procesamiento también será menor\n",
    "knn = KNeighborsClassifier(n_neighbors=9)  \n",
    "knn.fit(X_train, Y_train)  \n",
    "y_pred_knn=knn.predict(X_test)\n",
    "metrics.accuracy_score(Y_test, y_pred_knn)"
   ]
  },
  {
   "cell_type": "code",
   "execution_count": 30,
   "metadata": {},
   "outputs": [
    {
     "data": {
      "text/plain": [
       "0.8701774619591502"
      ]
     },
     "execution_count": 30,
     "metadata": {},
     "output_type": "execute_result"
    }
   ],
   "source": [
    "#aplicamos Random Forest\n",
    "clf_rf = RandomForestClassifier(n_estimators=100)\n",
    "clf_rf.fit(X_train,Y_train)\n",
    "\n",
    "y_pred_rf=clf_rf.predict(X_test)\n",
    "#calculamos la precisión y lo comparamos con GaussianNB\n",
    "metrics.accuracy_score(Y_test, y_pred_rf)"
   ]
  },
  {
   "cell_type": "raw",
   "metadata": {},
   "source": [
    "Observamos que el modelo realizado utilizando Random Forest tiene una mayor precisión que el modelo de KNN"
   ]
  },
  {
   "cell_type": "code",
   "execution_count": 31,
   "metadata": {},
   "outputs": [
    {
     "data": {
      "text/plain": [
       "<matplotlib.axes._subplots.AxesSubplot at 0x107a65d90>"
      ]
     },
     "execution_count": 31,
     "metadata": {},
     "output_type": "execute_result"
    },
    {
     "data": {
      "image/png": "[encoded data removed]",
      "text/plain": [
       "<Figure size 432x288 with 1 Axes>"
      ]
     },
     "metadata": {
      "needs_background": "light"
     },
     "output_type": "display_data"
    }
   ],
   "source": [
    "#visualizamos los contribución de los atributos al modelo\n",
    "feat_imp = pd.Series(clf_rf.feature_importances_, index = X.columns)\n",
    "feat_imp.plot(kind='barh')"
   ]
  },
  {
   "cell_type": "raw",
   "metadata": {},
   "source": [
    "Observamos que los atributos que más aportan al modelo son User_ID, Product_ID y Product_Category_1"
   ]
  },
  {
   "cell_type": "raw",
   "metadata": {},
   "source": [
    "Este método también se puede utilizar para clasificar los clientes por la edad, utilizaremos RandomForest para ello"
   ]
  },
  {
   "cell_type": "code",
   "execution_count": 32,
   "metadata": {},
   "outputs": [],
   "source": [
    "#separamos las variables dependientes e independientes para clasificarlo por la edad\n",
    "new_X = bf_data.drop(['Purchase' ,'Age', 'Purch_class'], axis=1)\n",
    "new_Y = bf_data['Age']\n",
    "\n",
    "#seleccionamos las variables categóricas a aplicar LabelEncoder para aplicar el algoritmo de clasificación\n",
    "level_var = ['Gender', 'City_Category', 'Stay_In_Current_City_Years', 'User_ID', 'Product_ID']\n",
    "#transformamos las variables categóricas en números que corresponden a cada categoría\n",
    "for feature in level_var:\n",
    "    new_X.loc[:,feature] = LabelEncoder().fit_transform(new_X[feature])\n",
    "\n",
    "new_Y = LabelEncoder().fit_transform(new_Y)\n",
    "\n",
    "#obtenemos los datos de entrenamiento y evaluación\n",
    "X_train, X_test, Y_train, Y_test = train_test_split(new_X, new_Y, test_size=0.2)"
   ]
  },
  {
   "cell_type": "code",
   "execution_count": 33,
   "metadata": {},
   "outputs": [
    {
     "data": {
      "text/plain": [
       "0.9869693813013877"
      ]
     },
     "execution_count": 33,
     "metadata": {},
     "output_type": "execute_result"
    }
   ],
   "source": [
    "#aplicamos Random Forest\n",
    "clf_rf_02 = RandomForestClassifier(n_estimators=100)\n",
    "clf_rf_02.fit(X_train,Y_train)\n",
    "\n",
    "y_pred_rf_02=clf_rf_02.predict(X_test)\n",
    "#calculamos la precisión y lo comparamos con GaussianNB\n",
    "metrics.accuracy_score(Y_test, y_pred_rf_02)"
   ]
  },
  {
   "cell_type": "markdown",
   "metadata": {},
   "source": [
    "Observamos que obtenemos una precisión bastante mejor al aplicar el modelo de Random Forest para clasificar los clientes por la edad, en lugar de por el tipo de consumo."
   ]
  },
  {
   "cell_type": "markdown",
   "metadata": {},
   "source": [
    "#### Regresión"
   ]
  },
  {
   "cell_type": "markdown",
   "metadata": {},
   "source": [
    "Aplicamos el modelo de regresión para predecir el Purchase"
   ]
  },
  {
   "cell_type": "code",
   "execution_count": 34,
   "metadata": {},
   "outputs": [],
   "source": [
    "#separamos las variables dependientes e independientes para aplicar regresión sobre Purchase\n",
    "#X se mantiene igual que en el modelo de clasificación de Purch_class\n",
    "y = bf_data['Purchase']\n",
    "\n",
    "#separamos los datos \n",
    "X_train, X_test, y_train, y_test = train_test_split(X, y, test_size=0.2)"
   ]
  },
  {
   "cell_type": "code",
   "execution_count": 35,
   "metadata": {},
   "outputs": [
    {
     "data": {
      "text/plain": [
       "0.6847481761630712"
      ]
     },
     "execution_count": 35,
     "metadata": {},
     "output_type": "execute_result"
    }
   ],
   "source": [
    "#Aplicamos Random Forest como regresor\n",
    "reg_rf = RandomForestRegressor(n_estimators=30, min_samples_leaf=1, min_samples_split = 2)\n",
    "reg_rf.fit(X_train, y_train)\n",
    "y_pred = reg_rf.predict(X_test)\n",
    "r2_score(y_test, y_pred)"
   ]
  },
  {
   "cell_type": "code",
   "execution_count": 36,
   "metadata": {},
   "outputs": [
    {
     "data": {
      "text/plain": [
       "0.677328957318988"
      ]
     },
     "execution_count": 36,
     "metadata": {},
     "output_type": "execute_result"
    }
   ],
   "source": [
    "#Comparamos al aplicar Gradient Boosting Regressor\n",
    "model = GradientBoostingRegressor(n_estimators = 100, max_depth = 5, min_samples_split = 2)\n",
    "model.fit(X_train, y_train)\n",
    "\n",
    "y_pred = model.predict(X_test)\n",
    "\n",
    "r2_score(y_test, y_pred)"
   ]
  },
  {
   "cell_type": "code",
   "execution_count": 37,
   "metadata": {},
   "outputs": [
    {
     "data": {
      "text/plain": [
       "<matplotlib.axes._subplots.AxesSubplot at 0x11bdbd750>"
      ]
     },
     "execution_count": 37,
     "metadata": {},
     "output_type": "execute_result"
    },
    {
     "data": {
      "image/png": "[encoded data removed]",
      "text/plain": [
       "<Figure size 432x288 with 1 Axes>"
      ]
     },
     "metadata": {
      "needs_background": "light"
     },
     "output_type": "display_data"
    }
   ],
   "source": [
    "reg_feat_importances = pd.Series(reg_rf.feature_importances_, index = X.columns)\n",
    "reg_feat_importances.plot(kind='barh')"
   ]
  },
  {
   "cell_type": "markdown",
   "metadata": {},
   "source": [
    "Observamos que los atributos que mayor aportan al modelo son User_ID, Product_ID y Porduct_Category_1. Hemos realizado algunas pruebas eliminando atributos como 'Marital_Status', 'Stay_In_Current_City_Years', 'City_Category', 'Gender. Sin embargo, no observamos mejora en la métrica r2. Por tanto, decidimos dejar estos atributos como parte del modelo."
   ]
  },
  {
   "cell_type": "markdown",
   "metadata": {},
   "source": [
    "### Método no supervisado"
   ]
  },
  {
   "cell_type": "markdown",
   "metadata": {},
   "source": [
    "CLÚSTERING K-MEANS:  \n",
    "Vamos a aplicar este método para intentar agrupar clientes por sus preferencias de compra. Buscamos agrupaciones de datos midiendo la distancia entre las observaciones.\n",
    "Las variables categóricas las transformaremos en paramétricas para poder medir distancias entre ellas utilizando el método One-Hot-Encoder."
   ]
  },
  {
   "cell_type": "code",
   "execution_count": 38,
   "metadata": {},
   "outputs": [
    {
     "name": "stderr",
     "output_type": "stream",
     "text": [
      "/anaconda3/envs/py27/lib/python2.7/site-packages/sklearn/preprocessing/_encoders.py:371: FutureWarning: The handling of integer data will change in version 0.22. Currently, the categories are determined based on the range [0, max(values)], while in the future they will be determined based on the unique values.\n",
      "If you want the future behaviour and silence this warning, you can specify \"categories='auto'\".\n",
      "In case you used a LabelEncoder before this OneHotEncoder to convert the categories to integers, then you can now use the OneHotEncoder directly.\n",
      "  warnings.warn(msg, FutureWarning)\n"
     ]
    },
    {
     "data": {
      "text/html": [
       "<div>\n",
       "<style scoped>\n",
       "    .dataframe tbody tr th:only-of-type {\n",
       "        vertical-align: middle;\n",
       "    }\n",
       "\n",
       "    .dataframe tbody tr th {\n",
       "        vertical-align: top;\n",
       "    }\n",
       "\n",
       "    .dataframe thead th {\n",
       "        text-align: right;\n",
       "    }\n",
       "</style>\n",
       "<table border=\"1\" class=\"dataframe\">\n",
       "  <thead>\n",
       "    <tr style=\"text-align: right;\">\n",
       "      <th></th>\n",
       "      <th>Gender_0.0</th>\n",
       "      <th>Gender_1.0</th>\n",
       "      <th>Age_0.0</th>\n",
       "      <th>Age_1.0</th>\n",
       "      <th>Occupation_0.0</th>\n",
       "      <th>Occupation_1.0</th>\n",
       "      <th>City_Category_0.0</th>\n",
       "      <th>City_Category_1.0</th>\n",
       "      <th>Stay_In_Current_City_Years_0.0</th>\n",
       "      <th>Stay_In_Current_City_Years_1.0</th>\n",
       "      <th>Marital_Status_0.0</th>\n",
       "      <th>Marital_Status_1.0</th>\n",
       "      <th>Purch_class_0.0</th>\n",
       "      <th>Purch_class_1.0</th>\n",
       "    </tr>\n",
       "    <tr>\n",
       "      <th>User_ID</th>\n",
       "      <th></th>\n",
       "      <th></th>\n",
       "      <th></th>\n",
       "      <th></th>\n",
       "      <th></th>\n",
       "      <th></th>\n",
       "      <th></th>\n",
       "      <th></th>\n",
       "      <th></th>\n",
       "      <th></th>\n",
       "      <th></th>\n",
       "      <th></th>\n",
       "      <th></th>\n",
       "      <th></th>\n",
       "    </tr>\n",
       "  </thead>\n",
       "  <tbody>\n",
       "    <tr>\n",
       "      <th>1000001</th>\n",
       "      <td>0.0</td>\n",
       "      <td>1.0</td>\n",
       "      <td>0.0</td>\n",
       "      <td>1.0</td>\n",
       "      <td>1.0</td>\n",
       "      <td>0.0</td>\n",
       "      <td>0.0</td>\n",
       "      <td>1.0</td>\n",
       "      <td>1.0</td>\n",
       "      <td>0.0</td>\n",
       "      <td>1.0</td>\n",
       "      <td>0.0</td>\n",
       "      <td>1.0</td>\n",
       "      <td>0.0</td>\n",
       "    </tr>\n",
       "    <tr>\n",
       "      <th>1000002</th>\n",
       "      <td>1.0</td>\n",
       "      <td>0.0</td>\n",
       "      <td>1.0</td>\n",
       "      <td>0.0</td>\n",
       "      <td>1.0</td>\n",
       "      <td>0.0</td>\n",
       "      <td>1.0</td>\n",
       "      <td>0.0</td>\n",
       "      <td>1.0</td>\n",
       "      <td>0.0</td>\n",
       "      <td>1.0</td>\n",
       "      <td>0.0</td>\n",
       "      <td>1.0</td>\n",
       "      <td>0.0</td>\n",
       "    </tr>\n",
       "    <tr>\n",
       "      <th>1000003</th>\n",
       "      <td>1.0</td>\n",
       "      <td>0.0</td>\n",
       "      <td>1.0</td>\n",
       "      <td>0.0</td>\n",
       "      <td>1.0</td>\n",
       "      <td>0.0</td>\n",
       "      <td>0.0</td>\n",
       "      <td>1.0</td>\n",
       "      <td>1.0</td>\n",
       "      <td>0.0</td>\n",
       "      <td>1.0</td>\n",
       "      <td>0.0</td>\n",
       "      <td>1.0</td>\n",
       "      <td>0.0</td>\n",
       "    </tr>\n",
       "    <tr>\n",
       "      <th>1000004</th>\n",
       "      <td>1.0</td>\n",
       "      <td>0.0</td>\n",
       "      <td>1.0</td>\n",
       "      <td>0.0</td>\n",
       "      <td>1.0</td>\n",
       "      <td>0.0</td>\n",
       "      <td>1.0</td>\n",
       "      <td>0.0</td>\n",
       "      <td>1.0</td>\n",
       "      <td>0.0</td>\n",
       "      <td>0.0</td>\n",
       "      <td>1.0</td>\n",
       "      <td>0.0</td>\n",
       "      <td>1.0</td>\n",
       "    </tr>\n",
       "    <tr>\n",
       "      <th>1000005</th>\n",
       "      <td>1.0</td>\n",
       "      <td>0.0</td>\n",
       "      <td>1.0</td>\n",
       "      <td>0.0</td>\n",
       "      <td>1.0</td>\n",
       "      <td>0.0</td>\n",
       "      <td>0.0</td>\n",
       "      <td>1.0</td>\n",
       "      <td>1.0</td>\n",
       "      <td>0.0</td>\n",
       "      <td>0.0</td>\n",
       "      <td>1.0</td>\n",
       "      <td>1.0</td>\n",
       "      <td>0.0</td>\n",
       "    </tr>\n",
       "  </tbody>\n",
       "</table>\n",
       "</div>"
      ],
      "text/plain": [
       "         Gender_0.0  Gender_1.0  Age_0.0  Age_1.0  Occupation_0.0  \\\n",
       "User_ID                                                             \n",
       "1000001         0.0         1.0      0.0      1.0             1.0   \n",
       "1000002         1.0         0.0      1.0      0.0             1.0   \n",
       "1000003         1.0         0.0      1.0      0.0             1.0   \n",
       "1000004         1.0         0.0      1.0      0.0             1.0   \n",
       "1000005         1.0         0.0      1.0      0.0             1.0   \n",
       "\n",
       "         Occupation_1.0  City_Category_0.0  City_Category_1.0  \\\n",
       "User_ID                                                         \n",
       "1000001             0.0                0.0                1.0   \n",
       "1000002             0.0                1.0                0.0   \n",
       "1000003             0.0                0.0                1.0   \n",
       "1000004             0.0                1.0                0.0   \n",
       "1000005             0.0                0.0                1.0   \n",
       "\n",
       "         Stay_In_Current_City_Years_0.0  Stay_In_Current_City_Years_1.0  \\\n",
       "User_ID                                                                   \n",
       "1000001                             1.0                             0.0   \n",
       "1000002                             1.0                             0.0   \n",
       "1000003                             1.0                             0.0   \n",
       "1000004                             1.0                             0.0   \n",
       "1000005                             1.0                             0.0   \n",
       "\n",
       "         Marital_Status_0.0  Marital_Status_1.0  Purch_class_0.0  \\\n",
       "User_ID                                                            \n",
       "1000001                 1.0                 0.0              1.0   \n",
       "1000002                 1.0                 0.0              1.0   \n",
       "1000003                 1.0                 0.0              1.0   \n",
       "1000004                 0.0                 1.0              0.0   \n",
       "1000005                 0.0                 1.0              1.0   \n",
       "\n",
       "         Purch_class_1.0  \n",
       "User_ID                   \n",
       "1000001              0.0  \n",
       "1000002              0.0  \n",
       "1000003              0.0  \n",
       "1000004              1.0  \n",
       "1000005              0.0  "
      ]
     },
     "execution_count": 38,
     "metadata": {},
     "output_type": "execute_result"
    }
   ],
   "source": [
    "\n",
    "bf_sample = bf_data\n",
    "\n",
    "# Vamos a intentar agrupar los clientes por las compras que hayan hecho por categoría 1\n",
    "# Primero nos quedamos solo con los atributos propios del usuario y nos quedamos con \n",
    "# una línea por user_id.\n",
    "bf_clus = bf_sample.drop(['Product_ID', 'Product_Category_1', 'Purchase'], axis=1).groupby('User_ID')\n",
    "bf_clus = bf_clus.agg(lambda x: x.value_counts().index[-1])\n",
    "\n",
    "# Creamos columnas concatenando atributo-valor y rellenamos con 1 en las características que cumple y 0 en el resto\n",
    "columnas = list(bf_clus.columns.values)\n",
    "\n",
    "# Codificamos los posibles valores de cada columna\n",
    "for col in columnas:\n",
    "    bf_clus.loc[:,col] = LabelEncoder().fit_transform(bf_clus[col])\n",
    "    \n",
    "#Definimos el codificador\n",
    "encoder = OneHotEncoder().fit(bf_clus[columnas])\n",
    "\n",
    "# Añadimos las columnas concatenadas\n",
    "bf_clus = pd.concat([bf_clus, pd.DataFrame(encoder.transform(bf_clus[columnas]).toarray(), \n",
    "                                       index=bf_clus.index, columns=encoder.get_feature_names(columnas))], axis=1)\n",
    "\n",
    "# Eliminamos las anteriores\n",
    "bf_clus.drop(columnas, axis=1, inplace=True)\n",
    "\n",
    "bf_clus.head(5)\n"
   ]
  },
  {
   "cell_type": "code",
   "execution_count": 39,
   "metadata": {},
   "outputs": [],
   "source": [
    "# Creamos columnas para cada categoría 1 y agregamos las ventas\n",
    "cat_1 = pd.pivot_table(\n",
    "        bf_sample[['User_ID', 'Product_Category_1', 'Purchase']],\n",
    "        values='Purchase',\n",
    "        index='User_ID',\n",
    "        columns='Product_Category_1',\n",
    "        aggfunc=np.sum\n",
    "    ).fillna(0) \n",
    "bf_clus = bf_clus.join(cat_1)\n",
    "\n",
    "# Unificamos la escala de los datos\n",
    "bf_clus_es = StandardScaler().fit_transform(bf_clus)"
   ]
  },
  {
   "cell_type": "code",
   "execution_count": 40,
   "metadata": {},
   "outputs": [
    {
     "data": {
      "image/png": "[encoded data removed]",
      "text/plain": [
       "<Figure size 432x288 with 1 Axes>"
      ]
     },
     "metadata": {
      "needs_background": "light"
     },
     "output_type": "display_data"
    }
   ],
   "source": [
    "# Buscamos el número de clústeres óptimo por el método del codo\n",
    "modelos = []\n",
    "distancias = []\n",
    "K = range(1,15)\n",
    "for k in K:\n",
    "    km = KMeans(n_clusters=k)\n",
    "    km = km.fit(bf_clus_es)\n",
    "    distancias.append(km.inertia_)\n",
    "    modelos.append(km)\n",
    "plt.plot(K, distancias, 'o-')\n",
    "plt.show()"
   ]
  },
  {
   "cell_type": "code",
   "execution_count": 41,
   "metadata": {},
   "outputs": [
    {
     "name": "stdout",
     "output_type": "stream",
     "text": [
      "Silhouette con k =  1 es 0.3618724148686322\n",
      "Silhouette con k =  2 es 0.22440564526983478\n",
      "Silhouette con k =  3 es 0.14822110894616797\n",
      "Silhouette con k =  4 es 0.2116531469866227\n",
      "Silhouette con k =  5 es 0.15908552072641619\n",
      "Silhouette con k =  6 es 0.1817099163571062\n",
      "Silhouette con k =  7 es 0.1784352096960242\n",
      "Silhouette con k =  8 es 0.18855386659452247\n",
      "Silhouette con k =  9 es 0.17905189657837173\n",
      "Silhouette con k =  10 es 0.18400040635883946\n",
      "Silhouette con k =  11 es 0.1778876405443667\n",
      "Silhouette con k =  12 es 0.1815870425968325\n",
      "Silhouette con k =  13 es 0.18333273640472372\n"
     ]
    }
   ],
   "source": [
    "# No queda muy claro el codo en la gráfica, así que\n",
    "# vemos qué valores toma la silueta para distintos k\n",
    "\n",
    "\n",
    "K = range(1,14)\n",
    "\n",
    "for k in K:\n",
    "    km = modelos[k]\n",
    "    a = silhouette_score(bf_clus_es, km.predict(bf_clus_es))\n",
    "    print \"Silhouette con k = \", k, \"es\", a\n",
    " "
   ]
  },
  {
   "cell_type": "markdown",
   "metadata": {},
   "source": [
    "La función Silhouette_score compara la distancia al clúster asignado con la distancia al clúster no asignado más cercano. El valor deseado sería 1 en el que los clústers estarían perfectamente delimitados. Los resultados obtenidos están cerca de 0, lo que significa que los clústeres están solapados. Por este motivo, no encontramos agrupaciones de registros significativas. "
   ]
  }
 ],
 "metadata": {
  "kernelspec": {
   "display_name": "Python 2",
   "language": "python",
   "name": "python2"
  },
  "language_info": {
   "codemirror_mode": {
    "name": "ipython",
    "version": 2
   },
   "file_extension": ".py",
   "mimetype": "text/x-python",
   "name": "python",
   "nbconvert_exporter": "python",
   "pygments_lexer": "ipython2",
   "version": "2.7.15"
  }
 },
 "nbformat": 4,
 "nbformat_minor": 2
}
