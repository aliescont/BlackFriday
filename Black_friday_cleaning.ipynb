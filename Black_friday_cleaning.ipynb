{
 "cells": [
  {
   "cell_type": "code",
   "execution_count": 1,
   "metadata": {},
   "outputs": [],
   "source": [
    "#importamos librerías\n",
    "import sys\n",
    "from scipy import stats\n",
    "import numpy as np\n",
    "import pandas as pd\n",
    "import matplotlib.pyplot as plt\n",
    "from sklearn.cluster import KMeans\n",
    "from sklearn.preprocessing import LabelEncoder, OneHotEncoder, StandardScaler\n",
    "from sklearn.model_selection import train_test_split\n",
    "from sklearn.ensemble import RandomForestRegressor\n",
    "from sklearn.preprocessing import StandardScaler\n",
    "from sklearn.ensemble import RandomForestClassifier\n",
    "from sklearn import metrics\n"
   ]
  },
  {
   "cell_type": "code",
   "execution_count": 2,
   "metadata": {},
   "outputs": [
    {
     "data": {
      "text/html": [
       "<div>\n",
       "<style scoped>\n",
       "    .dataframe tbody tr th:only-of-type {\n",
       "        vertical-align: middle;\n",
       "    }\n",
       "\n",
       "    .dataframe tbody tr th {\n",
       "        vertical-align: top;\n",
       "    }\n",
       "\n",
       "    .dataframe thead th {\n",
       "        text-align: right;\n",
       "    }\n",
       "</style>\n",
       "<table border=\"1\" class=\"dataframe\">\n",
       "  <thead>\n",
       "    <tr style=\"text-align: right;\">\n",
       "      <th></th>\n",
       "      <th>User_ID</th>\n",
       "      <th>Product_ID</th>\n",
       "      <th>Gender</th>\n",
       "      <th>Age</th>\n",
       "      <th>Occupation</th>\n",
       "      <th>City_Category</th>\n",
       "      <th>Stay_In_Current_City_Years</th>\n",
       "      <th>Marital_Status</th>\n",
       "      <th>Product_Category_1</th>\n",
       "      <th>Product_Category_2</th>\n",
       "      <th>Product_Category_3</th>\n",
       "      <th>Purchase</th>\n",
       "    </tr>\n",
       "  </thead>\n",
       "  <tbody>\n",
       "    <tr>\n",
       "      <th>0</th>\n",
       "      <td>1000001</td>\n",
       "      <td>P00069042</td>\n",
       "      <td>F</td>\n",
       "      <td>0-17</td>\n",
       "      <td>10</td>\n",
       "      <td>A</td>\n",
       "      <td>2</td>\n",
       "      <td>0</td>\n",
       "      <td>3</td>\n",
       "      <td>NaN</td>\n",
       "      <td>NaN</td>\n",
       "      <td>8370</td>\n",
       "    </tr>\n",
       "    <tr>\n",
       "      <th>1</th>\n",
       "      <td>1000001</td>\n",
       "      <td>P00248942</td>\n",
       "      <td>F</td>\n",
       "      <td>0-17</td>\n",
       "      <td>10</td>\n",
       "      <td>A</td>\n",
       "      <td>2</td>\n",
       "      <td>0</td>\n",
       "      <td>1</td>\n",
       "      <td>6.0</td>\n",
       "      <td>14.0</td>\n",
       "      <td>15200</td>\n",
       "    </tr>\n",
       "    <tr>\n",
       "      <th>2</th>\n",
       "      <td>1000001</td>\n",
       "      <td>P00087842</td>\n",
       "      <td>F</td>\n",
       "      <td>0-17</td>\n",
       "      <td>10</td>\n",
       "      <td>A</td>\n",
       "      <td>2</td>\n",
       "      <td>0</td>\n",
       "      <td>12</td>\n",
       "      <td>NaN</td>\n",
       "      <td>NaN</td>\n",
       "      <td>1422</td>\n",
       "    </tr>\n",
       "    <tr>\n",
       "      <th>3</th>\n",
       "      <td>1000001</td>\n",
       "      <td>P00085442</td>\n",
       "      <td>F</td>\n",
       "      <td>0-17</td>\n",
       "      <td>10</td>\n",
       "      <td>A</td>\n",
       "      <td>2</td>\n",
       "      <td>0</td>\n",
       "      <td>12</td>\n",
       "      <td>14.0</td>\n",
       "      <td>NaN</td>\n",
       "      <td>1057</td>\n",
       "    </tr>\n",
       "    <tr>\n",
       "      <th>4</th>\n",
       "      <td>1000002</td>\n",
       "      <td>P00285442</td>\n",
       "      <td>M</td>\n",
       "      <td>55+</td>\n",
       "      <td>16</td>\n",
       "      <td>C</td>\n",
       "      <td>4+</td>\n",
       "      <td>0</td>\n",
       "      <td>8</td>\n",
       "      <td>NaN</td>\n",
       "      <td>NaN</td>\n",
       "      <td>7969</td>\n",
       "    </tr>\n",
       "  </tbody>\n",
       "</table>\n",
       "</div>"
      ],
      "text/plain": [
       "   User_ID Product_ID Gender   Age  Occupation City_Category  \\\n",
       "0  1000001  P00069042      F  0-17          10             A   \n",
       "1  1000001  P00248942      F  0-17          10             A   \n",
       "2  1000001  P00087842      F  0-17          10             A   \n",
       "3  1000001  P00085442      F  0-17          10             A   \n",
       "4  1000002  P00285442      M   55+          16             C   \n",
       "\n",
       "  Stay_In_Current_City_Years  Marital_Status  Product_Category_1  \\\n",
       "0                          2               0                   3   \n",
       "1                          2               0                   1   \n",
       "2                          2               0                  12   \n",
       "3                          2               0                  12   \n",
       "4                         4+               0                   8   \n",
       "\n",
       "   Product_Category_2  Product_Category_3  Purchase  \n",
       "0                 NaN                 NaN      8370  \n",
       "1                 6.0                14.0     15200  \n",
       "2                 NaN                 NaN      1422  \n",
       "3                14.0                 NaN      1057  \n",
       "4                 NaN                 NaN      7969  "
      ]
     },
     "execution_count": 2,
     "metadata": {},
     "output_type": "execute_result"
    }
   ],
   "source": [
    "#cargamos los datos\n",
    "black_data = pd.read_csv(\"BlackFriday.csv\")\n",
    "black_data.head()"
   ]
  },
  {
   "cell_type": "code",
   "execution_count": 3,
   "metadata": {},
   "outputs": [
    {
     "data": {
      "text/plain": [
       "User_ID                         int64\n",
       "Product_ID                     object\n",
       "Gender                         object\n",
       "Age                            object\n",
       "Occupation                      int64\n",
       "City_Category                  object\n",
       "Stay_In_Current_City_Years     object\n",
       "Marital_Status                  int64\n",
       "Product_Category_1              int64\n",
       "Product_Category_2            float64\n",
       "Product_Category_3            float64\n",
       "Purchase                        int64\n",
       "dtype: object"
      ]
     },
     "execution_count": 3,
     "metadata": {},
     "output_type": "execute_result"
    }
   ],
   "source": [
    "#visualizamos las variables numéricas de los datos\n",
    "black_data.describe()\n",
    "#verificamos los tipos de valor en cada celda\n",
    "black_data.dtypes"
   ]
  },
  {
   "cell_type": "code",
   "execution_count": 4,
   "metadata": {},
   "outputs": [
    {
     "data": {
      "text/plain": [
       "User_ID                          int64\n",
       "Product_ID                      object\n",
       "Gender                        category\n",
       "Age                           category\n",
       "Occupation                    category\n",
       "City_Category                 category\n",
       "Stay_In_Current_City_Years      object\n",
       "Marital_Status                category\n",
       "Product_Category_1            category\n",
       "Product_Category_2            category\n",
       "Product_Category_3            category\n",
       "Purchase                         int64\n",
       "dtype: object"
      ]
     },
     "execution_count": 4,
     "metadata": {},
     "output_type": "execute_result"
    }
   ],
   "source": [
    "cat_values = [\"Gender\", \"Age\", \"Occupation\", \"City_Category\", \"Marital_Status\", \"Product_Category_1\", \n",
    "              \"Product_Category_2\", \"Product_Category_3\"]\n",
    "for column in cat_values:\n",
    "    black_data[column] = black_data[column].astype('category')\n",
    "black_data.dtypes"
   ]
  },
  {
   "cell_type": "code",
   "execution_count": 5,
   "metadata": {},
   "outputs": [
    {
     "data": {
      "text/plain": [
       "User_ID                            0\n",
       "Product_ID                         0\n",
       "Gender                             0\n",
       "Age                                0\n",
       "Occupation                         0\n",
       "City_Category                      0\n",
       "Stay_In_Current_City_Years         0\n",
       "Marital_Status                     0\n",
       "Product_Category_1                 0\n",
       "Product_Category_2            166986\n",
       "Product_Category_3            373299\n",
       "Purchase                           0\n",
       "dtype: int64"
      ]
     },
     "execution_count": 5,
     "metadata": {},
     "output_type": "execute_result"
    }
   ],
   "source": [
    "#Suma de valores pérdidos en cada columna. Pandas reconoce tanto una celda vacía como el valor NA como NaN\n",
    "#https://towardsdatascience.com/data-cleaning-with-python-and-pandas-detecting-missing-values-3e9c6ebcf78b\n",
    "black_data.isnull().sum()"
   ]
  },
  {
   "cell_type": "code",
   "execution_count": 6,
   "metadata": {},
   "outputs": [
    {
     "data": {
      "text/plain": [
       "User_ID                            0\n",
       "Product_ID                         0\n",
       "Gender                             0\n",
       "Age                                0\n",
       "Occupation                         0\n",
       "City_Category                      0\n",
       "Stay_In_Current_City_Years         0\n",
       "Marital_Status                     0\n",
       "Product_Category_1                 0\n",
       "Product_Category_2            166986\n",
       "Product_Category_3            373299\n",
       "Purchase                           0\n",
       "dtype: int64"
      ]
     },
     "execution_count": 6,
     "metadata": {},
     "output_type": "execute_result"
    }
   ],
   "source": [
    "#verificamos si hay valores pérdidos con otras sintaxis\n",
    "#lista con valores NA comunes\n",
    "missing_values = [\"n/a\", \"na\", \"--\", \"Na\"]\n",
    "black_data = pd.read_csv(\"BlackFriday.csv\", na_values= missing_values)\n",
    "black_data.isnull().sum()"
   ]
  },
  {
   "cell_type": "code",
   "execution_count": 7,
   "metadata": {},
   "outputs": [
    {
     "data": {
      "text/html": [
       "<div>\n",
       "<style scoped>\n",
       "    .dataframe tbody tr th:only-of-type {\n",
       "        vertical-align: middle;\n",
       "    }\n",
       "\n",
       "    .dataframe tbody tr th {\n",
       "        vertical-align: top;\n",
       "    }\n",
       "\n",
       "    .dataframe thead th {\n",
       "        text-align: right;\n",
       "    }\n",
       "</style>\n",
       "<table border=\"1\" class=\"dataframe\">\n",
       "  <thead>\n",
       "    <tr style=\"text-align: right;\">\n",
       "      <th></th>\n",
       "      <th>User_ID</th>\n",
       "      <th>Occupation</th>\n",
       "      <th>Marital_Status</th>\n",
       "      <th>Product_Category_1</th>\n",
       "      <th>Product_Category_2</th>\n",
       "      <th>Product_Category_3</th>\n",
       "      <th>Purchase</th>\n",
       "    </tr>\n",
       "  </thead>\n",
       "  <tbody>\n",
       "    <tr>\n",
       "      <th>User_ID</th>\n",
       "      <td>1.000000</td>\n",
       "      <td>-0.023024</td>\n",
       "      <td>0.018732</td>\n",
       "      <td>0.003687</td>\n",
       "      <td>0.001471</td>\n",
       "      <td>0.004045</td>\n",
       "      <td>0.005389</td>\n",
       "    </tr>\n",
       "    <tr>\n",
       "      <th>Occupation</th>\n",
       "      <td>-0.023024</td>\n",
       "      <td>1.000000</td>\n",
       "      <td>0.024691</td>\n",
       "      <td>-0.008114</td>\n",
       "      <td>-0.000031</td>\n",
       "      <td>0.013452</td>\n",
       "      <td>0.021104</td>\n",
       "    </tr>\n",
       "    <tr>\n",
       "      <th>Marital_Status</th>\n",
       "      <td>0.018732</td>\n",
       "      <td>0.024691</td>\n",
       "      <td>1.000000</td>\n",
       "      <td>0.020546</td>\n",
       "      <td>0.015116</td>\n",
       "      <td>0.019452</td>\n",
       "      <td>0.000129</td>\n",
       "    </tr>\n",
       "    <tr>\n",
       "      <th>Product_Category_1</th>\n",
       "      <td>0.003687</td>\n",
       "      <td>-0.008114</td>\n",
       "      <td>0.020546</td>\n",
       "      <td>1.000000</td>\n",
       "      <td>0.540423</td>\n",
       "      <td>0.229490</td>\n",
       "      <td>-0.314125</td>\n",
       "    </tr>\n",
       "    <tr>\n",
       "      <th>Product_Category_2</th>\n",
       "      <td>0.001471</td>\n",
       "      <td>-0.000031</td>\n",
       "      <td>0.015116</td>\n",
       "      <td>0.540423</td>\n",
       "      <td>1.000000</td>\n",
       "      <td>0.543544</td>\n",
       "      <td>-0.209973</td>\n",
       "    </tr>\n",
       "    <tr>\n",
       "      <th>Product_Category_3</th>\n",
       "      <td>0.004045</td>\n",
       "      <td>0.013452</td>\n",
       "      <td>0.019452</td>\n",
       "      <td>0.229490</td>\n",
       "      <td>0.543544</td>\n",
       "      <td>1.000000</td>\n",
       "      <td>-0.022257</td>\n",
       "    </tr>\n",
       "    <tr>\n",
       "      <th>Purchase</th>\n",
       "      <td>0.005389</td>\n",
       "      <td>0.021104</td>\n",
       "      <td>0.000129</td>\n",
       "      <td>-0.314125</td>\n",
       "      <td>-0.209973</td>\n",
       "      <td>-0.022257</td>\n",
       "      <td>1.000000</td>\n",
       "    </tr>\n",
       "  </tbody>\n",
       "</table>\n",
       "</div>"
      ],
      "text/plain": [
       "                     User_ID  Occupation  Marital_Status  Product_Category_1  \\\n",
       "User_ID             1.000000   -0.023024        0.018732            0.003687   \n",
       "Occupation         -0.023024    1.000000        0.024691           -0.008114   \n",
       "Marital_Status      0.018732    0.024691        1.000000            0.020546   \n",
       "Product_Category_1  0.003687   -0.008114        0.020546            1.000000   \n",
       "Product_Category_2  0.001471   -0.000031        0.015116            0.540423   \n",
       "Product_Category_3  0.004045    0.013452        0.019452            0.229490   \n",
       "Purchase            0.005389    0.021104        0.000129           -0.314125   \n",
       "\n",
       "                    Product_Category_2  Product_Category_3  Purchase  \n",
       "User_ID                       0.001471            0.004045  0.005389  \n",
       "Occupation                   -0.000031            0.013452  0.021104  \n",
       "Marital_Status                0.015116            0.019452  0.000129  \n",
       "Product_Category_1            0.540423            0.229490 -0.314125  \n",
       "Product_Category_2            1.000000            0.543544 -0.209973  \n",
       "Product_Category_3            0.543544            1.000000 -0.022257  \n",
       "Purchase                     -0.209973           -0.022257  1.000000  "
      ]
     },
     "execution_count": 7,
     "metadata": {},
     "output_type": "execute_result"
    }
   ],
   "source": [
    "#verificamos la correlación entre variables para verificar si las variables con valores pérdidos tienen alguna \n",
    "#correlación alta con otra variables\n",
    "black_data.corr()"
   ]
  },
  {
   "cell_type": "code",
   "execution_count": 8,
   "metadata": {},
   "outputs": [
    {
     "data": {
      "text/plain": [
       "166986"
      ]
     },
     "execution_count": 8,
     "metadata": {},
     "output_type": "execute_result"
    }
   ],
   "source": [
    "#verificamos el nro de filas que tienen valores pérdidos en las 2 variables\n",
    "len(black_data[black_data['Product_Category_2'].isnull() & black_data['Product_Category_2'].isnull()])\n"
   ]
  },
  {
   "cell_type": "code",
   "execution_count": 9,
   "metadata": {},
   "outputs": [
    {
     "data": {
      "text/plain": [
       "<BarContainer object of 18 artists>"
      ]
     },
     "execution_count": 9,
     "metadata": {},
     "output_type": "execute_result"
    },
    {
     "data": {
      "image/png": "[encoded data removed]",
      "text/plain": [
       "<Figure size 432x288 with 1 Axes>"
      ]
     },
     "metadata": {
      "needs_background": "light"
     },
     "output_type": "display_data"
    }
   ],
   "source": [
    "#verificamos la distribución de Product_Category_1 para comparar con los valores pérdidos de Product_Category_2 y\n",
    "#Product_Category_3\n",
    "prod_1 = black_data['Product_ID'].groupby(black_data['Product_Category_1']).nunique()\n",
    "prod_2 = black_data['Product_ID'].groupby(black_data['Product_Category_2']).nunique()\n",
    "prod_3 = black_data['Product_ID'].groupby(black_data['Product_Category_2']).nunique()\n",
    "prod_1\n",
    "\n",
    "bins = np.sort(black_data['Product_Category_1'].unique())\n",
    "plt.xticks(bins)\n",
    "plt.title('Product_Category_1')\n",
    "plt.bar(bins, prod_1)"
   ]
  },
  {
   "cell_type": "code",
   "execution_count": 10,
   "metadata": {},
   "outputs": [
    {
     "data": {
      "text/plain": [
       "Product_Category_2\n",
       "2.0     127\n",
       "3.0      12\n",
       "4.0     146\n",
       "5.0     128\n",
       "6.0      60\n",
       "7.0       4\n",
       "8.0     353\n",
       "9.0      20\n",
       "10.0     14\n",
       "11.0     70\n",
       "12.0     45\n",
       "13.0     51\n",
       "14.0    317\n",
       "15.0    138\n",
       "16.0    221\n",
       "17.0     76\n",
       "18.0     18\n",
       "Name: Product_ID, dtype: int64"
      ]
     },
     "execution_count": 10,
     "metadata": {},
     "output_type": "execute_result"
    }
   ],
   "source": [
    "prod_2\n",
    "prod_3"
   ]
  },
  {
   "cell_type": "raw",
   "metadata": {},
   "source": [
    "Observamos que no hay categoría 0. Por tanto, asignaremos los valores pérdidos el valor 0 para identificar que no se conoce la categoría dentro del tipo de producto 2 y 3 al que pertenecen"
   ]
  },
  {
   "cell_type": "code",
   "execution_count": 11,
   "metadata": {},
   "outputs": [
    {
     "data": {
      "text/plain": [
       "User_ID                       0\n",
       "Product_ID                    0\n",
       "Gender                        0\n",
       "Age                           0\n",
       "Occupation                    0\n",
       "City_Category                 0\n",
       "Stay_In_Current_City_Years    0\n",
       "Marital_Status                0\n",
       "Product_Category_1            0\n",
       "Product_Category_2            0\n",
       "Product_Category_3            0\n",
       "Purchase                      0\n",
       "dtype: int64"
      ]
     },
     "execution_count": 11,
     "metadata": {},
     "output_type": "execute_result"
    }
   ],
   "source": [
    "#sustituimos los valores pérdidos de Product_category_2 y Product_Categori_3 por 0\n",
    "bf_data = black_data.fillna(0)\n",
    "bf_data.isnull().sum()"
   ]
  },
  {
   "cell_type": "code",
   "execution_count": 12,
   "metadata": {},
   "outputs": [
    {
     "data": {
      "text/plain": [
       "Text(0,0.5,'Purchase ($)')"
      ]
     },
     "execution_count": 12,
     "metadata": {},
     "output_type": "execute_result"
    },
    {
     "data": {
      "image/png": "[encoded data removed]",
      "text/plain": [
       "<Figure size 2160x720 with 1 Axes>"
      ]
     },
     "metadata": {
      "needs_background": "light"
     },
     "output_type": "display_data"
    }
   ],
   "source": [
    "#Representamos el gráfico de cajas de la variable \"Purchase\" y vemos que existen valores extremos \n",
    "plt.figure(figsize=[30,10])\n",
    "plt.subplot(231)\n",
    "cajas = plt.boxplot(x=bf_data['Purchase'], showmeans = True, meanline = True)\n",
    "plt.title('Purchase Boxplot')\n",
    "plt.ylabel('Purchase ($)')"
   ]
  },
  {
   "cell_type": "code",
   "execution_count": 13,
   "metadata": {},
   "outputs": [
    {
     "name": "stdout",
     "output_type": "stream",
     "text": [
      "Num. extremos 2665\n",
      "Num. total 537577\n",
      "Num. sin extremos 534912\n"
     ]
    }
   ],
   "source": [
    "# Almacenamos los valores extremos en una lista\n",
    "outliers = list(cajas[\"fliers\"][0].get_data()[1])\n",
    "\n",
    "# Comprobamos la longitud para ver cuántos registros se consideran extremos.\n",
    "print \"Num. extremos\", len(outliers)\n",
    "print \"Num. total\", len(bf_data)\n",
    "\n",
    "# Borramos los datos extremos\n",
    "bf_data = bf_data[~bf_data.Purchase.isin(outliers)]\n",
    "\n",
    "# Comparamos las longitudes antes y después\n",
    "print \"Num. sin extremos\", len(bf_data)"
   ]
  },
  {
   "cell_type": "code",
   "execution_count": 14,
   "metadata": {},
   "outputs": [
    {
     "name": "stdout",
     "output_type": "stream",
     "text": [
      "Número de valores distintos: \n",
      "\n",
      "User_ID : 5891\n",
      "Product_ID : 3623\n",
      "Gender : 2\n",
      "Age : 7\n",
      "Occupation : 21\n",
      "City_Category : 3\n",
      "Stay_In_Current_City_Years : 5\n",
      "Marital_Status : 2\n",
      "Product_Category_1 : 18\n",
      "Product_Category_2 : 18\n",
      "Product_Category_3 : 16\n",
      "Purchase : 16928\n",
      "\n",
      "Tipo de datos: \n",
      "\n",
      "<class 'pandas.core.frame.DataFrame'>\n",
      "Int64Index: 534912 entries, 0 to 537576\n",
      "Data columns (total 12 columns):\n",
      "User_ID                       534912 non-null int64\n",
      "Product_ID                    534912 non-null object\n",
      "Gender                        534912 non-null object\n",
      "Age                           534912 non-null object\n",
      "Occupation                    534912 non-null int64\n",
      "City_Category                 534912 non-null object\n",
      "Stay_In_Current_City_Years    534912 non-null object\n",
      "Marital_Status                534912 non-null int64\n",
      "Product_Category_1            534912 non-null int64\n",
      "Product_Category_2            534912 non-null float64\n",
      "Product_Category_3            534912 non-null float64\n",
      "Purchase                      534912 non-null int64\n",
      "dtypes: float64(2), int64(5), object(5)\n",
      "memory usage: 53.1+ MB\n",
      "None\n",
      "\n",
      "Matriz de covarianzas: \n",
      "\n"
     ]
    },
    {
     "data": {
      "text/html": [
       "<div>\n",
       "<style scoped>\n",
       "    .dataframe tbody tr th:only-of-type {\n",
       "        vertical-align: middle;\n",
       "    }\n",
       "\n",
       "    .dataframe tbody tr th {\n",
       "        vertical-align: top;\n",
       "    }\n",
       "\n",
       "    .dataframe thead th {\n",
       "        text-align: right;\n",
       "    }\n",
       "</style>\n",
       "<table border=\"1\" class=\"dataframe\">\n",
       "  <thead>\n",
       "    <tr style=\"text-align: right;\">\n",
       "      <th></th>\n",
       "      <th>User_ID</th>\n",
       "      <th>Occupation</th>\n",
       "      <th>Marital_Status</th>\n",
       "      <th>Product_Category_1</th>\n",
       "      <th>Product_Category_2</th>\n",
       "      <th>Product_Category_3</th>\n",
       "      <th>Purchase</th>\n",
       "    </tr>\n",
       "  </thead>\n",
       "  <tbody>\n",
       "    <tr>\n",
       "      <th>User_ID</th>\n",
       "      <td>2.938243e+06</td>\n",
       "      <td>-259.157409</td>\n",
       "      <td>15.673851</td>\n",
       "      <td>22.231876</td>\n",
       "      <td>34.977127</td>\n",
       "      <td>44.180688</td>\n",
       "      <td>3.995448e+04</td>\n",
       "    </tr>\n",
       "    <tr>\n",
       "      <th>Occupation</th>\n",
       "      <td>-2.591574e+02</td>\n",
       "      <td>42.551512</td>\n",
       "      <td>0.078639</td>\n",
       "      <td>-0.212696</td>\n",
       "      <td>0.268939</td>\n",
       "      <td>0.488749</td>\n",
       "      <td>6.621299e+02</td>\n",
       "    </tr>\n",
       "    <tr>\n",
       "      <th>Marital_Status</th>\n",
       "      <td>1.567385e+01</td>\n",
       "      <td>0.078639</td>\n",
       "      <td>0.241651</td>\n",
       "      <td>0.037164</td>\n",
       "      <td>0.002677</td>\n",
       "      <td>-0.013706</td>\n",
       "      <td>-2.118050e+00</td>\n",
       "    </tr>\n",
       "    <tr>\n",
       "      <th>Product_Category_1</th>\n",
       "      <td>2.223188e+01</td>\n",
       "      <td>-0.212696</td>\n",
       "      <td>0.037164</td>\n",
       "      <td>13.981018</td>\n",
       "      <td>-1.081807</td>\n",
       "      <td>-9.175687</td>\n",
       "      <td>-6.262855e+03</td>\n",
       "    </tr>\n",
       "    <tr>\n",
       "      <th>Product_Category_2</th>\n",
       "      <td>3.497713e+01</td>\n",
       "      <td>0.268939</td>\n",
       "      <td>0.002677</td>\n",
       "      <td>-1.081807</td>\n",
       "      <td>38.481980</td>\n",
       "      <td>3.506119</td>\n",
       "      <td>8.125750e+02</td>\n",
       "    </tr>\n",
       "    <tr>\n",
       "      <th>Product_Category_3</th>\n",
       "      <td>4.418069e+01</td>\n",
       "      <td>0.488749</td>\n",
       "      <td>-0.013706</td>\n",
       "      <td>-9.175687</td>\n",
       "      <td>3.506119</td>\n",
       "      <td>39.227552</td>\n",
       "      <td>8.913526e+03</td>\n",
       "    </tr>\n",
       "    <tr>\n",
       "      <th>Purchase</th>\n",
       "      <td>3.995448e+04</td>\n",
       "      <td>662.129868</td>\n",
       "      <td>-2.118050</td>\n",
       "      <td>-6262.854928</td>\n",
       "      <td>812.574982</td>\n",
       "      <td>8913.525816</td>\n",
       "      <td>2.396630e+07</td>\n",
       "    </tr>\n",
       "  </tbody>\n",
       "</table>\n",
       "</div>"
      ],
      "text/plain": [
       "                         User_ID  Occupation  Marital_Status  \\\n",
       "User_ID             2.938243e+06 -259.157409       15.673851   \n",
       "Occupation         -2.591574e+02   42.551512        0.078639   \n",
       "Marital_Status      1.567385e+01    0.078639        0.241651   \n",
       "Product_Category_1  2.223188e+01   -0.212696        0.037164   \n",
       "Product_Category_2  3.497713e+01    0.268939        0.002677   \n",
       "Product_Category_3  4.418069e+01    0.488749       -0.013706   \n",
       "Purchase            3.995448e+04  662.129868       -2.118050   \n",
       "\n",
       "                    Product_Category_1  Product_Category_2  \\\n",
       "User_ID                      22.231876           34.977127   \n",
       "Occupation                   -0.212696            0.268939   \n",
       "Marital_Status                0.037164            0.002677   \n",
       "Product_Category_1           13.981018           -1.081807   \n",
       "Product_Category_2           -1.081807           38.481980   \n",
       "Product_Category_3           -9.175687            3.506119   \n",
       "Purchase                  -6262.854928          812.574982   \n",
       "\n",
       "                    Product_Category_3      Purchase  \n",
       "User_ID                      44.180688  3.995448e+04  \n",
       "Occupation                    0.488749  6.621299e+02  \n",
       "Marital_Status               -0.013706 -2.118050e+00  \n",
       "Product_Category_1           -9.175687 -6.262855e+03  \n",
       "Product_Category_2            3.506119  8.125750e+02  \n",
       "Product_Category_3           39.227552  8.913526e+03  \n",
       "Purchase                   8913.525816  2.396630e+07  "
      ]
     },
     "execution_count": 14,
     "metadata": {},
     "output_type": "execute_result"
    }
   ],
   "source": [
    "# (solo informativo)\n",
    "\n",
    "# Número de valores diferentes por campo\n",
    "print('Número de valores distintos: \\n')\n",
    "for i in bf_data.columns:\n",
    "    print i, ':',bf_data[i].nunique()\n",
    "    \n",
    "# Tipo de datos de cada campo\n",
    "print('\\nTipo de datos: \\n')\n",
    "print (bf_data.info())\n",
    "\n",
    "# Matriz de covarianzas \n",
    "print('\\nMatriz de covarianzas: \\n')\n",
    "bf_data.cov()"
   ]
  },
  {
   "cell_type": "markdown",
   "metadata": {},
   "source": [
    "# Análisis de datos"
   ]
  },
  {
   "cell_type": "markdown",
   "metadata": {},
   "source": [
    "## Selección de los grupos de datos que se quieren analizar/comparar (planificación de los análisis a aplicar)"
   ]
  },
  {
   "cell_type": "code",
   "execution_count": 15,
   "metadata": {},
   "outputs": [
    {
     "data": {
      "text/plain": [
       "User_ID                          int64\n",
       "Product_ID                      object\n",
       "Gender                        category\n",
       "Age                           category\n",
       "Occupation                    category\n",
       "City_Category                 category\n",
       "Stay_In_Current_City_Years      object\n",
       "Marital_Status                category\n",
       "Product_Category_1            category\n",
       "Product_Category_2            category\n",
       "Product_Category_3            category\n",
       "Purchase                         int64\n",
       "dtype: object"
      ]
     },
     "execution_count": 15,
     "metadata": {},
     "output_type": "execute_result"
    }
   ],
   "source": [
    "for column in cat_values:\n",
    "    bf_data[column] = bf_data[column].astype('category')\n",
    "bf_data.dtypes"
   ]
  },
  {
   "cell_type": "code",
   "execution_count": 16,
   "metadata": {},
   "outputs": [
    {
     "data": {
      "text/html": [
       "<div>\n",
       "<style scoped>\n",
       "    .dataframe tbody tr th:only-of-type {\n",
       "        vertical-align: middle;\n",
       "    }\n",
       "\n",
       "    .dataframe tbody tr th {\n",
       "        vertical-align: top;\n",
       "    }\n",
       "\n",
       "    .dataframe thead th {\n",
       "        text-align: right;\n",
       "    }\n",
       "</style>\n",
       "<table border=\"1\" class=\"dataframe\">\n",
       "  <thead>\n",
       "    <tr style=\"text-align: right;\">\n",
       "      <th></th>\n",
       "      <th>User_ID</th>\n",
       "      <th>Purchase</th>\n",
       "    </tr>\n",
       "  </thead>\n",
       "  <tbody>\n",
       "    <tr>\n",
       "      <th>count</th>\n",
       "      <td>5.349120e+05</td>\n",
       "      <td>534912.000000</td>\n",
       "    </tr>\n",
       "    <tr>\n",
       "      <th>mean</th>\n",
       "      <td>1.002991e+06</td>\n",
       "      <td>9264.683312</td>\n",
       "    </tr>\n",
       "    <tr>\n",
       "      <th>std</th>\n",
       "      <td>1.714130e+03</td>\n",
       "      <td>4895.538823</td>\n",
       "    </tr>\n",
       "    <tr>\n",
       "      <th>min</th>\n",
       "      <td>1.000001e+06</td>\n",
       "      <td>185.000000</td>\n",
       "    </tr>\n",
       "    <tr>\n",
       "      <th>25%</th>\n",
       "      <td>1.001495e+06</td>\n",
       "      <td>5857.000000</td>\n",
       "    </tr>\n",
       "    <tr>\n",
       "      <th>50%</th>\n",
       "      <td>1.003031e+06</td>\n",
       "      <td>8052.000000</td>\n",
       "    </tr>\n",
       "    <tr>\n",
       "      <th>75%</th>\n",
       "      <td>1.004416e+06</td>\n",
       "      <td>12037.000000</td>\n",
       "    </tr>\n",
       "    <tr>\n",
       "      <th>max</th>\n",
       "      <td>1.006040e+06</td>\n",
       "      <td>21382.000000</td>\n",
       "    </tr>\n",
       "  </tbody>\n",
       "</table>\n",
       "</div>"
      ],
      "text/plain": [
       "            User_ID       Purchase\n",
       "count  5.349120e+05  534912.000000\n",
       "mean   1.002991e+06    9264.683312\n",
       "std    1.714130e+03    4895.538823\n",
       "min    1.000001e+06     185.000000\n",
       "25%    1.001495e+06    5857.000000\n",
       "50%    1.003031e+06    8052.000000\n",
       "75%    1.004416e+06   12037.000000\n",
       "max    1.006040e+06   21382.000000"
      ]
     },
     "execution_count": 16,
     "metadata": {},
     "output_type": "execute_result"
    }
   ],
   "source": [
    "#análisis estadístico descriptivo\n",
    "bf_data.describe()"
   ]
  },
  {
   "cell_type": "code",
   "execution_count": 18,
   "metadata": {},
   "outputs": [],
   "source": [
    "#Eliminamos las variables Product_category_2 y Product_category_3\n",
    "bf_data = bf_data.drop(['Product_Category_2', 'Product_Category_3'], axis=1)"
   ]
  },
  {
   "cell_type": "markdown",
   "metadata": {},
   "source": [
    "## Comprobación de la normalidad y homogeneidad de la varianza "
   ]
  },
  {
   "cell_type": "raw",
   "metadata": {},
   "source": [
    "Como la mayoría de las variables son categóricas, analizaremos la comprobación de normalidad sobre el subset de Purchase que corresponde a las variables categóricas que consideramos relevantes.  "
   ]
  },
  {
   "cell_type": "code",
   "execution_count": 21,
   "metadata": {},
   "outputs": [
    {
     "data": {
      "text/plain": [
       "(array([ 7918., 23542., 10933., 38142., 49502., 35184., 57682., 75845.,\n",
       "        27678., 36034., 28468., 25251., 11483.,  1033., 49848., 15049.,\n",
       "          572., 13481., 20459.,  6808.]),\n",
       " array([  185.  ,  1244.85,  2304.7 ,  3364.55,  4424.4 ,  5484.25,\n",
       "         6544.1 ,  7603.95,  8663.8 ,  9723.65, 10783.5 , 11843.35,\n",
       "        12903.2 , 13963.05, 15022.9 , 16082.75, 17142.6 , 18202.45,\n",
       "        19262.3 , 20322.15, 21382.  ]),\n",
       " <a list of 20 Patch objects>)"
      ]
     },
     "execution_count": 21,
     "metadata": {},
     "output_type": "execute_result"
    },
    {
     "data": {
      "image/png": "[encoded data removed]",
      "text/plain": [
       "<Figure size 432x288 with 1 Axes>"
      ]
     },
     "metadata": {
      "needs_background": "light"
     },
     "output_type": "display_data"
    }
   ],
   "source": [
    "#visualizamos la distribución de la variable Purchase\n",
    "plt.hist(bf_data['Purchase'], bins=20)"
   ]
  },
  {
   "cell_type": "raw",
   "metadata": {},
   "source": [
    "El histograma de la variable Purchase prevee que esta variable no sea normal, aplicamos el test shapiro para esta variable y otros subsets de diferentes categorías  "
   ]
  },
  {
   "cell_type": "code",
   "execution_count": 22,
   "metadata": {},
   "outputs": [
    {
     "data": {
      "text/plain": [
       "(0.9481609463691711, 8.501756255772667e-39)"
      ]
     },
     "execution_count": 22,
     "metadata": {},
     "output_type": "execute_result"
    }
   ],
   "source": [
    "#Aplicamos el test shapiro sobre una muestra porque en la primera prueba obtenemos una advertencia de que el resultado \n",
    "#de p-value no es preciso para muestras mayores a 5000\n",
    "stats.shapiro(bf_data['Purchase'].sample(n=5000, random_state=1))"
   ]
  },
  {
   "cell_type": "raw",
   "metadata": {},
   "source": [
    "Podemos concluir que la variable Purchase no es normal porque el p-value <0.05. Por tanto, se rechaza la hipótesis nula."
   ]
  },
  {
   "cell_type": "code",
   "execution_count": 23,
   "metadata": {},
   "outputs": [
    {
     "name": "stdout",
     "output_type": "stream",
     "text": [
      "{'GenderF': 2.5066778487601058e-36}\n",
      "{'GenderM': 4.8127757814600645e-35}\n",
      "{'Age0-17': 5.139896688634084e-35}\n",
      "{'Age55+': 9.008948526672442e-35}\n",
      "{'Age26-35': 5.026331586775207e-37}\n",
      "{'Age46-50': 1.0039744573860795e-34}\n",
      "{'Age51-55': 5.787979785021028e-35}\n",
      "{'Age36-45': 1.2200622319021308e-34}\n",
      "{'Age18-25': 1.8001336817500195e-34}\n",
      "{'City_CategoryA': 6.918803054624665e-36}\n",
      "{'City_CategoryC': 2.0746218293659712e-35}\n",
      "{'City_CategoryB': 1.3683688669744834e-34}\n",
      "{'Marital_Status0': 7.594307656192534e-36}\n",
      "{'Marital_Status1': 1.2874526113096774e-34}\n"
     ]
    }
   ],
   "source": [
    "#Analizamos la normalidad de la variable Purchase sobre las muestras de las variables Gender, Age, \n",
    "#City_category y Marital_Status\n",
    "\n",
    "bf_data['Marital_Status'] = bf_data['Marital_Status'].astype('string')\n",
    "data_select = ['Gender', 'Age', 'City_Category', 'Marital_Status']\n",
    "for value in data_select:\n",
    "    var = bf_data[value].unique()\n",
    "    for i in range(len(var)):\n",
    "        shap_num = stats.shapiro(bf_data['Purchase'][bf_data[value]==var[i]].sample(n=4000, random_state =1))\n",
    "        shap_dict = {value +  var[i]: shap_num[1]}\n",
    "        print shap_dict\n",
    "        "
   ]
  },
  {
   "cell_type": "raw",
   "metadata": {},
   "source": [
    "Observamos que la variable Purchase con respecto a las variables 'Gender', 'Age', 'City_Category', 'Marital_Status' presenta una distribución no normal. Sin embargo, como la muestra es grande podemos aplicar el teorema del límite central para asumir normalidad."
   ]
  },
  {
   "cell_type": "code",
   "execution_count": 24,
   "metadata": {},
   "outputs": [
    {
     "name": "stdout",
     "output_type": "stream",
     "text": [
      "{'GenderF & Purchase': 'presentan varianzas diferentes'}\n",
      "{'GenderM & Purchase': 'presentan varianzas diferentes'}\n",
      "{'Age0-17 & Purchase': 'presentan varianzas diferentes'}\n",
      "{'Age55+ & Purchase': 'presentan varianzas diferentes'}\n",
      "{'Age26-35 & Purchase': 'presentan varianzas similares'}\n",
      "{'Age46-50 & Purchase': 'presentan varianzas diferentes'}\n",
      "{'Age51-55 & Purchase': 'presentan varianzas similares'}\n",
      "{'Age36-45 & Purchase': 'presentan varianzas similares'}\n",
      "{'Age18-25 & Purchase': 'presentan varianzas diferentes'}\n",
      "{'City_CategoryA & Purchase': 'presentan varianzas diferentes'}\n",
      "{'City_CategoryC & Purchase': 'presentan varianzas diferentes'}\n",
      "{'City_CategoryB & Purchase': 'presentan varianzas diferentes'}\n",
      "{'Marital_Status0 & Purchase': 'presentan varianzas similares'}\n",
      "{'Marital_Status1 & Purchase': 'presentan varianzas diferentes'}\n"
     ]
    }
   ],
   "source": [
    "#Probamos la homosteceidad \n",
    "for value in data_select:\n",
    "    var = bf_data[value].unique()\n",
    "    for i in range(len(var)):\n",
    "        flig_num = stats.fligner(bf_data['Purchase'], bf_data['Purchase'][bf_data[value]==var[i]])\n",
    "        if flig_num[1] <0.05:\n",
    "            flig_stat = u\"presentan varianzas diferentes\"\n",
    "        elif flig_num[1] >= 0.05:\n",
    "            flig_stat = u\"presentan varianzas similares\"\n",
    "        flig_dict = {value +  var[i] + \" & Purchase\": flig_stat.encode('utf8')}\n",
    "        print flig_dict\n",
    "        "
   ]
  },
  {
   "cell_type": "raw",
   "metadata": {},
   "source": [
    "Observamos que Purchase presenta varianzas similares con respecto a los siguientes grupos:\n",
    "Personas entre 26 y 45 años\n",
    "Personas entre 51 y 55 años\n",
    "Personas con estado civil representado por '0'"
   ]
  },
  {
   "cell_type": "code",
   "execution_count": 25,
   "metadata": {},
   "outputs": [
    {
     "name": "stdout",
     "output_type": "stream",
     "text": [
      "Gender  es independiente de  Product_Category_1\n",
      "Age  es independiente de  Product_Category_1\n",
      "City_Category  es independiente de  Product_Category_1\n",
      "Marital_Status  es independiente de  Product_Category_1\n",
      "Occupation  es independiente de  Product_Category_1\n",
      "City_Category  es independiente de  Product_Category_1\n"
     ]
    }
   ],
   "source": [
    "# Estudio de la dependencia de variables categóricas: Test Chi Cuadrado \n",
    "user_att = ['Gender', 'Age', 'City_Category', 'Marital_Status', 'Occupation', 'City_Category' ]\n",
    "p_cat = ['Product_Category_1']\n",
    "\n",
    "# Nuestra hipótesis nula será que no existe relación entre la categoría de producto\n",
    "# y cada una de las variables en data_select.\n",
    "for i in user_att:\n",
    "    for j in p_cat:\n",
    "        tabla_cont = pd.crosstab(bf_data[i], bf_data[j])\n",
    "        chi2, p, dof, ex = stats.chi2_contingency(tabla_cont, correction=True, lambda_=None)\n",
    "        if p <0.05:\n",
    "            print i, ' es independiente de ', j\n",
    "        else:\n",
    "            print i, ' puede que sea independiente de Product_Category_1, estudiar más a fondo ', j"
   ]
  },
  {
   "cell_type": "code",
   "execution_count": 29,
   "metadata": {},
   "outputs": [],
   "source": [
    "#creamos una nueva variable para predecir el tipo de cliente de acuerdo a lo que gasta\n",
    "bf_data['Purch_class'] = np.where(bf_data['Purchase']>=14000, 'premium', 'standard')\n",
    "\n",
    "#separamos las variables dependientes e independientes\n",
    "X = bf_data.drop(['Purchase', 'Purch_class'], axis=1)\n",
    "Y = bf_data['Purch_class']\n",
    "\n",
    "#seleccionamos las variables categóricas a aplicar LabelEncoder para aplicar el algoritmo de clasificación\n",
    "level_var = ['Gender', 'Age', 'City_Category', 'Stay_In_Current_City_Years', 'User_ID', 'Product_ID']\n",
    "#transformamos las variables categóricas en números que corresponden a cada categoría\n",
    "for feature in level_var:\n",
    "    X.loc[:,feature] = LabelEncoder().fit_transform(X[feature])\n",
    "\n",
    "Y = LabelEncoder().fit_transform(Y)\n",
    "\n",
    "#obtenemos los datos de entrenamiento y evaluación\n",
    "X_train, X_test, Y_train, Y_test = train_test_split(X, Y, test_size=0.2)"
   ]
  },
  {
   "cell_type": "code",
   "execution_count": 30,
   "metadata": {},
   "outputs": [
    {
     "data": {
      "text/plain": [
       "0.7978931232064908"
      ]
     },
     "execution_count": 30,
     "metadata": {},
     "output_type": "execute_result"
    }
   ],
   "source": [
    "from sklearn.naive_bayes import GaussianNB\n",
    "#aplicamos GaussianNB\n",
    "clf = GaussianNB()\n",
    "clf.fit(X_train, Y_train)\n",
    "y_pred=clf.predict(X_test)\n",
    "metrics.accuracy_score(Y_test, y_pred)"
   ]
  },
  {
   "cell_type": "code",
   "execution_count": 31,
   "metadata": {},
   "outputs": [
    {
     "data": {
      "text/plain": [
       "0.8679322883074881"
      ]
     },
     "execution_count": 31,
     "metadata": {},
     "output_type": "execute_result"
    }
   ],
   "source": [
    "#aplicamos Random Forest\n",
    "clf = RandomForestClassifier(n_estimators=40)\n",
    "clf.fit(X_train,Y_train)\n",
    "\n",
    "y_pred=clf.predict(X_test)\n",
    "#calculamos la precisión y lo comparamos con GaussianNB\n",
    "metrics.accuracy_score(Y_test, y_pred)"
   ]
  },
  {
   "cell_type": "code",
   "execution_count": 33,
   "metadata": {},
   "outputs": [
    {
     "name": "stderr",
     "output_type": "stream",
     "text": [
      "/anaconda3/envs/py27/lib/python2.7/site-packages/sklearn/preprocessing/_encoders.py:371: FutureWarning: The handling of integer data will change in version 0.22. Currently, the categories are determined based on the range [0, max(values)], while in the future they will be determined based on the unique values.\n",
      "If you want the future behaviour and silence this warning, you can specify \"categories='auto'\".\n",
      "In case you used a LabelEncoder before this OneHotEncoder to convert the categories to integers, then you can now use the OneHotEncoder directly.\n",
      "  warnings.warn(msg, FutureWarning)\n"
     ]
    },
    {
     "data": {
      "text/html": [
       "<div>\n",
       "<style scoped>\n",
       "    .dataframe tbody tr th:only-of-type {\n",
       "        vertical-align: middle;\n",
       "    }\n",
       "\n",
       "    .dataframe tbody tr th {\n",
       "        vertical-align: top;\n",
       "    }\n",
       "\n",
       "    .dataframe thead th {\n",
       "        text-align: right;\n",
       "    }\n",
       "</style>\n",
       "<table border=\"1\" class=\"dataframe\">\n",
       "  <thead>\n",
       "    <tr style=\"text-align: right;\">\n",
       "      <th></th>\n",
       "      <th>Gender_0.0</th>\n",
       "      <th>Gender_1.0</th>\n",
       "      <th>Age_0.0</th>\n",
       "      <th>Age_1.0</th>\n",
       "      <th>Occupation_0.0</th>\n",
       "      <th>Occupation_1.0</th>\n",
       "      <th>City_Category_0.0</th>\n",
       "      <th>City_Category_1.0</th>\n",
       "      <th>Stay_In_Current_City_Years_0.0</th>\n",
       "      <th>Stay_In_Current_City_Years_1.0</th>\n",
       "      <th>Stay_In_Current_City_Years_2.0</th>\n",
       "      <th>Stay_In_Current_City_Years_3.0</th>\n",
       "      <th>Stay_In_Current_City_Years_4.0</th>\n",
       "      <th>Marital_Status_0.0</th>\n",
       "      <th>Marital_Status_1.0</th>\n",
       "      <th>Purch_class_0.0</th>\n",
       "      <th>Purch_class_1.0</th>\n",
       "    </tr>\n",
       "    <tr>\n",
       "      <th>User_ID</th>\n",
       "      <th></th>\n",
       "      <th></th>\n",
       "      <th></th>\n",
       "      <th></th>\n",
       "      <th></th>\n",
       "      <th></th>\n",
       "      <th></th>\n",
       "      <th></th>\n",
       "      <th></th>\n",
       "      <th></th>\n",
       "      <th></th>\n",
       "      <th></th>\n",
       "      <th></th>\n",
       "      <th></th>\n",
       "      <th></th>\n",
       "      <th></th>\n",
       "      <th></th>\n",
       "    </tr>\n",
       "  </thead>\n",
       "  <tbody>\n",
       "    <tr>\n",
       "      <th>1000002</th>\n",
       "      <td>1.0</td>\n",
       "      <td>0.0</td>\n",
       "      <td>1.0</td>\n",
       "      <td>0.0</td>\n",
       "      <td>1.0</td>\n",
       "      <td>0.0</td>\n",
       "      <td>1.0</td>\n",
       "      <td>0.0</td>\n",
       "      <td>0.0</td>\n",
       "      <td>0.0</td>\n",
       "      <td>0.0</td>\n",
       "      <td>0.0</td>\n",
       "      <td>1.0</td>\n",
       "      <td>1.0</td>\n",
       "      <td>0.0</td>\n",
       "      <td>1.0</td>\n",
       "      <td>0.0</td>\n",
       "    </tr>\n",
       "    <tr>\n",
       "      <th>1000003</th>\n",
       "      <td>1.0</td>\n",
       "      <td>0.0</td>\n",
       "      <td>1.0</td>\n",
       "      <td>0.0</td>\n",
       "      <td>1.0</td>\n",
       "      <td>0.0</td>\n",
       "      <td>0.0</td>\n",
       "      <td>1.0</td>\n",
       "      <td>0.0</td>\n",
       "      <td>0.0</td>\n",
       "      <td>0.0</td>\n",
       "      <td>1.0</td>\n",
       "      <td>0.0</td>\n",
       "      <td>1.0</td>\n",
       "      <td>0.0</td>\n",
       "      <td>1.0</td>\n",
       "      <td>0.0</td>\n",
       "    </tr>\n",
       "    <tr>\n",
       "      <th>1000006</th>\n",
       "      <td>0.0</td>\n",
       "      <td>1.0</td>\n",
       "      <td>1.0</td>\n",
       "      <td>0.0</td>\n",
       "      <td>1.0</td>\n",
       "      <td>0.0</td>\n",
       "      <td>0.0</td>\n",
       "      <td>1.0</td>\n",
       "      <td>0.0</td>\n",
       "      <td>1.0</td>\n",
       "      <td>0.0</td>\n",
       "      <td>0.0</td>\n",
       "      <td>0.0</td>\n",
       "      <td>1.0</td>\n",
       "      <td>0.0</td>\n",
       "      <td>0.0</td>\n",
       "      <td>1.0</td>\n",
       "    </tr>\n",
       "    <tr>\n",
       "      <th>1000008</th>\n",
       "      <td>1.0</td>\n",
       "      <td>0.0</td>\n",
       "      <td>1.0</td>\n",
       "      <td>0.0</td>\n",
       "      <td>1.0</td>\n",
       "      <td>0.0</td>\n",
       "      <td>1.0</td>\n",
       "      <td>0.0</td>\n",
       "      <td>0.0</td>\n",
       "      <td>0.0</td>\n",
       "      <td>0.0</td>\n",
       "      <td>0.0</td>\n",
       "      <td>1.0</td>\n",
       "      <td>0.0</td>\n",
       "      <td>1.0</td>\n",
       "      <td>0.0</td>\n",
       "      <td>1.0</td>\n",
       "    </tr>\n",
       "    <tr>\n",
       "      <th>1000011</th>\n",
       "      <td>0.0</td>\n",
       "      <td>1.0</td>\n",
       "      <td>1.0</td>\n",
       "      <td>0.0</td>\n",
       "      <td>1.0</td>\n",
       "      <td>0.0</td>\n",
       "      <td>1.0</td>\n",
       "      <td>0.0</td>\n",
       "      <td>0.0</td>\n",
       "      <td>1.0</td>\n",
       "      <td>0.0</td>\n",
       "      <td>0.0</td>\n",
       "      <td>0.0</td>\n",
       "      <td>1.0</td>\n",
       "      <td>0.0</td>\n",
       "      <td>0.0</td>\n",
       "      <td>1.0</td>\n",
       "    </tr>\n",
       "  </tbody>\n",
       "</table>\n",
       "</div>"
      ],
      "text/plain": [
       "         Gender_0.0  Gender_1.0  Age_0.0  Age_1.0  Occupation_0.0  \\\n",
       "User_ID                                                             \n",
       "1000002         1.0         0.0      1.0      0.0             1.0   \n",
       "1000003         1.0         0.0      1.0      0.0             1.0   \n",
       "1000006         0.0         1.0      1.0      0.0             1.0   \n",
       "1000008         1.0         0.0      1.0      0.0             1.0   \n",
       "1000011         0.0         1.0      1.0      0.0             1.0   \n",
       "\n",
       "         Occupation_1.0  City_Category_0.0  City_Category_1.0  \\\n",
       "User_ID                                                         \n",
       "1000002             0.0                1.0                0.0   \n",
       "1000003             0.0                0.0                1.0   \n",
       "1000006             0.0                0.0                1.0   \n",
       "1000008             0.0                1.0                0.0   \n",
       "1000011             0.0                1.0                0.0   \n",
       "\n",
       "         Stay_In_Current_City_Years_0.0  Stay_In_Current_City_Years_1.0  \\\n",
       "User_ID                                                                   \n",
       "1000002                             0.0                             0.0   \n",
       "1000003                             0.0                             0.0   \n",
       "1000006                             0.0                             1.0   \n",
       "1000008                             0.0                             0.0   \n",
       "1000011                             0.0                             1.0   \n",
       "\n",
       "         Stay_In_Current_City_Years_2.0  Stay_In_Current_City_Years_3.0  \\\n",
       "User_ID                                                                   \n",
       "1000002                             0.0                             0.0   \n",
       "1000003                             0.0                             1.0   \n",
       "1000006                             0.0                             0.0   \n",
       "1000008                             0.0                             0.0   \n",
       "1000011                             0.0                             0.0   \n",
       "\n",
       "         Stay_In_Current_City_Years_4.0  Marital_Status_0.0  \\\n",
       "User_ID                                                       \n",
       "1000002                             1.0                 1.0   \n",
       "1000003                             0.0                 1.0   \n",
       "1000006                             0.0                 1.0   \n",
       "1000008                             1.0                 0.0   \n",
       "1000011                             0.0                 1.0   \n",
       "\n",
       "         Marital_Status_1.0  Purch_class_0.0  Purch_class_1.0  \n",
       "User_ID                                                        \n",
       "1000002                 0.0              1.0              0.0  \n",
       "1000003                 0.0              1.0              0.0  \n",
       "1000006                 0.0              0.0              1.0  \n",
       "1000008                 1.0              0.0              1.0  \n",
       "1000011                 0.0              0.0              1.0  "
      ]
     },
     "execution_count": 33,
     "metadata": {},
     "output_type": "execute_result"
    }
   ],
   "source": [
    "# CLUSTERING K-Means\n",
    "# Buscamos agrupaciones de datos midiendo la distancia entre las observaciones.\n",
    "# Las variables categóricas las transformaremos en paramétricas para poder medir distancias entre ellas\n",
    "# Para ello utilizaremos el método de One-Hot-Encoder \n",
    "\n",
    "from sklearn.preprocessing import OneHotEncoder\n",
    "from sklearn.preprocessing import LabelEncoder\n",
    "from sklearn.preprocessing import StandardScaler\n",
    "from sklearn.cluster import KMeans\n",
    "\n",
    "# Tomamos una muestra más reducida para probar los datos\n",
    "bf_sample = bf_data.sample(n=3000, random_state =1)\n",
    "\n",
    "# Vamos a intentar agrupar los clientes por las compras que hayan hecho por categoría 1\n",
    "# Primero nos quedamos solo con los atributos propios del usuario y nos quedamos con \n",
    "# una línea por user_id.\n",
    "bf_clus = bf_sample.drop(['Product_ID', 'Product_Category_1', 'Purchase'], axis=1).groupby('User_ID')\n",
    "\n",
    "bf_clus = bf_clus.agg(lambda x: x.value_counts().index[-1])\n",
    "\n",
    "# Creamos columnas concatenando atributo-valor y rellenamos con 1 en las características que cumple y 0 en el resto\n",
    "\n",
    "columnas = list(bf_clus.columns.values)\n",
    "# Codificamos los posibles valores de cada columna\n",
    "for col in columnas:\n",
    "    bf_clus.loc[:,col] = LabelEncoder().fit_transform(bf_clus[col])\n",
    "#Definimos el codificador\n",
    "encoder = OneHotEncoder().fit(bf_clus[columnas])\n",
    "# Añadimos las columnas concatenadas\n",
    "bf_clus = pd.concat([bf_clus, pd.DataFrame(encoder.transform(bf_clus[columnas]).toarray(), \n",
    "                                       index=bf_clus.index, columns=encoder.get_feature_names(columnas))], axis=1)\n",
    "# Eliminamos las anteriores\n",
    "bf_clus.drop(columnas, axis=1, inplace=True)\n",
    "\n",
    "bf_clus.head(5)\n"
   ]
  },
  {
   "cell_type": "code",
   "execution_count": 34,
   "metadata": {},
   "outputs": [],
   "source": [
    "# Creamos columnas para cada categoría 1 y agregamos las ventas\n",
    "cat_1 = pd.pivot_table(\n",
    "        bf_sample[['User_ID', 'Product_Category_1', 'Purchase']],\n",
    "        values='Purchase',\n",
    "        index='User_ID',\n",
    "        columns='Product_Category_1',\n",
    "        aggfunc=np.sum\n",
    "    ).fillna(0) \n",
    "bf_clus = bf_clus.join(cat_1)\n",
    "\n",
    "# Unificamos la escala de los datos\n",
    "bf_clus_es = StandardScaler().fit_transform(bf_clus)"
   ]
  },
  {
   "cell_type": "code",
   "execution_count": 35,
   "metadata": {},
   "outputs": [
    {
     "data": {
      "image/png": "[encoded data removed]",
      "text/plain": [
       "<Figure size 432x288 with 1 Axes>"
      ]
     },
     "metadata": {
      "needs_background": "light"
     },
     "output_type": "display_data"
    }
   ],
   "source": [
    "# Seleccionamos el número de clústeres que queremos crear por el método del codo\n",
    "modelos = []\n",
    "distancias = []\n",
    "K = range(1,15)\n",
    "for k in K:\n",
    "    km = KMeans(n_clusters=k)\n",
    "    km = km.fit(bf_clus_es)\n",
    "    distancias.append(km.inertia_)\n",
    "    modelos.append(km)\n",
    "plt.plot(K, distancias, 'o-')\n",
    "plt.show()"
   ]
  },
  {
   "cell_type": "code",
   "execution_count": 36,
   "metadata": {},
   "outputs": [
    {
     "name": "stdout",
     "output_type": "stream",
     "text": [
      "Silhouette con k =  1 es 0.141225527856174\n",
      "Silhouette con k =  2 es 0.15450570003997904\n",
      "Silhouette con k =  3 es 0.09628284111251834\n",
      "Silhouette con k =  4 es 0.08424403625229057\n",
      "Silhouette con k =  5 es 0.10290994433036114\n",
      "Silhouette con k =  6 es 0.11111349231852477\n",
      "Silhouette con k =  7 es 0.09151636950322663\n",
      "Silhouette con k =  8 es 0.08788293314520088\n",
      "Silhouette con k =  9 es 0.08719573270929919\n",
      "Silhouette con k =  10 es 0.10259132518938177\n",
      "Silhouette con k =  11 es 0.09683302993699731\n",
      "Silhouette con k =  12 es 0.11543480276786426\n",
      "Silhouette con k =  13 es 0.10760146429838394\n"
     ]
    }
   ],
   "source": [
    "# Como es dificil encontrar el codo en la gráfica,\n",
    "# vemos qué valores toma la silueta para distintos k\n",
    "from sklearn.metrics import silhouette_score\n",
    "\n",
    "K = range(1,14)\n",
    "\n",
    "for k in K:\n",
    "    km = modelos[k]\n",
    "    a = silhouette_score(bf_clus_es, km.predict(bf_clus_es))\n",
    "    print \"Silhouette con k = \", k, \"es\", a\n",
    " "
   ]
  },
  {
   "cell_type": "code",
   "execution_count": 37,
   "metadata": {},
   "outputs": [],
   "source": [
    "#Aplicamos regresión para predecir el valor de purchase\n",
    "#X se mantiene igual\n",
    "#Y ahora será Purchase\n",
    "Y = bf_data['Purchase']\n",
    "\n",
    "#separamos los datos \n",
    "X_train, X_test, Y_train, Y_test = train_test_split(X, Y, test_size=0.2)"
   ]
  },
  {
   "cell_type": "code",
   "execution_count": 38,
   "metadata": {},
   "outputs": [],
   "source": [
    "clf = RandomForestRegressor(n_estimators=40)\n",
    "clf.fit(X_train, Y_train)\n",
    "y_pred = clf.predict(X_test)\n",
    "\n"
   ]
  },
  {
   "cell_type": "code",
   "execution_count": 39,
   "metadata": {},
   "outputs": [
    {
     "data": {
      "text/plain": [
       "0.680748932304181"
      ]
     },
     "execution_count": 39,
     "metadata": {},
     "output_type": "execute_result"
    }
   ],
   "source": [
    "from sklearn.metrics import r2_score\n",
    "r2_score(Y_test, y_pred)\n"
   ]
  },
  {
   "cell_type": "code",
   "execution_count": 40,
   "metadata": {},
   "outputs": [
    {
     "data": {
      "text/plain": [
       "0.6693054984468458"
      ]
     },
     "execution_count": 40,
     "metadata": {},
     "output_type": "execute_result"
    }
   ],
   "source": [
    "from sklearn.ensemble import GradientBoostingRegressor\n",
    "\n",
    "model = GradientBoostingRegressor(n_estimators = 100, max_depth = 5, min_samples_split = 2)\n",
    "model.fit(X_train, Y_train)\n",
    "\n",
    "y_pred = model.predict(X_test)\n",
    "\n",
    "r2_score(Y_test, y_pred)"
   ]
  }
 ],
 "metadata": {
  "kernelspec": {
   "display_name": "Python 2",
   "language": "python",
   "name": "python2"
  },
  "language_info": {
   "codemirror_mode": {
    "name": "ipython",
    "version": 2
   },
   "file_extension": ".py",
   "mimetype": "text/x-python",
   "name": "python",
   "nbconvert_exporter": "python",
   "pygments_lexer": "ipython2",
   "version": "2.7.15"
  }
 },
 "nbformat": 4,
 "nbformat_minor": 2
}
